{
 "cells": [
  {
   "cell_type": "markdown",
   "metadata": {},
   "source": [
    "#  <font color=red> Module_16_模組設計與使用 </font> "
   ]
  },
  {
   "cell_type": "markdown",
   "metadata": {},
   "source": [
    "# import 模組名稱\n",
    "##  import 模組名稱.函式名稱"
   ]
  },
  {
   "cell_type": "code",
   "execution_count": null,
   "metadata": {},
   "outputs": [],
   "source": [
    "# 容器: 數據的封裝\n",
    "# 函數: 語句的封裝\n",
    "# 類別: 方法與屬性的封裝\n",
    "# 模組 module: 模組就是 .py 檔\n",
    "\n",
    "# 導入模組 \n",
    "\n",
    "import hello\n",
    "\n",
    "print(hello.hi())"
   ]
  },
  {
   "cell_type": "code",
   "execution_count": null,
   "metadata": {},
   "outputs": [],
   "source": [
    "# 第一種引進方式\n",
    "# 要跟檔案統一目錄下\n",
    "\n",
    "import TemperatureConversion\n",
    "\n",
    "print(f'32攝氏度 = {TemperatureConversion.c2f(32):.2f} 華氏度')\n",
    "print(f'99華氏度 = {TemperatureConversion.f2c(99):.2f} 攝氏度')"
   ]
  },
  {
   "cell_type": "code",
   "execution_count": null,
   "metadata": {},
   "outputs": [],
   "source": [
    "# 第二種引進方式 ，匯入模組內的函式\n",
    "# 或直接打 *   ，匯入模組所有函式(危險!)\n",
    "\n",
    "from TemperatureConversion import c2f, f2c\n",
    "\n",
    "print(f'32攝氏度 = {c2f(32):.2f} 華氏度')\n",
    "print(f'99華氏度 = {f2c(99):.2f} 攝氏度')"
   ]
  },
  {
   "cell_type": "code",
   "execution_count": null,
   "metadata": {},
   "outputs": [],
   "source": [
    "# 第三種引進方式 ，把模組取別名\n",
    "\n",
    "import TemperatureConversion as tc \n",
    "\n",
    "print(f'32攝氏度 = {tc.c2f(32):.2f} 華氏度')\n",
    "print(f'99華氏度 = {tc.f2c(99):.2f} 攝氏度')"
   ]
  },
  {
   "cell_type": "code",
   "execution_count": null,
   "metadata": {},
   "outputs": [],
   "source": [
    "#第四種引進方式，把函式取別名\n",
    "\n",
    "from calculate import add as a \n",
    "print(a(5,2))"
   ]
  },
  {
   "cell_type": "code",
   "execution_count": null,
   "metadata": {},
   "outputs": [],
   "source": [
    "# package 的概念\n",
    "# 直接 import bmi 會失敗\n",
    "\n",
    "import mod16.bmi as b\n",
    "# from mod16 import bmi as b\n",
    "\n",
    "print(b.BMI(176, 70))\n"
   ]
  },
  {
   "cell_type": "code",
   "execution_count": null,
   "metadata": {},
   "outputs": [],
   "source": [
    "# package 的概念\n",
    "\n",
    "# import mod16.distance.distance_1d as m\n",
    "from mod16.distance import distance_1d as m\n",
    "\n",
    "print(m.dis(-2, 5))\n",
    "\n"
   ]
  },
  {
   "cell_type": "code",
   "execution_count": null,
   "metadata": {},
   "outputs": [],
   "source": [
    "# 檔案在其他目錄下怎麼辦\n",
    "# 把路徑加入環境變數\n",
    "# 但建議把要用的模組套件放在 site-packges 下\n",
    "\n",
    "import sys\n",
    "\n",
    "# 目前的環境變數\n",
    "print(sys.path) \n",
    "\n",
    "# 加入新的路徑\n",
    "#sys.path.append(\"C:\\\\Users\\\\USER\\Desktop\")\n",
    "\n",
    "# 現在的環境變數\n",
    "#print(sys.path)"
   ]
  },
  {
   "cell_type": "code",
   "execution_count": null,
   "metadata": {},
   "outputs": [],
   "source": [
    "# __name__ = __main__\n",
    "# %run 是jupyter notebook的一種魔法函式，可以直接執行.py檔\n",
    "# 一般的執行方法 ⇒ cmd → 輸入 python xxx.py\n",
    "\n",
    "%run mod16/bmi.py"
   ]
  },
  {
   "cell_type": "code",
   "execution_count": null,
   "metadata": {},
   "outputs": [],
   "source": [
    "# __name__ != __main__\n",
    "# import 只會匯入模組一次 # 要重新匯入的話，要把kernel清除掉。\n",
    "\n",
    "import mod16.bmi"
   ]
  },
  {
   "cell_type": "code",
   "execution_count": null,
   "metadata": {},
   "outputs": [],
   "source": [
    "# 只要是 import， 不會執行 if __name__ = __main__: 以下的語句\n",
    "\n",
    "from mod16.bmi import BMI\n",
    "\n",
    "result = BMI(67,175)\n",
    "print('175cm, 67kg, BMI={:.4f}'.format(result))"
   ]
  },
  {
   "cell_type": "code",
   "execution_count": 1,
   "metadata": {},
   "outputs": [
    {
     "name": "stdout",
     "output_type": "stream",
     "text": [
      "3.141592653589793\n"
     ]
    }
   ],
   "source": [
    "# 內建模組\n",
    "\n",
    "import math\n",
    "print(math.pi)"
   ]
  },
  {
   "cell_type": "code",
   "execution_count": 2,
   "metadata": {},
   "outputs": [
    {
     "name": "stdout",
     "output_type": "stream",
     "text": [
      "-0.9999999999999986 0.9999999999999997\n"
     ]
    }
   ],
   "source": [
    "from math import cos, sin\n",
    "print(cos(3.1415926), sin(3.1415926/2))"
   ]
  },
  {
   "cell_type": "code",
   "execution_count": null,
   "metadata": {},
   "outputs": [],
   "source": [
    "# import * 的缺點\n",
    "\n",
    "pi = 10\n",
    "print(pi)\n",
    "\n",
    "from math import *\n",
    "print(pi)"
   ]
  },
  {
   "cell_type": "code",
   "execution_count": 3,
   "metadata": {},
   "outputs": [
    {
     "data": {
      "text/plain": [
       "['__doc__',\n",
       " '__loader__',\n",
       " '__name__',\n",
       " '__package__',\n",
       " '__spec__',\n",
       " 'acos',\n",
       " 'acosh',\n",
       " 'asin',\n",
       " 'asinh',\n",
       " 'atan',\n",
       " 'atan2',\n",
       " 'atanh',\n",
       " 'ceil',\n",
       " 'comb',\n",
       " 'copysign',\n",
       " 'cos',\n",
       " 'cosh',\n",
       " 'degrees',\n",
       " 'dist',\n",
       " 'e',\n",
       " 'erf',\n",
       " 'erfc',\n",
       " 'exp',\n",
       " 'expm1',\n",
       " 'fabs',\n",
       " 'factorial',\n",
       " 'floor',\n",
       " 'fmod',\n",
       " 'frexp',\n",
       " 'fsum',\n",
       " 'gamma',\n",
       " 'gcd',\n",
       " 'hypot',\n",
       " 'inf',\n",
       " 'isclose',\n",
       " 'isfinite',\n",
       " 'isinf',\n",
       " 'isnan',\n",
       " 'isqrt',\n",
       " 'lcm',\n",
       " 'ldexp',\n",
       " 'lgamma',\n",
       " 'log',\n",
       " 'log10',\n",
       " 'log1p',\n",
       " 'log2',\n",
       " 'modf',\n",
       " 'nan',\n",
       " 'nextafter',\n",
       " 'perm',\n",
       " 'pi',\n",
       " 'pow',\n",
       " 'prod',\n",
       " 'radians',\n",
       " 'remainder',\n",
       " 'sin',\n",
       " 'sinh',\n",
       " 'sqrt',\n",
       " 'tan',\n",
       " 'tanh',\n",
       " 'tau',\n",
       " 'trunc',\n",
       " 'ulp']"
      ]
     },
     "execution_count": 3,
     "metadata": {},
     "output_type": "execute_result"
    }
   ],
   "source": [
    "# 查看 math 模組裡面的函數與變數\n",
    "# dir():傳回 字串 表示檔案、 目錄或資料夾的名稱與指定模式、檔案屬性或是磁碟機的磁碟區標籤相符。\n",
    "import math\n",
    "dir(math)"
   ]
  },
  {
   "cell_type": "code",
   "execution_count": 4,
   "metadata": {},
   "outputs": [
    {
     "name": "stdout",
     "output_type": "stream",
     "text": [
      "矩形面積= 30\n",
      "三角形面積= 15.0\n"
     ]
    }
   ],
   "source": [
    "# 引入類別\n",
    "\n",
    "from Class import Triangle\n",
    "\n",
    "t1 = Triangle(5,6) # 建立 triangle 物件\n",
    "print(\"矩形面積=\", t1.area())   \n",
    "print(\"三角形面積=\", t1.area2())"
   ]
  },
  {
   "cell_type": "code",
   "execution_count": 5,
   "metadata": {},
   "outputs": [
    {
     "name": "stdout",
     "output_type": "stream",
     "text": [
      "__main__\n"
     ]
    }
   ],
   "source": [
    "%run mod16/module.py"
   ]
  },
  {
   "cell_type": "code",
   "execution_count": 6,
   "metadata": {},
   "outputs": [
    {
     "name": "stdout",
     "output_type": "stream",
     "text": [
      "module\n"
     ]
    }
   ],
   "source": [
    "%run mod16/program.py # 只會匯入 module.py 一次，所以在重新執行之後 module.py 裡的 print(__name__) 就不會再次執行了"
   ]
  },
  {
   "cell_type": "code",
   "execution_count": 7,
   "metadata": {},
   "outputs": [
    {
     "name": "stdout",
     "output_type": "stream",
     "text": [
      "__main__\n",
      "C:\\Users\\Crystal\\Desktop\\大數據課程\\Python\\Matt整理講義\\python\\mod16\\bmi.py\n",
      "Height(cm): 161\n",
      "Weight(kg): 45\n",
      "BMI is  17.360441340997646\n"
     ]
    }
   ],
   "source": [
    "%run mod16/bmi.py"
   ]
  },
  {
   "cell_type": "code",
   "execution_count": 8,
   "metadata": {},
   "outputs": [
    {
     "name": "stdout",
     "output_type": "stream",
     "text": [
      "bmi\n",
      "C:\\Users\\Crystal\\Desktop\\大數據課程\\Python\\Matt整理講義\\python\\mod16\\bmi.py\n",
      "175cm,67kg,BMI=21.8776\n"
     ]
    }
   ],
   "source": [
    "%run mod16/ex.py # 只會匯入 bmi.py 一次，所以在重新執行之後 bmi.py 裡的 print(__name__)、print(__file__) 就不會再次執行了"
   ]
  }
 ],
 "metadata": {
  "kernelspec": {
   "display_name": "Python 3",
   "language": "python",
   "name": "python3"
  },
  "language_info": {
   "codemirror_mode": {
    "name": "ipython",
    "version": 3
   },
   "file_extension": ".py",
   "mimetype": "text/x-python",
   "name": "python",
   "nbconvert_exporter": "python",
   "pygments_lexer": "ipython3",
   "version": "3.9.5"
  }
 },
 "nbformat": 4,
 "nbformat_minor": 2
}
