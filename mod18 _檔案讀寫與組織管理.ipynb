{
 "cells": [
  {
   "cell_type": "markdown",
   "metadata": {},
   "source": [
    "#  <font color=red> Module_18_檔案讀寫與組織管理</font>"
   ]
  },
  {
   "cell_type": "markdown",
   "metadata": {},
   "source": [
    "# 檔案讀寫"
   ]
  },
  {
   "cell_type": "markdown",
   "metadata": {},
   "source": [
    "<img src='./mod18/picture1.png' style=\"zoom:70%\" /> \n",
    "<img src='./mod18/picture2.png' style=\"zoom:70%\" /> "
   ]
  },
  {
   "cell_type": "markdown",
   "metadata": {},
   "source": [
    "# open函式\n",
    "## open (檔案名稱 [,模式] [,編碼] )\n",
    "### 檔案名稱 是 \"字串型態\"\n",
    "### 模式 'r'  讀取模式，預設模式\n",
    "### 模式 'w' 寫入模式，檔案如果已存在，內容會被覆蓋\n",
    "### 模式 'a'  附加模式，檔案如果已存在，內容會被附加至尾端"
   ]
  },
  {
   "cell_type": "code",
   "execution_count": null,
   "metadata": {},
   "outputs": [],
   "source": [
    "# 寫入模式, 若檔案已經存在, 內容會被覆蓋\n",
    "fp = open('./mod18/note.txt', mode= 'w', encoding = 'utf-8')\n",
    "fp.write('Python!!\\n')\n",
    "fp.write('iiicccvvvedu\\n')\n",
    "print('Write two data to note.txt!')\n",
    "fp.close()"
   ]
  },
  {
   "cell_type": "code",
   "execution_count": null,
   "metadata": {},
   "outputs": [],
   "source": [
    "# 附加模式, 若檔案已經存在, 內容會被附加到檔案尾端   # a = append\n",
    "fp = open('./mod18/note.txt', mode = 'a', encoding= 'utf-8')\n",
    "fp.write('iii.org.tw\\n')\n",
    "print('Append one data to note.txt!')\n",
    "fp.close()"
   ]
  },
  {
   "cell_type": "code",
   "execution_count": null,
   "metadata": {},
   "outputs": [],
   "source": [
    "# 讀寫檔案比較好的模式, 會自動關閉檔案  # 注意反斜線要轉譯   #csv檔 用 \" , \" 隔開 (很像excel表格)\n",
    "with open('.\\\\mod18\\\\csv_demo.csv', 'a') as f:\n",
    "    f.write('name,grade\\n')\n",
    "    f.write('isaac,60\\n')\n",
    "    f.write('andy,50\\n')\n",
    "    f.write('crystal, 100\\n')"
   ]
  },
  {
   "cell_type": "markdown",
   "metadata": {},
   "source": [
    "## 檔案讀取"
   ]
  },
  {
   "cell_type": "code",
   "execution_count": null,
   "metadata": {},
   "outputs": [],
   "source": [
    "# r 模式, 只能讀取 # 加入 encoding = 'utf-8' 讀中文\n",
    "\n",
    "fp = open('./mod18/note.txt', mode='r', encoding=\"UTF-8\")   \n",
    "content = fp.read()\n",
    "print(content)\n",
    "fp.close()"
   ]
  },
  {
   "cell_type": "code",
   "execution_count": null,
   "metadata": {},
   "outputs": [],
   "source": [
    "fp = open(\"./mod18/note.txt\", mode = \"r\", encoding = \"UTF-8\")\n",
    "print(fp.tell()) # 看看目前的指針\n",
    "print(fp.read(3)) # 讀三個字元   #read()會從目前的指標位置，讀取指定長度字元，沒有指定的話，就會讀取所有字元\n",
    "print(fp.tell())\n",
    "print(fp.read(2))\n",
    "fp.seek(2,0) # 從頭開始, 跳過 2 字元\n",
    "print(fp.read(5))\n",
    "fp.close()"
   ]
  },
  {
   "cell_type": "code",
   "execution_count": null,
   "metadata": {},
   "outputs": [],
   "source": [
    "#readline() #一行一行讀  #讀取目前文字指標所在列中size長度的文字內容，如果沒有指定參數，就會讀取一整列\n",
    "fp = open(\"./mod18/note.txt\", mode = \"r\", encoding=\"UTF-8\")\n",
    "content = fp.readline() # 注意一整行包含 \\n  #一行一行讀出來  \n",
    "print(content)\n",
    "content = fp.readline() # 注意一整行包含 \\n\n",
    "print(content)\n",
    "content = fp.readline(3) # 有 size 則會返回 size 數的字元   \n",
    "print(content)\n",
    "fp.close()"
   ]
  },
  {
   "cell_type": "code",
   "execution_count": null,
   "metadata": {},
   "outputs": [],
   "source": [
    "#readlines() 讀取所有列，並轉成list\n",
    "f = open(\"./mod18/english_new.txt\", \"r\", encoding = 'utf-8')\n",
    "\n",
    "# 把文件一行一行讀進來, 存成List\n",
    "contents = f.readlines()\n",
    "print(contents)\n",
    "f.close()"
   ]
  },
  {
   "cell_type": "code",
   "execution_count": 9,
   "metadata": {},
   "outputs": [
    {
     "name": "stdout",
     "output_type": "stream",
     "text": [
      "A tool that Microsoft Corp. introduced Monday uses artificial intelligence to automatically generate Wikipedia-like pages of information about a company’s products, projects and customers.\n",
      "\n",
      "The employee-productivity tool, Project Cortex, is part of the Microsoft 365 software and will be available to all enterprise customers early next year.\n",
      "\n",
      "Announced at Microsoft’s annual Ignite conference in Orlando, Fla., the tool is the first major product launch for Microsoft 365 since Microsoft Teams, an enterprise collaboration tool announced in 2017. Microsoft 365 includes Office 365, a cloud-based suite of apps including Outlook, Word and PowerPoint; Windows 10; and Microsoft’s security services for businesses.\n",
      "\n",
      "The tool uses AI models to comb through millions of data points that a business stores in Microsoft services, including those found in emails, documents and calendars. It then automatically generates “topic cards” about company projects, products, customers and internal experts.\n",
      "\n",
      "“It’s a way to help [employees] get access to knowledge, enterprise and learning, within the context of their work,” said Jeff Teper, corporate vice president of Microsoft Office 365.\n",
      "\n",
      "For example, if employees receive an email that contains a project acronym, they can click on the highlighted acronym and a topic card will show up in a new window. The card tells users about the project and relevant subject matter experts within the company who are involved and link to their biographies and contact information. It also links to other resources about the project including company videos.\n",
      "\n",
      "Employees can opt out of sharing information—for example, if they are working on a confidential project such as an acquisition. The data has specific controls so that certain topic cards will show up only for employees who are authorized to see that information, Mr. Teper said. “Every single thing has security permissions around it,” he said.\n",
      "\n",
      "Workers can generate new topic cards and edit existing ones if they see that important information is missing. They can also browse topics through a “knowledge center.”\n",
      "\n",
      "Project Cortex has the potential to be used as a powerful educational tool for employees to quickly get up to speed on company information that’s relevant to their work, said Cheryl McKinnon, principal analyst at market-research firm Forrester Research Inc.\n",
      "\n",
      "But its usefulness depends on the quality and quantity of company data, she said. Having accurate data, and a lot of it, will improve the quality of topic cards that are automatically generated. Employees are unlikely to spend time training the algorithms to be better at surfacing important information, she said. “That’s a big ask,” she said.\n",
      "\n",
      "The project took about a year to develop and involved hundreds of AI researchers throughout the company, Mr. Teper said.\n",
      "\n"
     ]
    }
   ],
   "source": [
    "# 用迴圈把列表每個元素映出\n",
    "for each in contents:    \n",
    "    print(each)\n",
    "    \n",
    "# 各別觀察\n",
    "#print(contents[0])\n",
    "# print(contents[1])\n",
    "f.close() # 記得關閉檔案"
   ]
  },
  {
   "cell_type": "code",
   "execution_count": 10,
   "metadata": {},
   "outputs": [
    {
     "name": "stdout",
     "output_type": "stream",
     "text": [
      "A tool that Microsoft Corp. introduced Monday uses artificial intelligence to automatically generate Wikipedia-like pages of information about a company’s products, projects and customers.\n",
      "The employee-productivity tool, Project Cortex, is part of the Microsoft 365 software and will be available to all enterprise customers early next year.\n",
      "Announced at Microsoft’s annual Ignite conference in Orlando, Fla., the tool is the first major product launch for Microsoft 365 since Microsoft Teams, an enterprise collaboration tool announced in 2017. Microsoft 365 includes Office 365, a cloud-based suite of apps including Outlook, Word and PowerPoint; Windows 10; and Microsoft’s security services for businesses.\n",
      "The tool uses AI models to comb through millions of data points that a business stores in Microsoft services, including those found in emails, documents and calendars. It then automatically generates “topic cards” about company projects, products, customers and internal experts.\n",
      "“It’s a way to help [employees] get access to knowledge, enterprise and learning, within the context of their work,” said Jeff Teper, corporate vice president of Microsoft Office 365.\n",
      "For example, if employees receive an email that contains a project acronym, they can click on the highlighted acronym and a topic card will show up in a new window. The card tells users about the project and relevant subject matter experts within the company who are involved and link to their biographies and contact information. It also links to other resources about the project including company videos.\n",
      "Employees can opt out of sharing information—for example, if they are working on a confidential project such as an acquisition. The data has specific controls so that certain topic cards will show up only for employees who are authorized to see that information, Mr. Teper said. “Every single thing has security permissions around it,” he said.\n",
      "Workers can generate new topic cards and edit existing ones if they see that important information is missing. They can also browse topics through a “knowledge center.”\n",
      "Project Cortex has the potential to be used as a powerful educational tool for employees to quickly get up to speed on company information that’s relevant to their work, said Cheryl McKinnon, principal analyst at market-research firm Forrester Research Inc.\n",
      "But its usefulness depends on the quality and quantity of company data, she said. Having accurate data, and a lot of it, will improve the quality of topic cards that are automatically generated. Employees are unlikely to spend time training the algorithms to be better at surfacing important information, she said. “That’s a big ask,” she said.\n",
      "The project took about a year to develop and involved hundreds of AI researchers throughout the company, Mr. Teper said.\n"
     ]
    }
   ],
   "source": [
    "f = open(\"./mod18/english_new.txt\", \"r\", encoding = 'utf-8') # open()會得到的是一個IO物件，IO物件是可迭代的\n",
    "\n",
    "# 建議使用這種方式迴圈, 因為有時讀取的list會很大 \n",
    "for each in f:   \n",
    "    print(each, end = \"\")  \n",
    "f.close()"
   ]
  },
  {
   "cell_type": "code",
   "execution_count": 11,
   "metadata": {},
   "outputs": [
    {
     "name": "stdout",
     "output_type": "stream",
     "text": [
      "Python!!\n",
      "iiicccvvvedu\n",
      "123\n",
      "456\n",
      "789\n"
     ]
    },
    {
     "ename": "UnsupportedOperation",
     "evalue": "not writable",
     "output_type": "error",
     "traceback": [
      "\u001b[1;31m---------------------------------------------------------------------------\u001b[0m",
      "\u001b[1;31mUnsupportedOperation\u001b[0m                      Traceback (most recent call last)",
      "\u001b[1;32m<ipython-input-11-7adc5f5169a6>\u001b[0m in \u001b[0;36m<module>\u001b[1;34m\u001b[0m\n\u001b[0;32m      3\u001b[0m \u001b[0mcontent\u001b[0m \u001b[1;33m=\u001b[0m \u001b[0mfp\u001b[0m\u001b[1;33m.\u001b[0m\u001b[0mread\u001b[0m\u001b[1;33m(\u001b[0m\u001b[1;33m)\u001b[0m\u001b[1;33m\u001b[0m\u001b[1;33m\u001b[0m\u001b[0m\n\u001b[0;32m      4\u001b[0m \u001b[0mprint\u001b[0m\u001b[1;33m(\u001b[0m\u001b[0mcontent\u001b[0m\u001b[1;33m)\u001b[0m\u001b[1;33m\u001b[0m\u001b[1;33m\u001b[0m\u001b[0m\n\u001b[1;32m----> 5\u001b[1;33m \u001b[0mfp\u001b[0m\u001b[1;33m.\u001b[0m\u001b[0mwrite\u001b[0m\u001b[1;33m(\u001b[0m\u001b[1;34m'Nick\\n'\u001b[0m\u001b[1;33m)\u001b[0m\u001b[1;33m\u001b[0m\u001b[1;33m\u001b[0m\u001b[0m\n\u001b[0m\u001b[0;32m      6\u001b[0m \u001b[0mfp\u001b[0m\u001b[1;33m.\u001b[0m\u001b[0mclose\u001b[0m\u001b[1;33m(\u001b[0m\u001b[1;33m)\u001b[0m\u001b[1;33m\u001b[0m\u001b[1;33m\u001b[0m\u001b[0m\n",
      "\u001b[1;31mUnsupportedOperation\u001b[0m: not writable"
     ]
    }
   ],
   "source": [
    "# r模式只能夠讀取\n",
    "fp = open('./mod18/note.txt', mode = 'r') \n",
    "content = fp.read()\n",
    "print(content)\n",
    "fp.write('Nick\\n')\n",
    "fp.close()"
   ]
  },
  {
   "cell_type": "code",
   "execution_count": 12,
   "metadata": {},
   "outputs": [
    {
     "name": "stdout",
     "output_type": "stream",
     "text": [
      "Python!!\n",
      "iiicccvvvedu\n",
      "123\n",
      "456\n",
      "789\n"
     ]
    }
   ],
   "source": [
    "# r+ 模式能夠讀取加上寫入\n",
    "fp = open('./mod18/note.txt', mode = 'r+') \n",
    "content = fp.read()\n",
    "print(content)\n",
    "fp.write('Nick\\n')\n",
    "fp.close()"
   ]
  },
  {
   "cell_type": "code",
   "execution_count": null,
   "metadata": {},
   "outputs": [],
   "source": [
    "fp = open('./mod18/note.txt', 'r')   \n",
    "print('Content(readline):')\n",
    "i=1\n",
    "while True: \n",
    "    line = fp.readline() # 每一次執行while迴圈，fp.readline()就會讀取檔案的下一行\n",
    "    if not line:\n",
    "        break\n",
    "    print(f'No.{i} line: ',line, end='') \n",
    "    i+=1\n",
    "fp.close()"
   ]
  },
  {
   "cell_type": "code",
   "execution_count": null,
   "metadata": {},
   "outputs": [],
   "source": [
    "# 讀檔比較好的選擇\n",
    "fileName='./mod18/note.txt'\n",
    "\n",
    "with open(fileName, 'r') as fp:\n",
    "    print('Content(readline):')\n",
    "    i=1\n",
    "    while True: \n",
    "        line=fp.readline() # 每一次執行while迴圈，fp.readline()就會讀取檔案的下一行\n",
    "        if not line:\n",
    "            break\n",
    "        print(f'No.{i} line: ',line, end='') \n",
    "        i+=1"
   ]
  },
  {
   "cell_type": "code",
   "execution_count": null,
   "metadata": {},
   "outputs": [],
   "source": [
    "# 如何把資料讀進來作加總\n",
    "\n",
    "# 先寫入一些 data\n",
    "with open('./mod18/note1.txt', mode = 'w') as fp:\n",
    "    fp.write('90\\n87\\n45\\n76\\n')"
   ]
  },
  {
   "cell_type": "code",
   "execution_count": null,
   "metadata": {
    "scrolled": true
   },
   "outputs": [],
   "source": [
    "# 讀出來做加總    \n",
    "with open('./mod18/note1.txt', mode = 'r') as fp:\n",
    "    sum = 0\n",
    "    # 檔案會一行一行的讀出來\n",
    "    for line in fp:\n",
    "        sum += int(line)\n",
    "    print(sum)   "
   ]
  },
  {
   "cell_type": "markdown",
   "metadata": {},
   "source": [
    "# Pickle"
   ]
  },
  {
   "cell_type": "code",
   "execution_count": null,
   "metadata": {},
   "outputs": [],
   "source": [
    "import pickle\n",
    "\n",
    "# 將列表用二進位檔案保存起來\n",
    "my_list = [123, 3.14, \"Crystal\", [1, 2, 3]]\n",
    "pickle_file = open(\"./mod18/my_list.pkl\", mode = \"wb\") # 記得是寫入成二進位檔案 wb \n",
    "pickle.dump(my_list, pickle_file)\n",
    "pickle_file.close()"
   ]
  },
  {
   "cell_type": "code",
   "execution_count": null,
   "metadata": {},
   "outputs": [],
   "source": [
    "# 把二進位的檔案讀出來\n",
    "pickle_file = open(\"./mod18/my_list.pkl\", mode =  'rb') # 記得是讀取成二進位檔案 wb\n",
    "my_list = pickle.load(pickle_file)\n",
    "print(my_list, type(my_list))"
   ]
  },
  {
   "cell_type": "code",
   "execution_count": null,
   "metadata": {},
   "outputs": [],
   "source": [
    "import pickle\n",
    "\n",
    "# 將字典用二進位檔案保存起來\n",
    "dict_people  = {\"name\": \"Crystal\", \"age\": 29, \"Height\" : 162}\n",
    "pickle_file = open(\"./mod18/dict_people.pkl\", \"wb\")\n",
    "pickle.dump(dict_people, pickle_file)\n",
    "pickle_file.close()"
   ]
  },
  {
   "cell_type": "code",
   "execution_count": null,
   "metadata": {},
   "outputs": [],
   "source": [
    "# 把二進位的檔案讀出來\n",
    "pickle_file = open('./mod18/dict_people.pkl', mode = \"rb\")\n",
    "dict_people = pickle.load(pickle_file)\n",
    "print(dict_people, type(dict_people))"
   ]
  },
  {
   "cell_type": "markdown",
   "metadata": {},
   "source": [
    "# Json"
   ]
  },
  {
   "cell_type": "markdown",
   "metadata": {},
   "source": [
    "# 有兩種字串格式 ' { } '  /  '  [ {    } ]'  "
   ]
  },
  {
   "cell_type": "code",
   "execution_count": 2,
   "metadata": {},
   "outputs": [
    {
     "name": "stdout",
     "output_type": "stream",
     "text": [
      "[ {\"name\":\"Crystal\", \"age\":18}, {\"name\":\"Matt\", \"age\":18}] <class 'str'>\n",
      "[{'name': 'Crystal', 'age': 18}, {'name': 'Matt', 'age': 18}] <class 'list'>\n"
     ]
    }
   ],
   "source": [
    "import json\n",
    "\n",
    "# 定義個 json 檔的格式\n",
    "str1 = '[ {\"name\":\"Crystal\", \"age\":18}, {\"name\":\"Matt\", \"age\":18}]'\n",
    "print(str1, type(str1))\n",
    "\n",
    "# 使用 json 方法讀進來 # 字串改列表\n",
    "List1 = json.loads(str1)   #json的字串檔 轉成 python的list 或 python的字典\n",
    "print(List1, type(List1))"
   ]
  },
  {
   "cell_type": "code",
   "execution_count": 4,
   "metadata": {},
   "outputs": [
    {
     "name": "stdout",
     "output_type": "stream",
     "text": [
      "[{\"name\": \"Crystal\", \"age\": 18}, {\"name\": \"Matt\", \"age\": 18}] <class 'str'>\n"
     ]
    }
   ],
   "source": [
    "import json\n",
    "\n",
    "# 定義個 json 檔的格式\n",
    "list1  = [ {\"name\":\"Crystal\", \"age\":18}, {\"name\":\"Matt\", \"age\":18}]\n",
    "\n",
    "# 使用 json 方法輸出 # 列表改字串\n",
    "str1 = json.dumps(list1)\n",
    "print(str1, type(str1))"
   ]
  },
  {
   "cell_type": "code",
   "execution_count": 9,
   "metadata": {},
   "outputs": [
    {
     "name": "stdout",
     "output_type": "stream",
     "text": [
      "{\"name\" : \"Crystal\", \"age\" : 18, \"Height\" : 162} <class 'str'>\n",
      "{'name': 'Crystal', 'age': 18, 'Height': 162} <class 'dict'>\n"
     ]
    }
   ],
   "source": [
    "import json\n",
    "\n",
    "# 定義個 json 檔的格式\n",
    "str1 = '{\"name\" : \"Crystal\", \"age\" : 18, \"Height\" : 162}'\n",
    "print(str1, type(str1))\n",
    "\n",
    "# 使用 json 方法讀進來 # 字串改字典\n",
    "dict1 = json.loads(str1)\n",
    "print(dict1, type(dict1))"
   ]
  },
  {
   "cell_type": "code",
   "execution_count": 10,
   "metadata": {},
   "outputs": [
    {
     "name": "stdout",
     "output_type": "stream",
     "text": [
      "{\"name\": \"Crystal\", \"age\": 18, \"Height\": 162} <class 'str'>\n"
     ]
    }
   ],
   "source": [
    "import json\n",
    "\n",
    "# 定義個 json 檔的格式\n",
    "dict1  = {\"name\" : \"Crystal\", \"age\" : 18, \"Height\" : 162}\n",
    "\n",
    "# 使用 json 方法輸出 # 字典改字串\n",
    "str1 = json.dumps(dict1)\n",
    "print(str1, type(str1))"
   ]
  },
  {
   "cell_type": "code",
   "execution_count": 11,
   "metadata": {},
   "outputs": [
    {
     "name": "stdout",
     "output_type": "stream",
     "text": [
      "[{'name': 'Crystal', 'age': 18, 'Height': 162}, {'name': 'Matt', 'age': 28, 'Height': 176}] <class 'list'>\n"
     ]
    }
   ],
   "source": [
    "import json\n",
    "\n",
    "with open(\"./mod18/jsonDemo.txt\", mode = \"r\", encoding = \"utf-8\") as f:\n",
    "    content = f.read()     #先寫入\n",
    "    list1 = json.loads(content)    #在轉換\n",
    "    print(list1, type(list1))"
   ]
  },
  {
   "cell_type": "code",
   "execution_count": 23,
   "metadata": {},
   "outputs": [],
   "source": [
    "#寫法1\n",
    "\n",
    "import json\n",
    "\n",
    "dict1 = {'id':'001','name':'Pumpkin'}\n",
    "\n",
    "with open('./mod18/dumps.txt', mode = 'w', encoding = 'utf-8') as f:\n",
    "    f.write(json.dumps(dict1))"
   ]
  },
  {
   "cell_type": "code",
   "execution_count": 21,
   "metadata": {},
   "outputs": [
    {
     "name": "stdout",
     "output_type": "stream",
     "text": [
      "{\"id\": \"001\", \"name\": \"Pumpkin\"} <class 'str'>\n"
     ]
    }
   ],
   "source": [
    "#寫法2\n",
    "\n",
    "import json\n",
    "\n",
    "dic1={'id':'001','name':'Pumpkin'}\n",
    "\n",
    "\n",
    "with open('./mod18/dumps.txt' ,mode='w',encoding=\"utf-8\") as f :\n",
    "    str1=json.dumps(dic1)   #先轉換\n",
    "    f.write(str1)     #在寫入\n",
    "    print(str1,type(str1))"
   ]
  }
 ],
 "metadata": {
  "kernelspec": {
   "display_name": "Python 3",
   "language": "python",
   "name": "python3"
  },
  "language_info": {
   "codemirror_mode": {
    "name": "ipython",
    "version": 3
   },
   "file_extension": ".py",
   "mimetype": "text/x-python",
   "name": "python",
   "nbconvert_exporter": "python",
   "pygments_lexer": "ipython3",
   "version": "3.9.5"
  }
 },
 "nbformat": 4,
 "nbformat_minor": 2
}
