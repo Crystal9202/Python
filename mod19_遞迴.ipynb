{
 "cells": [
  {
   "cell_type": "markdown",
   "metadata": {},
   "source": [
    "#  <font color=red> Module_18_遞迴</font>"
   ]
  },
  {
   "cell_type": "markdown",
   "metadata": {},
   "source": [
    "# Recursive"
   ]
  },
  {
   "cell_type": "code",
   "execution_count": null,
   "metadata": {},
   "outputs": [],
   "source": [
    "# 遞迴在某些題目比迴圈來的直覺好寫\n",
    "# 缺點是很多時候速度很慢"
   ]
  },
  {
   "cell_type": "code",
   "execution_count": null,
   "metadata": {},
   "outputs": [],
   "source": [
    "import sys\n",
    "\n",
    "# 預設最大可遞迴次數\n",
    "print(sys.getrecursionlimit())"
   ]
  },
  {
   "cell_type": "code",
   "execution_count": null,
   "metadata": {
    "scrolled": true
   },
   "outputs": [],
   "source": [
    "# 設定可遞迴最大數量\n",
    "sys.setrecursionlimit(4000)\n",
    "print(sys.getrecursionlimit())"
   ]
  },
  {
   "cell_type": "markdown",
   "metadata": {},
   "source": [
    "# 三個經典的遞迴問題\n",
    "## 階乘 Factorial\n",
    "## 費氏數列 Fibonacci sequence\n",
    "## 最大公因數 GCD"
   ]
  },
  {
   "cell_type": "code",
   "execution_count": null,
   "metadata": {},
   "outputs": [],
   "source": [
    "#階乘 Factorial\n",
    "f(1) = 1!\n",
    "f(2) = 2! 2*1\n",
    "f(3) = 3! 3*2*1\n",
    "f(4) = 4! 4*3*2*1 =4*f(3) = 4*3*f(2) =4*3*2*f(1) = 4*3*2*1 \n",
    "f(n) = n! n*(n-1)*(n-2)*....*2*1   = n*(n-1)!  = n*f(n-1)"
   ]
  },
  {
   "cell_type": "code",
   "execution_count": null,
   "metadata": {},
   "outputs": [],
   "source": [
    "#Factorial\n",
    "def f(n):\n",
    "    if n ==1:\n",
    "        return 1\n",
    "    else:\n",
    "        return (n*f(n-1))\n",
    "print(f(6))"
   ]
  },
  {
   "cell_type": "code",
   "execution_count": null,
   "metadata": {},
   "outputs": [],
   "source": [
    "# 遞迴要設立初始值 e.g. f(1) = 1 \n",
    "# 找出規律 e.g. f(n) = n*f(n-1) \n",
    "# factorial 階乘 e.g. 5! = 5*4*3*2*1 = 120 \n",
    "# 用迴圈試試看!\n",
    "\n",
    "def factorial(n):\n",
    "    \"\"\"Recursive function to find factorial\"\"\"\n",
    "    if n == 1:\n",
    "        return 1\n",
    "    else:\n",
    "        return (n * factorial(n - 1))\n",
    "n = 6\n",
    "print(f\"Factorial of {a} = {factorial(6)}\")"
   ]
  },
  {
   "cell_type": "code",
   "execution_count": null,
   "metadata": {},
   "outputs": [],
   "source": [
    "#迴圈寫法 \n",
    "def factorial_loop(n):\n",
    "    factor =1\n",
    "    for i in range(1,n+1):\n",
    "        factor =facotr*i 1*1 /  1*2 / 2*3  /6*4   / 24*5  / 120*6 \n",
    "    return factor    1  /2 /6   /24  /120  /720\n",
    " \n",
    "print(factorial_loop(6))"
   ]
  },
  {
   "cell_type": "markdown",
   "metadata": {},
   "source": [
    "-----------------------------------------------------------------------"
   ]
  },
  {
   "cell_type": "code",
   "execution_count": null,
   "metadata": {},
   "outputs": [],
   "source": [
    "#費氏數列\n",
    "f(0)=0\n",
    "f(1)=1\n",
    "f(2)=1\n",
    "f(3)=2\n",
    "f(4)=3\n",
    "f(5)=5\n",
    "f(6)=8\n",
    "f(n)=f(n-1)+f(n-2)"
   ]
  },
  {
   "cell_type": "code",
   "execution_count": null,
   "metadata": {},
   "outputs": [],
   "source": [
    "#費氏數列 :指的是一個數列。每一項都等於他的前兩項的和，也就是說第n項等於第n-1項以及第n-2項的和\n",
    "# 費波那契數列 : 0, 1, 1, 2, 3, 5, 8, 13, 21\n",
    "#從第0項開始\n",
    "#動態規劃\n",
    "#這是印出 第幾列的值，而不是算數的值\n",
    "\n",
    "def F(n):\n",
    "    if n == 0 or n == 1:    #先給初始值條件\n",
    "        return n\n",
    "    else:\n",
    "        return F(n-1) + F(n-2)\n",
    "    \n",
    "print(F(3))"
   ]
  },
  {
   "cell_type": "code",
   "execution_count": null,
   "metadata": {},
   "outputs": [],
   "source": [
    "# 費波那契數列 : 0, 1, 1, 2, 3, 5, 8, 13, 21\n",
    "# 比較一下兩個方法的時間(跟上面的做比較)\n",
    "\n",
    "def func1(n):\n",
    "    if (n == 0) or (n == 1):   \n",
    "        return n\n",
    "    else:\n",
    "        order1 = 0\n",
    "        order2 = 1\n",
    "        while n - 1:  \n",
    "            order1, order2 = order2, order1 + order2         \n",
    "            n -= 1\n",
    "        return order2    \n",
    "print(func1(4))   "
   ]
  },
  {
   "cell_type": "markdown",
   "metadata": {},
   "source": [
    "------------------------------------------------------------"
   ]
  },
  {
   "cell_type": "code",
   "execution_count": null,
   "metadata": {},
   "outputs": [],
   "source": [
    "# 使用遞迴寫出 x^y (x的y次方)\n",
    "# 除了0以外，任何數的0次方 都是 1 \n",
    "\n",
    "\n",
    "2的0次方 = 1\n",
    "2的1次方 = 2 \n",
    "2的2次方 = 4 = 2*power(2,1)\n",
    "2的3次方 = 8 = 2*power(2,2) = 2*2*power(2,1)\n",
    "2的n次方 = 2*power(2,n-1) = 2*2*power(2,n-2)"
   ]
  },
  {
   "cell_type": "code",
   "execution_count": null,
   "metadata": {},
   "outputs": [],
   "source": [
    "def power(x, y):\n",
    "    answer = 1\n",
    "    for i in range(1, y + 1):\n",
    "        answer *= x   (次方)\n",
    "    return answer\n",
    "        \n",
    "power(3, 2)"
   ]
  },
  {
   "cell_type": "code",
   "execution_count": null,
   "metadata": {},
   "outputs": [],
   "source": [
    "# 使用遞迴寫出 x^y (x的y次方)\n",
    "\n",
    "def power(x, y):\n",
    "    if y == 1:\n",
    "        return x*1\n",
    "    else:\n",
    "        return x*power(x, y-1)\n",
    "    \n",
    "power(3,5)"
   ]
  },
  {
   "cell_type": "markdown",
   "metadata": {},
   "source": [
    "-----------------------------------------------------------------------------------------------------"
   ]
  },
  {
   "cell_type": "code",
   "execution_count": null,
   "metadata": {},
   "outputs": [],
   "source": [
    "# 使用遞迴找出最大公約數\n",
    "# 輾轉相除法\n",
    "# 推得 gcd(85, 34) = gcd(34, 17) = 17\n",
    "# 85 ÷ 34 = 2 ... 17\n",
    "# 34 ÷ 17 = 2 ... 0\n",
    "\n",
    "\n",
    "def gcd(x, y): \n",
    "    if x%y==0:\n",
    "        return y\n",
    "    else:\n",
    "        x,y = y, x%y         #要同時改喔!\n",
    "        return gcd(x,y)\n",
    "    \n",
    "print(gcd(85,34))"
   ]
  },
  {
   "cell_type": "code",
   "execution_count": null,
   "metadata": {},
   "outputs": [],
   "source": [
    "# 把十進位整數轉成二進位\n",
    "# 用直式寫一次\n",
    "19/2=9...1\n",
    "9/2 =4...1    \n",
    "4/2 =2...0\n",
    "2/2 =1...0\n",
    "1/2 =0...1\n",
    " "
   ]
  },
  {
   "cell_type": "code",
   "execution_count": null,
   "metadata": {},
   "outputs": [],
   "source": [
    "# 把十進位整數轉成二進位\n",
    "# //取整數\n",
    "# 推得 bin(19) = 10011\n",
    "# 回推 1 + 2 + 0 + 0 + 16 = 19 \n",
    "\n",
    "\n",
    "def bin_new(x):\n",
    "    if x//2  == 0:\n",
    "        return '0b' + str(x%2)\n",
    "    else:\n",
    "        return bin_new(x//2) + str(x%2)\n",
    "    \n",
    "\n",
    "\n",
    "num  = int(input('請輸入一個整數: '))\n",
    "bin_new(num)"
   ]
  },
  {
   "cell_type": "code",
   "execution_count": null,
   "metadata": {},
   "outputs": [],
   "source": [
    "# 取出一個整數的每一位具體的數字\n",
    "#34295 / 10 = 3429...5\n",
    "#3429/10 = 342...9\n",
    "#342/10 = 34...2\n",
    "#34/10 = 3...4\n",
    "# 3/10 = 0...3"
   ]
  },
  {
   "cell_type": "code",
   "execution_count": null,
   "metadata": {},
   "outputs": [],
   "source": [
    "# 取出一個整數的每一位具體的數字\n",
    "\n",
    "def get_digits(n):\n",
    "    if n <= 9:\n",
    "        return [n]\n",
    "    else:\n",
    "        return get_digits(n//10) + [n%10]\n",
    "    \n",
    "get_digits(34295)"
   ]
  },
  {
   "cell_type": "code",
   "execution_count": null,
   "metadata": {},
   "outputs": [],
   "source": [
    "# 用遞迴求出數列 10, 12, 14, 16, 18...\n",
    "# 從第 0 項開始\n",
    "\n",
    "def func1(x):\n",
    "    if x == 1:\n",
    "        return 10\n",
    "    else:\n",
    "        return func1(x-1) + 2\n",
    "func1(3)"
   ]
  },
  {
   "cell_type": "code",
   "execution_count": null,
   "metadata": {},
   "outputs": [],
   "source": [
    "# 河內塔從 n = 2\n",
    "# 進階\n",
    "\n",
    "def Track(n, x, y, z): \n",
    "    if n==2:\n",
    "        print(x+' -> '+y, x+' -> '+z, y+' -> '+z, sep = '\\n')\n",
    "    else:\n",
    "        Track(n-1, x, z, y)\n",
    "        print(x+' -> '+ z)\n",
    "        Track(n-1, y, x, z)\n",
    "\n",
    "Track(4, 'x', 'y', 'z')  "
   ]
  },
  {
   "cell_type": "code",
   "execution_count": null,
   "metadata": {},
   "outputs": [],
   "source": [
    "# 危險 !!!\n",
    "\n",
    "def recursion():\n",
    "    return recursion()\n",
    "recursion()"
   ]
  }
 ],
 "metadata": {
  "kernelspec": {
   "display_name": "Python 3",
   "language": "python",
   "name": "python3"
  },
  "language_info": {
   "codemirror_mode": {
    "name": "ipython",
    "version": 3
   },
   "file_extension": ".py",
   "mimetype": "text/x-python",
   "name": "python",
   "nbconvert_exporter": "python",
   "pygments_lexer": "ipython3",
   "version": "3.9.5"
  }
 },
 "nbformat": 4,
 "nbformat_minor": 4
}
