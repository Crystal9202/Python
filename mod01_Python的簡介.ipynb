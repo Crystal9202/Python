{
 "cells": [
  {
   "cell_type": "markdown",
   "metadata": {},
   "source": [
    "#  <font color=red> Module_01_Python簡介</font>"
   ]
  },
  {
   "cell_type": "markdown",
   "metadata": {},
   "source": [
    "# Python 特色\n",
    ">### 程式導向(Process Oriented Program Language)\n",
    ">- 易於維護\n",
    "><img src=\".\\img\\pop_hierarchy_2.png\" style='height:400px; width:600px'><br>\n",
    "><img src=\".\\img\\pop_hierarchy.png\" style='height:300px; width:600px'><br>\n",
    "\n",
    ">### 物件導向(Object-Oriented Program Language)\n",
    ">- 讓程式碼易於理解\n",
    ">- 讓程式碼可以重複使用\n",
    "><img src=\".\\img\\oop_example.png\" style='height:300px; width:600px'><br>\n",
    "\n",
    ">### 程式發展歷史\n",
    "><img src=\".\\img\\oop_history.png\" style='height:300px; width:600px'><br>\n",
    "\n",
    ">### Python是<font color=red>直譯式語言</font>，不需要編譯\n",
    "\n",
    ">### 腳本語言的特點⇒一個enter 執行一行敘述"
   ]
  },
  {
   "cell_type": "markdown",
   "metadata": {},
   "source": [
    "---"
   ]
  },
  {
   "cell_type": "markdown",
   "metadata": {},
   "source": [
    "## 程式導向的特色: 循序、選擇、重複\n",
    "## 物件導向的特色: 封裝、繼承、多型"
   ]
  },
  {
   "cell_type": "markdown",
   "metadata": {},
   "source": [
    "---"
   ]
  },
  {
   "cell_type": "markdown",
   "metadata": {},
   "source": [
    "# 程式語言的成長趨勢\n",
    "><img src=\".\\img\\PythonTrend.png\"  style='height:450px; width:900px'>"
   ]
  },
  {
   "cell_type": "markdown",
   "metadata": {},
   "source": [
    "# Python的特色\n",
    ">1. Python 不需要事先宣告變數\n",
    "2. Python 不需要指定變數的型態\n",
    "3. 變數賦值(建立)<font color=red>後</font>即可直接使用"
   ]
  },
  {
   "cell_type": "markdown",
   "metadata": {},
   "source": [
    "#  python 安裝\n",
    ">1. 把「Add Python 3.x to PATH」的選取方塊打勾，這樣的目的是為了讓Windows可以找到最純的Python，我們的課程將以純的Python環境進行開發。\n",
    "2. 接著點擊「Customize installation」。\n",
    "3. 在Optional Features頁面內，把所有核取方塊打勾。\n",
    "4. 下一步進到「Advanced Options」，把「install for all users」的核取方塊打勾，其他的核取方塊則維持預設值。\n",
    "5. 安裝後，要記得點擊「Disable path length limit」(如果沒有出現此按鈕代表之前已經有設定過了)。\n",
    "\n",
    "  <img src='./img/python_install.png' style='height:500px'>"
   ]
  },
  {
   "cell_type": "markdown",
   "metadata": {},
   "source": [
    "---"
   ]
  },
  {
   "cell_type": "markdown",
   "metadata": {},
   "source": [
    "# 命令提示字元(簡稱cmd)\n",
    "## 命令提示字元常用指令\n",
    ">## - 變更目錄 (`cd, chdir`) 1 cd 絕對路徑 2 cd 相對路徑(可用Tab鍵補滿) 3 cd ..上一個路徑 \n",
    ">## - 查詢目錄 (`dir`)\n",
    ">### - `exit` &rArr; 離開cmd\n",
    "\n",
    "## command line 其他常用指令\n",
    ">## 顯示符合指定搜尋模式之檔案的位置。(`where`)\n",
    ">## 建立目錄 (`md, mkdir`)\n",
    ">## 刪除目錄 (`rd, rmdir`)\n",
    ">## 刪除多個 / 一個檔案 (`del, erase`)\n",
    ">## 移動/更改 檔案/資料夾 名稱 (`move`)\n",
    ">## 複製檔案 (`copy`)\n",
    "\n",
    "## command line Python相關指令\n",
    ">### - `python -h` ⇒查看所有在cmd中的python指令說明\n",
    ">### - `python -V`(大寫V) ⇒查看版本(模仿linux指令) 觀察環境變數裡面系統path 從本機->右鍵內容->進階系統設定\n",
    "\n",
    "---\n",
    "## Python shell \n",
    ">### - ＞＞＞ &rArr; Python的命令提示字元(可以下指令的地方) 在CMD下打入 python\n",
    ">### - ．．． &rArr; Python的第二提示字元\n",
    ">### - `exit()` &rArr; 離開Python shell，是Python的內建function\n",
    "---\n",
    "\n",
    "## 如何執行Python程式檔案(.py)\n",
    ">### `python XXX.py 用CMD在指定的路徑下打入\n",
    "\n",
    "---\n",
    "## print(variable) 與 直接呼叫variable的差異:\n",
    ">### - 直接呼叫variable &rArr; 受益於Python shell 是互動式的，所以才可以直接呼叫變數"
   ]
  },
  {
   "cell_type": "markdown",
   "metadata": {},
   "source": [
    "## <font color=red>請注意，使用print()時數字還是文字容易弄混"
   ]
  },
  {
   "cell_type": "code",
   "execution_count": null,
   "metadata": {
    "scrolled": true
   },
   "outputs": [],
   "source": [
    "y = 123\n",
    "x = '123'\n",
    "print(y)\n",
    "print(x)"
   ]
  },
  {
   "cell_type": "code",
   "execution_count": null,
   "metadata": {},
   "outputs": [],
   "source": [
    "x"
   ]
  },
  {
   "cell_type": "code",
   "execution_count": null,
   "metadata": {
    "scrolled": true
   },
   "outputs": [],
   "source": [
    "y"
   ]
  },
  {
   "cell_type": "markdown",
   "metadata": {},
   "source": [
    "\n",
    "---"
   ]
  },
  {
   "cell_type": "markdown",
   "metadata": {},
   "source": [
    "# IDE (開發工具箱)\n",
    ">## IDLE (Python 提供的)\n",
    ">## VS code\n",
    ">## Jupyter notebook (網站架構HTML)\n",
    ">## Anaconda\n",
    ">## pycharm"
   ]
  },
  {
   "cell_type": "markdown",
   "metadata": {},
   "source": [
    "# VScode\n",
    "## 安裝python相關套件\n",
    ">### 由於VS Code不知道Python的安裝路徑，<font color=red>所以當開啟任一個.py檔案時，VS Code會提示你進行設定。</font>此時我們只要按照下圖的步驟，去設定Python.exe的路徑即可。\n",
    ">### 1. 安裝Python extension\n",
    ">> <details>\n",
    "     <summary>image</summary>\n",
    "     <img src='./img/vscode_py_ext.png'  style='height:500px;'>\n",
    "   </details>\n",
    "\n",
    ">### 2. 開啟資料夾並新增或讀取.py檔\n",
    ">> <details>\n",
    "     <summary>image</summary>\n",
    "     <img src='./img/vscode_open_folder.png'  style='height:500px;'><br>\n",
    "   </details>\n",
    "   <details>\n",
    "     <summary>image</summary>\n",
    "     <img src='./img/vscode_create_py.png'  style='height:500px;'><br>\n",
    "   </details>\n",
    "\n",
    ">### 3. 設定Python.exe的路徑\n",
    ">> <details>\n",
    "     <summary>image</summary>\n",
    "     <img src='./img/vscode_set_py.png'  style='height:500px;'><br>\n",
    "   </details>"
   ]
  },
  {
   "cell_type": "markdown",
   "metadata": {},
   "source": [
    "# Jupyter notebook\n",
    "\n",
    "## 安裝\n",
    ">### 1.  以<font color=red>系統管理員身分</font>的身分在命令提示字元中輸入指令: pip install jupyter notebook (安裝程式都用系統管理員身分) (macOS 請在terminal中輸入 sudo pip3 install jupyter notebook)\n",
    ">> <details>\n",
    "       <summary>image</summary>\n",
    "       <img src=\"img/jupyter_install1.png\">\n",
    "       <img src=\"img/jupyter_install2.png\">\n",
    "   </details>\n",
    "   <details>\n",
    "       <summary>macOS</summary>\n",
    "        <div>在terminal輸入<code>sudo pip3 install jupyter notebook</code>，接著輸入登入系統時的密碼(輸入時terminal不會顯示)，輸入完密碼後按enter 即可</div>\n",
    "       <img src=\"img/mac_terminal.jpg\">\n",
    "   </details>\n",
    "   \n",
    ">### 2.  安裝完成後再輸入`exit`退出命令提示字元(macOS 也是輸入`exit`)\n",
    ">> <details>\n",
    "       <summary>image</summary>\n",
    "       <img src=\"img/jupyter_install3.png\">\n",
    "   </details>\n",
    "   \n",
    ">### 3.  開啟教材資料夾，並在路徑列輸入`cmd`以<font color=red>一般使用者</font>的身分開啟(macOS 請將教材資料夾放在桌面，並開啟一個新的terminal)\n",
    ">> <details>\n",
    "       <summary>image</summary>\n",
    "       <img src=\"img/jupyter_install4.png\">\n",
    "   </details>\n",
    "   \n",
    ">### 4.  在命令提示字元中輸入指令 `jupyter notebook` (執行程式用一般身分即可) (macOS 參考下方:)\n",
    ">> <details>\n",
    "       <summary>mac OS</summary>\n",
    "       <ol>\n",
    "           <li>將教材資料夾(以zip檔的形式)下載後，放到桌面上</li>\n",
    "           <li>開啟 terminal後輸入<code>jupyter notebook</code></li>\n",
    "           <li>請輸入完後到Desktop裡找教材資料夾即可\n",
    "               <details>\n",
    "                   <img src=\"img/mac_jupyter_notebook.png\">\n",
    "               </details>\n",
    "           </li>\n",
    "       </ol>\n",
    "   </details>\n",
    "\n",
    "## Jupyter notebook 介紹\n",
    ">###  Jupyter notebook 是一個互動式筆記本，本質是一個Web 應用程式，主頁面由許多Cell組成\n",
    ">>### - Ipython 就是 Jupyter Python 的 Kernel (ipython : 互動式)\n",
    ">>### - Cell &rArr; 每一個Cell都是可以執行的區塊，裡面可以輸入程式碼，Cell又分為兩種模式\n",
    ">>>#### - 命令模式(Cell外框以藍色顯示)\n",
    ">>>#### - 編輯模式(Cell外框以綠色顯示，且會有游標閃動)\n",
    "\n",
    "## Jupyter notebook 常用功能\n",
    "\n",
    ">### - 快捷鍵 : Help &rarr; Keybosrd ShortCuts\n",
    ">> <details>\n",
    "    <summary>span</summary>\n",
    "        <p>\n",
    "            <img src='./img/hotkey_commend.png' style='height:500px'>\n",
    "            <img src='./img/hotkey_edit.png' style='height:300px'>\n",
    "        <p/>\n",
    "    </details>\n",
    "    <br>\n",
    ">### - auto compelete &rArr; Tab   \n",
    ">### - shift + Tab &rArr; 快速查詢函式、方法的用法\n",
    ">### - ?指令 &rArr; 查看說明文件\n",
    ">### - % &rArr; jupyter的魔法函式\n",
    ">### - ! + cli 指令 &rArr; 執行作業系統命令\n",
    "\n",
    "## 關閉Jupyter notebook \n",
    ">### Server (通常以cmd介面執行)\n",
    ">>### Ctrl+C\n",
    ">### 瀏覽器頁簽\n",
    ">>### 直接關閉即可"
   ]
  },
  {
   "cell_type": "code",
   "execution_count": null,
   "metadata": {},
   "outputs": [],
   "source": [
    "print"
   ]
  },
  {
   "cell_type": "code",
   "execution_count": null,
   "metadata": {},
   "outputs": [],
   "source": [
    "print?"
   ]
  },
  {
   "cell_type": "code",
   "execution_count": null,
   "metadata": {},
   "outputs": [],
   "source": [
    "%timeit print('Hi')"
   ]
  },
  {
   "cell_type": "code",
   "execution_count": null,
   "metadata": {},
   "outputs": [],
   "source": [
    "!dir"
   ]
  },
  {
   "cell_type": "markdown",
   "metadata": {},
   "source": [
    "## 在Jupyter notebook的Cell中呼叫變數的話，只會出現最後一個結果，如果要在一個Cell內列印出多個變數的數值 &rArr; print()"
   ]
  },
  {
   "cell_type": "code",
   "execution_count": null,
   "metadata": {},
   "outputs": [],
   "source": [
    "a = 10\n",
    "b = 20\n",
    "a\n",
    "b"
   ]
  },
  {
   "cell_type": "code",
   "execution_count": null,
   "metadata": {},
   "outputs": [],
   "source": [
    "a = 10\n",
    "b = 20\n",
    "print(a)\n",
    "print(b)"
   ]
  },
  {
   "cell_type": "markdown",
   "metadata": {},
   "source": [
    "# 靜態語言&動態語言 說明\n",
    ">## 具體來說，<font color =red>靜態語言</font>是指變數是否帶有資料型態，反之則為<font color =green>動態語言</font>。 \n",
    ">>### - <font color =red>靜態語言</font>寫程序時要聲明所有變量的數據類型\n",
    ">>### - <font color =green>動態語言</font>編程不用給任何變量指定數據類型。\n",
    ">>### - 省略變數類型宣告動作 &rarr; 動態語言"
   ]
  },
  {
   "cell_type": "markdown",
   "metadata": {},
   "source": [
    "## Visual Studio Code-step by step flow debug\n",
    "### 1. 先在Visual Studio Code 適當地設定中斷點, 而在程式執行到某個中斷點就會pause\n",
    ">如下圖第2、3行的紅點<img src='./img/vscode_debug_1.png' style='height:400px'>\n",
    "### 2. 再點選上方頁簽的Run &rarr; Start Debugging(或是輸入f5)來執行程式,用f5執行程式,碰到中斷點,程式執行會pause\n",
    ">如下圖綠框圈選部分<img src='./img/vscode_debug_2.png' style='height:400px'>\n",
    "### 3.選擇Python檔案 (偵錯目前使用中的檔案)\n",
    ">如下圖綠框圈選部分<img src='./img/vscode_debug_3.png' style='height:400px'>\n",
    "### 4.在左邊watch欄位新增要觀察的變數\n",
    ">如下圖綠框圈選部分<img src='./img/vscode_debug_4.png' style='height:400px'>\n",
    "### 5.點擊上方的continue按鈕(或是輸入f5)執行程式\n",
    ">如下圖綠框圈選部分<img src='./img/vscode_debug_5.png' style='height:400px'>\n",
    "### 6.當程式碼的底色變為黃色時，代表執行到該行程式碼，以此觀察如何變數是如何變化的。\n",
    "><img src='./img/vscode_debug.gif' style='height:400px'>"
   ]
  },
  {
   "cell_type": "markdown",
   "metadata": {},
   "source": [
    "## 有用資源"
   ]
  },
  {
   "cell_type": "code",
   "execution_count": null,
   "metadata": {},
   "outputs": [],
   "source": [
    "# sci-hub\n",
    "# z-library\n",
    "# google scholar \n",
    "# 老師 Github: theabc50111"
   ]
  }
 ],
 "metadata": {
  "kernelspec": {
   "display_name": "Python 3",
   "language": "python",
   "name": "python3"
  },
  "language_info": {
   "codemirror_mode": {
    "name": "ipython",
    "version": 3
   },
   "file_extension": ".py",
   "mimetype": "text/x-python",
   "name": "python",
   "nbconvert_exporter": "python",
   "pygments_lexer": "ipython3",
   "version": "3.8.10"
  }
 },
 "nbformat": 4,
 "nbformat_minor": 2
}
