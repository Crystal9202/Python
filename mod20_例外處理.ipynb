{
 "cells": [
  {
   "cell_type": "markdown",
   "metadata": {},
   "source": [
    "#  <font color=red> Module_20_例外處理</font>"
   ]
  },
  {
   "cell_type": "markdown",
   "metadata": {},
   "source": [
    "# 常見異常"
   ]
  },
  {
   "cell_type": "code",
   "execution_count": null,
   "metadata": {},
   "outputs": [],
   "source": [
    "# AttributeError  #物件無此屬性\n",
    "\n",
    "my_list = ['Crystal']\n",
    "my_list.abc"
   ]
  },
  {
   "cell_type": "code",
   "execution_count": null,
   "metadata": {},
   "outputs": [],
   "source": [
    "# indexError   #索引超出範圍\n",
    "\n",
    "my_list = [1, 2, 3]\n",
    "my_list[3]"
   ]
  },
  {
   "cell_type": "code",
   "execution_count": null,
   "metadata": {},
   "outputs": [],
   "source": [
    "# KeyError # 可用 get 方法解決\n",
    "\n",
    "my_dict = {'one' : 1, 'two' : 2}\n",
    "print(my_dict['one'])\n",
    "print(my_dict['three'])"
   ]
  },
  {
   "cell_type": "code",
   "execution_count": null,
   "metadata": {},
   "outputs": [],
   "source": [
    "# NameError   #變數名稱未宣告\n",
    "\n",
    "Crystal"
   ]
  },
  {
   "cell_type": "code",
   "execution_count": null,
   "metadata": {},
   "outputs": [],
   "source": [
    "# ValueError  #無效的參數，產生數值錯誤\n",
    "\n",
    "x = int('1.7')   #int(正整數)  #float(小數點)"
   ]
  },
  {
   "cell_type": "code",
   "execution_count": null,
   "metadata": {},
   "outputs": [],
   "source": [
    "# SyntaxError  #語法錯誤\n",
    "\n",
    "print 'Crystal is pretty.'"
   ]
  },
  {
   "cell_type": "code",
   "execution_count": null,
   "metadata": {},
   "outputs": [],
   "source": [
    "# TypeError  #資料型別錯誤\n",
    "\n",
    "x = 1 + '1'"
   ]
  },
  {
   "cell_type": "code",
   "execution_count": null,
   "metadata": {},
   "outputs": [],
   "source": [
    "# ZeroDivisionError   #分母為0的錯誤\n",
    "\n",
    "x = 1/0"
   ]
  },
  {
   "cell_type": "code",
   "execution_count": null,
   "metadata": {},
   "outputs": [],
   "source": [
    "# OSError  #檔案錯誤\n",
    "\n",
    "file_name = input('請輸入需要打開的文件名:')\n",
    "f = open(file_name, mode = 'r', encoding = 'utf-8')\n",
    "for each_line in f:\n",
    "    print(each_line)"
   ]
  },
  {
   "cell_type": "markdown",
   "metadata": {},
   "source": [
    "## assert 程式斷言  :檢查程式是否有指定的錯誤\n",
    "### 語法: assert 條件式,參數"
   ]
  },
  {
   "cell_type": "code",
   "execution_count": null,
   "metadata": {},
   "outputs": [],
   "source": [
    "# AssertionError  \n",
    "\n",
    "my_list = ['Crystal']\n",
    "assert len(my_list) > 0  # 建立檢查點   #如果條件式為True ，程式就不理會，繼續往下執行"
   ]
  },
  {
   "cell_type": "code",
   "execution_count": null,
   "metadata": {},
   "outputs": [],
   "source": [
    "my_list.pop()\n",
    "assert len(my_list) > 0 # 建立檢查點   #如果條件式為False ，程式終止並拋出 AssertionError的例外"
   ]
  },
  {
   "cell_type": "markdown",
   "metadata": {},
   "source": [
    "# Try/ Except"
   ]
  },
  {
   "cell_type": "code",
   "execution_count": null,
   "metadata": {},
   "outputs": [],
   "source": [
    "# 如果不知道會出現哪種異常，可以這樣用 \n",
    "\n",
    "try:\n",
    "    f = open('文件.txt', mode = 'r', encoding = 'utf-8')\n",
    "    content = f.read()\n",
    "    f.close()\n",
    "except:\n",
    "    print('出錯了喔!')"
   ]
  },
  {
   "cell_type": "code",
   "execution_count": null,
   "metadata": {},
   "outputs": [],
   "source": [
    "try:\n",
    "    print(n)\n",
    "except:\n",
    "    print(\"變數n不存在\")"
   ]
  },
  {
   "cell_type": "code",
   "execution_count": null,
   "metadata": {},
   "outputs": [],
   "source": [
    "# 如果不知道會出現哪種異常，可以這樣用 \n",
    "# 印出原因\n",
    "\n",
    "try:\n",
    "    f = open('文件.txt', mode = 'r', encoding = 'utf-8')\n",
    "    content = f.read()\n",
    "    f.close()\n",
    "except Exception as reason:\n",
    "    print('出錯了喔!\\n錯誤的原因是: ', reason)"
   ]
  },
  {
   "cell_type": "code",
   "execution_count": null,
   "metadata": {},
   "outputs": [],
   "source": [
    "try:\n",
    "    print(n)\n",
    "except Exception as e :  #若加入except的參數就可以觀察錯誤訊息  # 以as 加入參數 e \n",
    "    print(e)"
   ]
  },
  {
   "cell_type": "code",
   "execution_count": null,
   "metadata": {},
   "outputs": [],
   "source": [
    "# 對特別異常做處理\n",
    "\n",
    "try:\n",
    "    f = open('./mod20/文件.txt', mode = 'r', encoding = 'utf-8')\n",
    "    content = f.read()\n",
    "    f.close()\n",
    "except OSError as reason:\n",
    "    print('出錯了喔!\\n錯誤的原因是: ', reason)"
   ]
  },
  {
   "cell_type": "code",
   "execution_count": null,
   "metadata": {},
   "outputs": [],
   "source": [
    "# 對多個特別異常做各別處理\n",
    "\n",
    "try:\n",
    "    sum = 1 + '1'\n",
    "    f = open('文件.txt', mode = 'r', encoding = 'utf-8')\n",
    "    content = f.read()\n",
    "    f.close()\n",
    "except OSError as reason:\n",
    "    print('出錯了喔!\\n錯誤的原因是: ', reason)\n",
    "except TypeError as reason:\n",
    "    print('出錯了喔!\\n錯誤的原因是: ', reason)"
   ]
  },
  {
   "cell_type": "code",
   "execution_count": null,
   "metadata": {},
   "outputs": [],
   "source": [
    "#以一個except捕捉多個例外的語法\n",
    "try:\n",
    "    可能發生例外的程式區塊\n",
    "except(例外一，例外二) [as e] : \n",
    "    處理例外的程式區塊"
   ]
  },
  {
   "cell_type": "code",
   "execution_count": null,
   "metadata": {},
   "outputs": [],
   "source": [
    "# 另一種寫法\n",
    "# 記得只要 try 裡面的語句一旦出錯，就會跳出，不會繼續執行try下面的語句\n",
    "\n",
    "try:\n",
    "    sum = 1 + '1'\n",
    "    f = open('文件.txt', mode = 'r', encoding = 'utf-8')\n",
    "    content = f.read()\n",
    "    f.close()\n",
    "except (OSError, TypeError) as reason:\n",
    "    print('出錯了喔!\\n錯誤的原因是: ', reason)   "
   ]
  },
  {
   "cell_type": "code",
   "execution_count": null,
   "metadata": {
    "scrolled": true
   },
   "outputs": [],
   "source": [
    "try:\n",
    "    a=int(input(\"請輸入第一個整數\"))\n",
    "    b=int(input(\"請輸入第二個整數\"))\n",
    "    r = a % b\n",
    "except ValueError:\n",
    "    print(\"發生輸入非數值的錯誤!\")\n",
    "except Exception as reason:\n",
    "    print(\"發生 \",e,\" 的錯誤，包含分母為0的錯誤!\")\n",
    "else:\n",
    "          print(\"r=\", r)\n",
    "finally:\n",
    "          print(\"一定會執行的程式區塊\")"
   ]
  },
  {
   "cell_type": "code",
   "execution_count": null,
   "metadata": {},
   "outputs": [],
   "source": [
    "try:\n",
    "    a=int(input(\"請輸入第一個整數\"))\n",
    "    b=int(input(\"請輸入第二個整數\"))\n",
    "    r = a % b\n",
    "except(ValueError,ZeroDivisionError):\n",
    "    print(\"發生輸入非數值的錯誤或分母為0的錯誤!\")\n",
    "else:\n",
    "    print(\"r=\",r)\n",
    "finally:\n",
    "    print(\"一定會執行的程式區塊\")"
   ]
  },
  {
   "cell_type": "code",
   "execution_count": null,
   "metadata": {},
   "outputs": [],
   "source": [
    "# finally 語句不管怎樣一定會被執行\n",
    "# 沒有 f.close()，文件會沒被儲存下來\n",
    "\n",
    "try:\n",
    "    f = open('./mod20/FinallyDemo.txt', mode = 'w', encoding = 'utf-8')\n",
    "    f.write('Crystal is cute')\n",
    "    sum = 1 + '1'\n",
    "except (OSError, TypeError):\n",
    "    print('出錯了喔!')\n",
    "finally:\n",
    "    f.close()"
   ]
  },
  {
   "cell_type": "code",
   "execution_count": null,
   "metadata": {},
   "outputs": [],
   "source": [
    "# 只要try語句執行完全，就會執行 else\n",
    "\n",
    "try:\n",
    "    a=int(input(\"請輸入第一個整數：\"))\n",
    "    b=int(input(\"請輸入第二個整數：\"))\n",
    "    r = a % b    \n",
    "except ValueError:\n",
    "    print(\"發生輸入非數值的錯誤!\")   \n",
    "except Exception as e:\n",
    "    print(\"發生\",e,\"的錯誤，包括分母為 0 的錯誤!\")\n",
    "else:\n",
    "    print(\"r=\",r)\n",
    "finally:\n",
    "    print(\"一定會執行的程式區塊\")   "
   ]
  },
  {
   "cell_type": "code",
   "execution_count": null,
   "metadata": {},
   "outputs": [],
   "source": [
    "n=2\n",
    "try:\n",
    "    n+1\n",
    "except:\n",
    "    print(\"變數n不存在!\")\n",
    "else:\n",
    "    print(\"n=\",n)"
   ]
  },
  {
   "cell_type": "code",
   "execution_count": null,
   "metadata": {},
   "outputs": [],
   "source": [
    "# 自己引發異常\n",
    "#raise 主動拋出例外\n",
    "\n",
    "my_passwd = 'Matt'\n",
    "if len(my_passwd) < 10:\n",
    "    raise Exception('password is too short')"
   ]
  },
  {
   "cell_type": "code",
   "execution_count": null,
   "metadata": {},
   "outputs": [],
   "source": [
    "def CheckSpeed(speed):\n",
    "    if speed < 70:\n",
    "        raise Exception(\"速度太慢了!\")\n",
    "    if speed >120:\n",
    "        raise Exception(\"速度太快了\")\n",
    "        \n",
    "for speed in (60,100,150):\n",
    "    try:\n",
    "        CheckSpeed(speed)\n",
    "    except Exception as e :\n",
    "        print(\"現在速度:{},{}\".format(speed,e))\n",
    "    else:\n",
    "        print(\"目前時速:{}\".format(speed))"
   ]
  },
  {
   "cell_type": "code",
   "execution_count": null,
   "metadata": {},
   "outputs": [],
   "source": [
    "# 檢查異常\n",
    "#設定檢查站\n",
    "\n",
    "my_passwd = 'Crystal'\n",
    "assert len(my_passwd) > 10, 'password is too short'"
   ]
  },
  {
   "cell_type": "code",
   "execution_count": null,
   "metadata": {},
   "outputs": [],
   "source": [
    "# 範例1\n",
    "#注意有先後順序\n",
    "#eval() 在mod06有說明，函數輸入必須是字串\n",
    "\n",
    "\n",
    "try:\n",
    "    n1,n2 = eval(input('Input two integers(n1,n2): '))\n",
    "    r = n1/n2\n",
    "    print('r =', r)    \n",
    "except SyntaxError: #輸入1;2可以測試此區塊\n",
    "    print('Error: Please separate input data by comma!')\n",
    "except ZeroDivisionError: #n2輸入0可以測試此區塊\n",
    "    print('Error: Devided by zero!')\n",
    "except: # 只輸入一個數字可以測試此區塊\n",
    "    print('Error: Input error!')\n",
    "else:\n",
    "    print('no error')\n",
    "finally:\n",
    "    print('finally')         "
   ]
  },
  {
   "cell_type": "code",
   "execution_count": null,
   "metadata": {},
   "outputs": [],
   "source": [
    "# 範例2\n",
    "\n",
    "while True:\n",
    "    try:\n",
    "        lst1 = [1,2,3,4]\n",
    "        idx = int(input('Enter an index: '))\n",
    "        if not 0<=idx<4:\n",
    "            raise IndexError('Index out of range')\n",
    "        print('Value is',lst1[idx])\n",
    "        break\n",
    "    except ValueError as e:\n",
    "        print('value Error :', e) "
   ]
  }
 ],
 "metadata": {
  "kernelspec": {
   "display_name": "Python 3",
   "language": "python",
   "name": "python3"
  },
  "language_info": {
   "codemirror_mode": {
    "name": "ipython",
    "version": 3
   },
   "file_extension": ".py",
   "mimetype": "text/x-python",
   "name": "python",
   "nbconvert_exporter": "python",
   "pygments_lexer": "ipython3",
   "version": "3.9.5"
  }
 },
 "nbformat": 4,
 "nbformat_minor": 4
}
