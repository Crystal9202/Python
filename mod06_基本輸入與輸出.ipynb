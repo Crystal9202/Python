{
 "cells": [
  {
   "cell_type": "code",
   "execution_count": null,
   "metadata": {},
   "outputs": [],
   "source": [
    "x = 3.14141414414\n",
    "\n",
    "\n",
    "\n",
    "print(f'{x:6.3f}')\n",
    "print('{:6.3f}'.format(x))"
   ]
  },
  {
   "cell_type": "code",
   "execution_count": null,
   "metadata": {},
   "outputs": [],
   "source": [
    "name=\"Crystal\" \n",
    "age=29\n",
    "\n",
    "\n",
    "print(f'{name} is {age} years old')\n",
    "print('{y} is {x} years old' .format(x=age,y=name))\n",
    "print('%s is %d years old' % (name,age))"
   ]
  },
  {
   "cell_type": "code",
   "execution_count": null,
   "metadata": {},
   "outputs": [],
   "source": [
    "123.000***"
   ]
  },
  {
   "cell_type": "code",
   "execution_count": null,
   "metadata": {},
   "outputs": [],
   "source": [
    "x=123\n",
    "print(f'{x:*<10.3f}')\n",
    "print(f'{x:*^10.3f}')\n",
    "print(f'{x:*>10.3f}')"
   ]
  },
  {
   "cell_type": "code",
   "execution_count": null,
   "metadata": {},
   "outputs": [],
   "source": []
  },
  {
   "cell_type": "code",
   "execution_count": null,
   "metadata": {},
   "outputs": [],
   "source": []
  },
  {
   "cell_type": "markdown",
   "metadata": {},
   "source": [
    "#  <font color=red> Module_06_基本輸入與輸出</font>"
   ]
  },
  {
   "cell_type": "markdown",
   "metadata": {},
   "source": [
    ">## - print() &rArr; 講義中提到:在寫.py腳本程式時才會用到 &rArr; 意味著在.py腳本程式中只有print()才能輸出\n",
    ">>### - 請看mod06/ex6_1.py 示範。"
   ]
  },
  {
   "cell_type": "markdown",
   "metadata": {},
   "source": [
    "---"
   ]
  },
  {
   "cell_type": "markdown",
   "metadata": {},
   "source": [
    "## 所有 程式語言 在啟動時, 都會開啟 3 個程序 :\n",
    ">### standard out (stdout) -- your screen >> Java : system.out\n",
    ">### stand input  (stdin)-- your keyboard   >> Java : system.in\n",
    ">### standard error(stderr) -- sreen    >>   Java : system.err\n",
    "## 基本輸入裝置 : 鍵盤 keyboard\n",
    "## 基本輸出裝置 : 螢幕 monitor"
   ]
  },
  {
   "cell_type": "code",
   "execution_count": null,
   "metadata": {},
   "outputs": [],
   "source": [
    "str1 = 'Apple'\n",
    "str2 = 'Banana'\n",
    "print(str1, str2) # 逗點後自動加一空格且結尾換行\n",
    "print(str1, str2, sep = ' ', end = '$') # 結尾由換行變成$"
   ]
  },
  {
   "cell_type": "code",
   "execution_count": null,
   "metadata": {},
   "outputs": [],
   "source": [
    "print ('Python is simple,', 'enjoy!')    # 結尾是換行符號\n",
    "print ('Python is simple,', 'enjoy!', end='$$$$$$$') \n",
    "print ('Python is simple,', 'enjoy!', sep='-------')"
   ]
  },
  {
   "cell_type": "code",
   "execution_count": null,
   "metadata": {},
   "outputs": [],
   "source": [
    "x = 3\n",
    "print('x is ', x)\n",
    "print('x is '+ str(x))\n",
    "print('x is '+ x)"
   ]
  },
  {
   "cell_type": "markdown",
   "metadata": {},
   "source": [
    "## 由input()得到的資料一律為字串。"
   ]
  },
  {
   "cell_type": "code",
   "execution_count": null,
   "metadata": {},
   "outputs": [],
   "source": [
    "x = input('x = ')\n",
    "type(x)"
   ]
  },
  {
   "cell_type": "code",
   "execution_count": null,
   "metadata": {
    "scrolled": true
   },
   "outputs": [],
   "source": [
    "x = input('x = ')\n",
    "print('x+5=', int(x) + 5)\n",
    "print('x+5=', x + 5)"
   ]
  },
  {
   "cell_type": "markdown",
   "metadata": {},
   "source": [
    "## eval()函數輸入必須是字串。"
   ]
  },
  {
   "cell_type": "code",
   "execution_count": null,
   "metadata": {},
   "outputs": [],
   "source": [
    "x='2'\n",
    "y='3'\n",
    "eval(x*100) # 需要輸入字串, 出來會是整數, 且會幫你算字串的運算式\n"
   ]
  },
  {
   "cell_type": "code",
   "execution_count": null,
   "metadata": {},
   "outputs": [],
   "source": [
    "type(eval('5*30'))"
   ]
  },
  {
   "cell_type": "code",
   "execution_count": null,
   "metadata": {
    "scrolled": true
   },
   "outputs": [],
   "source": [
    "eval(5*30)  # TypeError : shall be string"
   ]
  },
  {
   "cell_type": "code",
   "execution_count": null,
   "metadata": {},
   "outputs": [],
   "source": [
    "a = 200\n",
    "print('a*5')\n",
    "eval('a*5') "
   ]
  },
  {
   "cell_type": "code",
   "execution_count": null,
   "metadata": {},
   "outputs": [],
   "source": [
    "x = 4\n",
    "eval('x*4')"
   ]
  },
  {
   "cell_type": "markdown",
   "metadata": {},
   "source": [
    "## eval 通常跟 input 連用"
   ]
  },
  {
   "cell_type": "code",
   "execution_count": null,
   "metadata": {},
   "outputs": [],
   "source": [
    "num= eval(input('input number (ex. 5*6 or 9/4):'))  # like 3*5\n",
    "num   # it is a number"
   ]
  },
  {
   "cell_type": "markdown",
   "metadata": {},
   "source": [
    "## f-string 格式化輸出"
   ]
  },
  {
   "cell_type": "code",
   "execution_count": null,
   "metadata": {},
   "outputs": [],
   "source": [
    "str1= 'Wang Chung'\n",
    "num1= 50\n",
    "print(f'{str1} is {num1} years old')"
   ]
  },
  {
   "cell_type": "code",
   "execution_count": null,
   "metadata": {},
   "outputs": [],
   "source": [
    "name = 'III' \n",
    "est  = 1979\n",
    "\n",
    "print(f'{name} was established in {est}.') "
   ]
  },
  {
   "cell_type": "code",
   "execution_count": null,
   "metadata": {},
   "outputs": [],
   "source": [
    "print(f'{2*37}')"
   ]
  },
  {
   "cell_type": "code",
   "execution_count": null,
   "metadata": {},
   "outputs": [],
   "source": [
    "name = 'III'\n",
    "prof = 'Scientist'\n",
    "lang  = 'Python'\n",
    "message =  f'Hi {name}. ' \\\n",
    "           f'You are a {prof}. ' \\\n",
    "           f'You like {lang}. '\n",
    "          \n",
    "message"
   ]
  },
  {
   "cell_type": "code",
   "execution_count": null,
   "metadata": {},
   "outputs": [],
   "source": [
    "print(f'{50:10.3f}')\n",
    "print(f'{500:1.2f}')"
   ]
  },
  {
   "cell_type": "code",
   "execution_count": null,
   "metadata": {},
   "outputs": [],
   "source": [
    "num = 50\n",
    "print(f'{num:.2f}') # 顯示小數點後兩位\n",
    "print(f'{num:.5f}') "
   ]
  },
  {
   "cell_type": "code",
   "execution_count": null,
   "metadata": {},
   "outputs": [],
   "source": [
    "print(f'{num:10.3f}') # 顯示 10 個單位"
   ]
  },
  {
   "cell_type": "code",
   "execution_count": null,
   "metadata": {},
   "outputs": [],
   "source": [
    "num = 123456789\n",
    "print(f'{num:5}') # 如果變數長度超過指定長度，以變數長度為主"
   ]
  },
  {
   "cell_type": "code",
   "execution_count": null,
   "metadata": {},
   "outputs": [],
   "source": [
    "name = 'PYTHON' \n",
    "print(name.lower(), 'is funny.') \n",
    "print(f'{name.lower()} is funny.' )\n",
    "print('name.lower() is funny')\n",
    "f'{name.lower()} is funny.' "
   ]
  },
  {
   "cell_type": "code",
   "execution_count": null,
   "metadata": {},
   "outputs": [],
   "source": [
    "data = {'name': 'III', 'est': 40} \n",
    "f\"The name is {data['name']}, aged {data['est']}.\" "
   ]
  },
  {
   "cell_type": "code",
   "execution_count": null,
   "metadata": {},
   "outputs": [],
   "source": [
    "data = {'name': 'III', 'est': 40} \n",
    "'The name is {name}, aged {est}.'.format(**data) # unpack dict to be arbitrary keyword arguments "
   ]
  },
  {
   "cell_type": "code",
   "execution_count": null,
   "metadata": {},
   "outputs": [],
   "source": [
    "'{2}, {1}, {0}'.format(*'abc') # unpack string to be arbitrary arguments"
   ]
  },
  {
   "cell_type": "markdown",
   "metadata": {},
   "source": [
    "## str.format() 格式化輸出"
   ]
  },
  {
   "cell_type": "code",
   "execution_count": null,
   "metadata": {},
   "outputs": [],
   "source": [
    "name = 'Wang'\n",
    "age = 10\n",
    "print('{} is {} years old'.format(name, age))\n",
    "print('{1} is {0} years old'.format(age, name) )\n",
    "print('{n1} is {n2} years old'.format(n2 = age, n1 = name))"
   ]
  },
  {
   "cell_type": "code",
   "execution_count": null,
   "metadata": {},
   "outputs": [],
   "source": [
    "name = 'III'\n",
    "est  = 1979\n",
    "print('{} is established in {}'.format(name,est))\n",
    "print('{0} was established in {1}'.format(name, est)) \n",
    "print('{1} was established in {0}'.format(name, est)) "
   ]
  },
  {
   "cell_type": "code",
   "execution_count": null,
   "metadata": {},
   "outputs": [],
   "source": [
    "print('{x} is established in {y}'.format(x = 'ROC', y = 1911))"
   ]
  },
  {
   "cell_type": "code",
   "execution_count": null,
   "metadata": {
    "scrolled": true
   },
   "outputs": [],
   "source": [
    "x = 3.14141414414\n",
    "print(f'{x:6.3f}')\n",
    "print('{:6.3f}'.format(x))"
   ]
  },
  {
   "cell_type": "code",
   "execution_count": null,
   "metadata": {},
   "outputs": [],
   "source": [
    "print('{:7.4f}'.format(20.123))"
   ]
  },
  {
   "cell_type": "markdown",
   "metadata": {},
   "source": [
    "## %-formatting 格式化輸出"
   ]
  },
  {
   "cell_type": "code",
   "execution_count": null,
   "metadata": {},
   "outputs": [],
   "source": [
    "name = 'Wang'\n",
    "age = 10\n",
    "print('%s is %d years old' % (name, age))"
   ]
  },
  {
   "cell_type": "code",
   "execution_count": null,
   "metadata": {},
   "outputs": [],
   "source": [
    "name = 'III'\n",
    "est = 1979\n",
    "print('%s is established in %d' % (name, est))\n",
    "print('%s is established in %d' % (est, name))"
   ]
  },
  {
   "cell_type": "markdown",
   "metadata": {},
   "source": [
    "## f-string 數字格式 :\n",
    "### f'{ 變數[:] [填補字元] [變數在字串的位置] [變數顯示長度] [類型碼] }'\n",
    ">### 變數在字串的位置\n",
    ">>##### 靠左&rArr;<\n",
    ">>##### 靠右&rArr;>\n",
    ">>##### 置中&rArr;^\n",
    ">### 變數顯示長度\n",
    ">>#### 如果變數長度超過長度，以變數長度為主\n",
    ">### 類型碼\n",
    ">><img src='./img/str_format.png'>"
   ]
  },
  {
   "cell_type": "code",
   "execution_count": null,
   "metadata": {},
   "outputs": [],
   "source": [
    "num = 123\n",
    "print(f'{num:*>10.3f}') # *是填補字元。 >是變數在字串的位置。 10是變數的顯示長度。 .3f是類型碼=>精準度到小數點後三位。\n",
    "print(f'{num:0>10.3f}') # 0是填補字元。 >是變數在字串的位置。 10是變數的顯示長度。 .3f是類型碼=>精準度到小數點後三位。\n",
    "print(f'{num: >10.3f}') # \" \"是填補字元。 >是變數在字串的位置。 10是變數的顯示長度。 .3f是類型碼=>精準度到小數點後三位。"
   ]
  },
  {
   "cell_type": "code",
   "execution_count": null,
   "metadata": {},
   "outputs": [],
   "source": [
    "print(f'{num:*<10.3f}') # *是填補字元。 <是變數在字串的位置。 10是變數的顯示長度。 .3f是類型碼=>精準度到小數點後三位。\n",
    "print(f'{num:*^10.3f}') # *是填補字元。 ^是變數在字串的位置。 10是變數的顯示長度。 .3f是類型碼=>精準度到小數點後三位。\n",
    "print(f'{num:*>10.3f}') # *是填補字元。 >是變數在字串的位置。 10是變數的顯示長度。 .3f是類型碼=>精準度到小數點後三位。"
   ]
  },
  {
   "cell_type": "code",
   "execution_count": null,
   "metadata": {},
   "outputs": [],
   "source": [
    "num = 16\n",
    "print(f'{num:b}') # 50轉2進位      # 比較 bin()\n",
    "print(f'{num:o}') # 50轉8進位 \n",
    "print(f'{num:x}') # 50轉16進位\n",
    "print(f'{123456789:e}') # 科學記號"
   ]
  },
  {
   "cell_type": "code",
   "execution_count": null,
   "metadata": {},
   "outputs": [],
   "source": [
    "num = 48\n",
    "print(f'num 的二進位是: {num:b}')\n",
    "print(f'num 的科學符號是: {num: e}')"
   ]
  },
  {
   "cell_type": "markdown",
   "metadata": {},
   "source": [
    "## f-string 支援日期時間格式"
   ]
  },
  {
   "cell_type": "code",
   "execution_count": null,
   "metadata": {},
   "outputs": [],
   "source": [
    "from datetime import datetime\n",
    "print(f'{datetime(2001, 2, 3, 4, 5):%Y/%m/%d}')\n",
    "print(f'{datetime(2001, 2, 3, 4, 5):%Y/%m/%d %H:%M:%S}')"
   ]
  },
  {
   "cell_type": "markdown",
   "metadata": {},
   "source": [
    "## f-string在大數據操作時，處理效率較高。"
   ]
  },
  {
   "cell_type": "code",
   "execution_count": null,
   "metadata": {
    "scrolled": true
   },
   "outputs": [],
   "source": [
    "name = 'III'; est = 1979\n",
    "\n",
    "%timeit f'{name} was established in {est}'  # faster\n",
    "%timeit '{} was established in {}'.format(name,est)     # slower\n",
    "%timeit '%s was established in %d'%(name,est)     # slower"
   ]
  },
  {
   "cell_type": "code",
   "execution_count": null,
   "metadata": {},
   "outputs": [],
   "source": []
  }
 ],
 "metadata": {
  "kernelspec": {
   "display_name": "Python 3",
   "language": "python",
   "name": "python3"
  },
  "language_info": {
   "codemirror_mode": {
    "name": "ipython",
    "version": 3
   },
   "file_extension": ".py",
   "mimetype": "text/x-python",
   "name": "python",
   "nbconvert_exporter": "python",
   "pygments_lexer": "ipython3",
   "version": "3.9.5"
  }
 },
 "nbformat": 4,
 "nbformat_minor": 2
}
