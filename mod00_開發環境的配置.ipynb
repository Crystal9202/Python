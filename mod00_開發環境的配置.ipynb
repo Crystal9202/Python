{
 "cells": [
  {
   "cell_type": "markdown",
   "id": "40317779",
   "metadata": {},
   "source": [
    "#  <font color=red> Module_00_開發環境的配置</font>"
   ]
  },
  {
   "cell_type": "markdown",
   "id": "9a668ec9",
   "metadata": {},
   "source": [
    "## 使用 virtualenv 套件"
   ]
  },
  {
   "cell_type": "code",
   "execution_count": 2,
   "id": "bfabfffd",
   "metadata": {},
   "outputs": [],
   "source": [
    "# step1 安裝virtualenv套件 : pip install virtualenv\n",
    "# step2 新增一個新的資料夾 : project_ML\n",
    "# step3 cd 到專案資料夾 project_ML下，然後建立虛擬環境 : virtualenv -p \"/path to your Python35 directory/python.exe\" mlenv\n",
    "# step4 啟用虛擬環境: cd mlenv/Scripts，然後輸入 activate.bat\n",
    "# 可用 pip list 查看所有目前下載過的套件"
   ]
  },
  {
   "cell_type": "code",
   "execution_count": 3,
   "id": "fdff392a",
   "metadata": {},
   "outputs": [],
   "source": [
    "# python 套件安裝\n",
    "\n",
    "# step1 cd 至專案資料夾 project_ML\n",
    "# step2 開啟虛擬環境\n",
    "# step3 pip install -r requirement.txt (注意 requirement.txt檔也要放在專案資料夾 project_ML 下)"
   ]
  },
  {
   "cell_type": "code",
   "execution_count": 4,
   "id": "7ee64ffb",
   "metadata": {},
   "outputs": [],
   "source": [
    "# 列出被安裝過的 python 模組跟其版本，並輸出成 requirement.txt:\n",
    "# pip freeze > requirement.txt"
   ]
  },
  {
   "cell_type": "markdown",
   "id": "d9849821",
   "metadata": {},
   "source": [
    "## 使用 anaconda 軟體"
   ]
  },
  {
   "cell_type": "code",
   "execution_count": 1,
   "id": "3c2a986b",
   "metadata": {},
   "outputs": [],
   "source": [
    "# step1 下載 anaconda  : https://www.anaconda.com/products/individual\n",
    "# step2 開啟搜尋視窗，搜尋 Anaconda Navigator，並點開它\n",
    "# stpe3 點選 Environments 並按下 Creat 按鈕，輸入環境名稱與所需 python 版本\n",
    "# step4 點選環境上的綠色箭頭，點選 open terminal，打開 cmd 模式"
   ]
  },
  {
   "cell_type": "code",
   "execution_count": 2,
   "id": "1b2d64ab",
   "metadata": {},
   "outputs": [],
   "source": [
    "# 也可在 (base) 環境下直接創建虛擬環境 : conda create -n 虛擬環境名稱 python=版本 anaconda\n",
    "# 指令最後的 anaconda 代表建立時會同時安裝其他預設模組"
   ]
  },
  {
   "cell_type": "markdown",
   "id": "c42d2862",
   "metadata": {},
   "source": [
    "## 使用 pycharm"
   ]
  },
  {
   "cell_type": "code",
   "execution_count": 3,
   "id": "ea674f16",
   "metadata": {},
   "outputs": [],
   "source": [
    "# step1 下載 pycharm : https://www.jetbrains.com/pycharm/\n",
    "# step2 創造新專案"
   ]
  },
  {
   "cell_type": "markdown",
   "id": "de9a9180",
   "metadata": {},
   "source": [
    "## 使用雲端環境 repl"
   ]
  },
  {
   "cell_type": "code",
   "execution_count": 4,
   "id": "8efcf29d",
   "metadata": {},
   "outputs": [],
   "source": [
    "# 打開瀏覽器輸入 : https://replit.com/"
   ]
  }
 ],
 "metadata": {
  "kernelspec": {
   "display_name": "Python 3",
   "language": "python",
   "name": "python3"
  },
  "language_info": {
   "codemirror_mode": {
    "name": "ipython",
    "version": 3
   },
   "file_extension": ".py",
   "mimetype": "text/x-python",
   "name": "python",
   "nbconvert_exporter": "python",
   "pygments_lexer": "ipython3",
   "version": "3.9.5"
  }
 },
 "nbformat": 4,
 "nbformat_minor": 5
}
