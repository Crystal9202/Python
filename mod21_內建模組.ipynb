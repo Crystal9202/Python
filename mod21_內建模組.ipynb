{
 "cells": [
  {
   "cell_type": "markdown",
   "metadata": {},
   "source": [
    "#  <font color=red> Module_21_內建模組</font>"
   ]
  },
  {
   "cell_type": "markdown",
   "metadata": {},
   "source": [
    "## 模組中有很多函式供使用，使用這些函式的語法 \n",
    "### 模組名稱   函式名稱"
   ]
  },
  {
   "cell_type": "markdown",
   "metadata": {},
   "source": [
    "# Datetime"
   ]
  },
  {
   "cell_type": "code",
   "execution_count": 1,
   "metadata": {},
   "outputs": [
    {
     "name": "stdout",
     "output_type": "stream",
     "text": [
      "2021-07-08 06:29:32.963677\n"
     ]
    }
   ],
   "source": [
    "import datetime\n",
    "\n",
    "# 獲得當地時間\n",
    "print(datetime.datetime.now())"
   ]
  },
  {
   "cell_type": "code",
   "execution_count": 4,
   "metadata": {},
   "outputs": [
    {
     "name": "stdout",
     "output_type": "stream",
     "text": [
      "2021-07-08 06:31:17.164046\n"
     ]
    }
   ],
   "source": [
    "from datetime import datetime as dt\n",
    "\n",
    "print(dt.now())"
   ]
  },
  {
   "cell_type": "code",
   "execution_count": 5,
   "metadata": {},
   "outputs": [
    {
     "name": "stdout",
     "output_type": "stream",
     "text": [
      "2021-07-08 06:31:38.376967 <class 'datetime.datetime'>\n"
     ]
    }
   ],
   "source": [
    "import datetime\n",
    "\n",
    "# 獲得當地時間\n",
    "datetime_dt = datetime.datetime.today()\n",
    "print(datetime_dt, type(datetime_dt))"
   ]
  },
  {
   "cell_type": "code",
   "execution_count": 8,
   "metadata": {},
   "outputs": [
    {
     "name": "stdout",
     "output_type": "stream",
     "text": [
      "2021-07-08 06:34:01 <class 'str'>\n"
     ]
    }
   ],
   "source": [
    "# 把日期型別改成字串型別\n",
    "datetime_str = datetime.datetime.strftime(datetime_dt, \"%Y-%m-%d %H:%M:%S\")  \n",
    "print(datetime_str, type(datetime_str))"
   ]
  },
  {
   "cell_type": "code",
   "execution_count": 9,
   "metadata": {},
   "outputs": [
    {
     "name": "stdout",
     "output_type": "stream",
     "text": [
      "2021-07-08 06:34:01 <class 'datetime.datetime'>\n"
     ]
    }
   ],
   "source": [
    "# 把字串型別改成日期型別\n",
    "datetime_dt = datetime.datetime.strptime(datetime_str, \"%Y-%m-%d %H:%M:%S\")\n",
    "print(datetime_dt, type(datetime_dt))"
   ]
  },
  {
   "cell_type": "code",
   "execution_count": 10,
   "metadata": {},
   "outputs": [
    {
     "name": "stdout",
     "output_type": "stream",
     "text": [
      "3:00:00 <class 'datetime.timedelta'>\n"
     ]
    }
   ],
   "source": [
    "import datetime\n",
    "\n",
    "# 獲得當地時間\n",
    "datetime_dt = datetime.datetime.today()\n",
    "\n",
    "# 時差\n",
    "time_delta = datetime.timedelta(hours=3) \n",
    "print(time_delta, type(time_delta))"
   ]
  },
  {
   "cell_type": "code",
   "execution_count": 11,
   "metadata": {},
   "outputs": [
    {
     "name": "stdout",
     "output_type": "stream",
     "text": [
      "2021-07-08 09:35:06.894078 <class 'datetime.datetime'>\n",
      "2021/07/08 09:35:06 <class 'str'>\n"
     ]
    }
   ],
   "source": [
    "#本地時間加 3小時\n",
    "new_dt = datetime_dt + time_delta \n",
    "print(new_dt, type(new_dt))\n",
    "\n",
    "# 把日期型別改成字串型別\n",
    "datetime_format = new_dt.strftime(\"%Y/%m/%d %H:%M:%S\")  \n",
    "print(datetime_format, type(datetime_format))"
   ]
  },
  {
   "cell_type": "code",
   "execution_count": 12,
   "metadata": {},
   "outputs": [
    {
     "name": "stdout",
     "output_type": "stream",
     "text": [
      "2021-07-08 <class 'datetime.date'>\n",
      "現在是 2021年 7月 8日\n"
     ]
    }
   ],
   "source": [
    "import datetime\n",
    "\n",
    "# 獲得當地時間\n",
    "datetime_dt = datetime.datetime.today()\n",
    "\n",
    "# 最小日期顯示到日\n",
    "dt = datetime_dt.date()\n",
    "print(dt, type(dt))\n",
    "\n",
    "# 年月日的選取, 變成整數型態\n",
    "print(\"現在是 {}年 {}月 {}日\".format(dt.year, dt.month, dt.day))\n"
   ]
  },
  {
   "cell_type": "code",
   "execution_count": null,
   "metadata": {},
   "outputs": [],
   "source": [
    "import datetime\n",
    "\n",
    "starttime = datetime.datetime.now() #開始計算時間\n",
    "##############\n",
    " \n",
    "for i in range(1000):\n",
    "    for j in range(1000):\n",
    "        continue\n",
    "    print('test ' ,end='')\n",
    "##############\n",
    "print('')\n",
    "endtime = datetime.datetime.now() #結束時間\n",
    "print(endtime - starttime) #程式執行時間\n"
   ]
  },
  {
   "cell_type": "markdown",
   "metadata": {},
   "source": [
    "# Math"
   ]
  },
  {
   "cell_type": "code",
   "execution_count": 22,
   "metadata": {},
   "outputs": [
    {
     "name": "stdout",
     "output_type": "stream",
     "text": [
      "7.38905609893065\n"
     ]
    }
   ],
   "source": [
    "import math \n",
    "\n",
    "x1 = math.ceil(-3.6)\n",
    "x2 = math.floor(-5.6)\n",
    "x3 = math.sqrt(64)\n",
    "x4 = math.sin(0)\n",
    "x5 = math.cos(0)\n",
    "x6 = math.e        #自然數\n",
    "x7 = math.pi       #沒有規則的循環數叫無理數，有規則的循環數叫有理數\n",
    "x8 = math.log(1)\n",
    "x9 = math.exp(2)   #自然數平方\n",
    "\n",
    "#print(x1)\n",
    "#print(x2)\n",
    "#print(x3)\n",
    "# print(x4)\n",
    "# print(x5)\n",
    "#print(x6)\n",
    "#print(x7)\n",
    "#print(x8)\n",
    "#print(x9)\n",
    "\n"
   ]
  },
  {
   "cell_type": "markdown",
   "metadata": {},
   "source": [
    "# Random"
   ]
  },
  {
   "cell_type": "code",
   "execution_count": 32,
   "metadata": {},
   "outputs": [
    {
     "name": "stdout",
     "output_type": "stream",
     "text": [
      "0.4288890546751146\n"
     ]
    }
   ],
   "source": [
    "import random\n",
    "\n",
    "#random.seed(10)\n",
    "\n",
    "\n",
    "# 由 0 到 1 之間隨機取得一個浮點數\n",
    "print(random.random())"
   ]
  },
  {
   "cell_type": "code",
   "execution_count": 33,
   "metadata": {},
   "outputs": [
    {
     "name": "stdout",
     "output_type": "stream",
     "text": [
      "11.983734721554937\n"
     ]
    }
   ],
   "source": [
    "import random\n",
    "\n",
    "\n",
    "# uniform(f1, f2) 由 f1 到 f2 之間隨機取得一個浮點數\n",
    "print(random.uniform(1,20))"
   ]
  },
  {
   "cell_type": "code",
   "execution_count": 37,
   "metadata": {},
   "outputs": [
    {
     "name": "stdout",
     "output_type": "stream",
     "text": [
      "32\n"
     ]
    }
   ],
   "source": [
    "import random\n",
    "\n",
    "# randint(n1, n2)  由 n1 到 n2 之間隨機取一個整數\n",
    "print(random.randint(1, 50))"
   ]
  },
  {
   "cell_type": "code",
   "execution_count": 40,
   "metadata": {},
   "outputs": [
    {
     "name": "stdout",
     "output_type": "stream",
     "text": [
      "7\n"
     ]
    }
   ],
   "source": [
    "#n3 是遞增值，不一定要寫，預設為1\n",
    "\n",
    "import random\n",
    "\n",
    "# randrange(n1, n2, n3) 由 n1 到 n2 之間每隔 n3 的數隨機取一個整數\n",
    "print(random.randrange(3, 9, 2))"
   ]
  },
  {
   "cell_type": "markdown",
   "metadata": {},
   "source": [
    "### sample\n",
    "\n",
    "##### 亂數模組名稱.sample(字串或串列, 數量)\n",
    "\n",
    "#### 用途在於 可以取得指定數目，而且不重複，很適合用在大樂透開獎"
   ]
  },
  {
   "cell_type": "code",
   "execution_count": 41,
   "metadata": {},
   "outputs": [
    {
     "name": "stdout",
     "output_type": "stream",
     "text": [
      "['Matt', 'Crystal']\n",
      "['s', 'r', 't', 'y', 'a', 'l']\n"
     ]
    }
   ],
   "source": [
    "import random\n",
    "\n",
    "# sample(字串或列表, n) 由字串或列表中隨機選出 n 個字元 # 不放回 # 抽獎   #顯示結果是一個list\n",
    "mylist = [\"Crystal\", \"Matt\", \"Alice\"]\n",
    "print(random.sample(mylist, k=2))      #k=n 取出n個\n",
    "\n",
    "# 抽字元\n",
    "str1 = \"Crystal\"\n",
    "print(random.sample(str1, k=6))    "
   ]
  },
  {
   "cell_type": "code",
   "execution_count": 44,
   "metadata": {},
   "outputs": [
    {
     "name": "stdout",
     "output_type": "stream",
     "text": [
      "['d', 'b', 'g']\n",
      "['7', '1']\n"
     ]
    }
   ],
   "source": [
    "import random\n",
    "print(random.sample('abcdefg',k=3))    #k=n\n",
    "print(random.sample('12345678',2))     #直接寫數字也表示數量"
   ]
  },
  {
   "cell_type": "markdown",
   "metadata": {},
   "source": [
    "### choices"
   ]
  },
  {
   "cell_type": "code",
   "execution_count": null,
   "metadata": {},
   "outputs": [],
   "source": [
    "import random\n",
    "\n",
    "#choices(字串或列表, n) 由字串或列表中隨機選出 n 個字元, 但是可以做加權 # 放回\n",
    "mylist = [\"apple\", \"banana\", \"cherry\"]\n",
    "print(random.choices(mylist, weights = [1, 10, 1], k = 14))"
   ]
  },
  {
   "cell_type": "code",
   "execution_count": null,
   "metadata": {},
   "outputs": [],
   "source": [
    "import random\n",
    "\n",
    "# shuffle(列表) 為列表洗牌\n",
    "mylist = [\"Crystal\", \"Matt\", \"Alice\"]\n",
    "random.shuffle(mylist)\n",
    "print(mylist)"
   ]
  },
  {
   "cell_type": "markdown",
   "metadata": {},
   "source": [
    "# OS"
   ]
  },
  {
   "cell_type": "markdown",
   "metadata": {},
   "source": [
    "><img src=\"./mod21/picture1.png\" style=\"zoom:70%\" />"
   ]
  },
  {
   "cell_type": "markdown",
   "metadata": {},
   "source": [
    "><img src=\"./mod21/picture2.png\" style=\"zoom:70%\" />"
   ]
  },
  {
   "cell_type": "code",
   "execution_count": null,
   "metadata": {},
   "outputs": [],
   "source": [
    "import os\n",
    "\n",
    "\n",
    "# 返回當前工作目錄 Get current workinf directory\n",
    "# print(os.getcwd())\n",
    "\n",
    "# 改變工作目錄 Change directory  # 也可改用反斜線\n",
    "# os.chdir('C:\\\\Users\\\\User\\\\Desktop')\n",
    "# os.getcwd()\n",
    "\n",
    "# 列出指定目錄下的檔案與目錄名 '.' 表示當前目錄 '..' 表示上一級目錄\n",
    "# os.listdir('.')\n",
    "\n",
    "# 創建單層目錄, 目錄已經存在會拋出異常\n",
    "# os.mkdir('./A')\n",
    "\n",
    "# 創建多層目錄, 目錄已經存在會拋出異常\n",
    "# os.makedirs('./A/B')\n",
    "\n",
    "# 刪除單層目錄, 目錄非空會拋出異常\n",
    "# os.rmdir('C:\\\\Users\\\\User\\\\Desktop\\\\A')\n",
    "\n",
    "# 刪除多層目錄, 目錄非空會拋出異常\n",
    "# os.removedirs('C:\\\\Users\\\\User\\\\Desktop\\\\A\\\\B')\n",
    "\n",
    "# 刪除指定檔案\n",
    "# os.remove(\"./2.txt\")\n",
    "\n",
    "# rename(old, new) 將舊文件重新命名為新文件 # 當前目錄要找的到阿\n",
    "# os.rename('1.txt','2.txt') \n",
    "\n",
    "#取得環境變數內容\n",
    "# print(os.environ.get('PATH')) \n",
    "\n",
    "#取得家目錄路徑\n",
    "# print(os.path.expanduser('~'))   \n"
   ]
  },
  {
   "cell_type": "code",
   "execution_count": null,
   "metadata": {},
   "outputs": [],
   "source": [
    "import os.path\n",
    "\n",
    "# 返回當前工作目錄 # 看是否跟目前的執行檔案同一目錄\n",
    "# print(os.getcwd())\n",
    "\n",
    "# 傳回檔案的完整路徑名稱 # 也就是當下的目錄再加上檔案名\n",
    "# print(os.path.abspath(\"abcdef.txt\"))\n",
    "\n",
    "#檢查指定的路徑或檔案是否存在\n",
    "# print(os.path.exists(\"./something.txt\"))\n",
    "\n",
    "# 去掉目錄名稱, 單獨返回檔案名\n",
    "# print(os.path.basename('C:\\\\A\\\\B\\\\123.txt'))\n",
    "\n",
    "# 去掉檔案名, 單獨返回目錄路徑\n",
    "# print(os.path.dirname('C:\\\\A\\\\B\\\\123.txt'))\n",
    "\n",
    "# 將各部分組成一個路徑名稱\n",
    "# print(os.path.join('C:\\\\','A','B','123.txt'))\n",
    "\n",
    "# 分割路徑名稱為目錄跟檔案名, 但不會判斷最後是否為檔案\n",
    "# print(os.path.split('C:\\\\A\\\\B\\\\123.txt')) \n",
    "\n",
    "# 分割路徑名稱為檔案名稱與附檔名\n",
    "# print(os.path.splitext('C:\\\\A\\\\B\\\\123.txt'))\n",
    "\n",
    "# 取得指定檔案的檔案大小 (Bytes)\n",
    "print(os.path.getsize(\"C:\\\\users\\\\User\\\\Desktop\\\\1.txt\"))\n"
   ]
  },
  {
   "cell_type": "code",
   "execution_count": null,
   "metadata": {},
   "outputs": [],
   "source": [
    "import time\n",
    "\n",
    "# 返回指定檔案的創建時間 # 1.txt 要先創立\n",
    "print(time.localtime(os.path.getctime('C:\\\\users\\\\User\\\\Desktop\\\\1.txt'))) \n",
    "\n",
    "# 返回指定檔案最近的修改時間 # 1.txt 要先創立\n",
    "print(time.localtime(os.path.getmtime('C:\\\\users\\\\User\\\\Desktop\\\\1.txt'))) \n",
    "\n",
    "# 返回指定檔案最近的訪問時間 # 1.txt 要先創立\n",
    "print(time.localtime(os.path.getatime('C:\\\\users\\\\User\\\\Desktop\\\\1.txt')))\n"
   ]
  },
  {
   "cell_type": "code",
   "execution_count": null,
   "metadata": {},
   "outputs": [],
   "source": [
    "#os.mkdir(\"my_folder\")\n",
    "\n",
    "dir1 = 'my_folder'\n",
    "if not os.path.exists(dir1):\n",
    "    os.mkdir(dir1)\n",
    "else:\n",
    "    print(dir1 + '已經建立！')"
   ]
  },
  {
   "cell_type": "code",
   "execution_count": null,
   "metadata": {},
   "outputs": [],
   "source": [
    "file_names = os.listdir('.')\n",
    "# print(file_names)\n",
    "for i in file_names:\n",
    "    print(i)"
   ]
  },
  {
   "cell_type": "markdown",
   "metadata": {},
   "source": [
    "# Shutil"
   ]
  },
  {
   "cell_type": "code",
   "execution_count": null,
   "metadata": {},
   "outputs": [],
   "source": [
    "import shutil\n",
    "\n",
    "\n",
    "# copyfile(來源檔案,  目的檔案) 複製來源檔案到目的檔案\n",
    "# shutil.copyfile(\"old.txt\", \"new.txt\")\n",
    "\n",
    "\n",
    "#copytree(來源目錄, 目的目錄) 將來源目錄及其中所有的檔案新增到目的目錄\n",
    "# shutil.copytree('./files', './new_files')\n",
    "\n",
    "# retree(目錄) 刪除指定目錄以及其中的所有檔案\n",
    "# shutil.rmtree('./new_files')\n",
    "\n",
    "#move(來源檔案或目錄, 目的地) 將來源檔案或目錄搬移到目的地 \n",
    "shutil.move(\"new.txt\", \"./files\") "
   ]
  },
  {
   "cell_type": "markdown",
   "metadata": {},
   "source": [
    "# glob"
   ]
  },
  {
   "cell_type": "code",
   "execution_count": null,
   "metadata": {},
   "outputs": [],
   "source": [
    "import glob\n",
    "\n",
    "\n",
    "# 取得檔案\n",
    "# files = glob.glob(\"something.txt\")\n",
    "\n",
    "# 取得符合條件的檔案串列\n",
    "# files = glob.glob(\"*.txt\")\n",
    "\n",
    "# 用絕對路徑取得符合條件的檔案串列\n",
    "# files = glob.glob(\"C:/users/User/Desktop/*.txt\")\n",
    "\n",
    "# 取得 m 開頭的 ipynb 檔\n",
    "# files = glob.glob(\"./m*.ipynb\")\n",
    "\n",
    "print(files)"
   ]
  },
  {
   "cell_type": "markdown",
   "metadata": {},
   "source": [
    "# Time"
   ]
  },
  {
   "cell_type": "code",
   "execution_count": null,
   "metadata": {},
   "outputs": [],
   "source": [
    "import time\n",
    "\n",
    "# 從 1970/1/1 00:00:00 至今的秒數\n",
    "seconds = time.time()\n",
    "print(seconds)"
   ]
  },
  {
   "cell_type": "code",
   "execution_count": null,
   "metadata": {},
   "outputs": [],
   "source": [
    "import time\n",
    "\n",
    "# 從 1970/1/1 00:00:00 至今的秒數\n",
    "seconds = time.time()\n",
    "\n",
    "# 將秒數轉為本地時間\n",
    "local_time = time.ctime(seconds)\n",
    "\n",
    "print(\"本地時間：\", local_time)"
   ]
  },
  {
   "cell_type": "code",
   "execution_count": null,
   "metadata": {},
   "outputs": [],
   "source": [
    "import time\n",
    "\n",
    "# 現在時間\n",
    "now = time.ctime()\n",
    "print(\"現在時間：\", now)"
   ]
  },
  {
   "cell_type": "code",
   "execution_count": null,
   "metadata": {},
   "outputs": [],
   "source": [
    "import time\n",
    "\n",
    "print(\"Hello\")\n",
    "\n",
    "# 暫停 3 秒\n",
    "time.sleep(3)\n",
    "\n",
    "print(\"World\")"
   ]
  },
  {
   "cell_type": "code",
   "execution_count": null,
   "metadata": {},
   "outputs": [],
   "source": [
    "import time\n",
    "\n",
    "# 取得 struct_time 格式的時間\n",
    "t = time.localtime()\n",
    "print(t)\n",
    "print(type(t))\n",
    "\n",
    "# 依指定格式輸出\n",
    "result = time.strftime(\"%m/%d/%Y, %H:%M:%S\", t)\n",
    "print(result, type(result))"
   ]
  }
 ],
 "metadata": {
  "kernelspec": {
   "display_name": "Python 3",
   "language": "python",
   "name": "python3"
  },
  "language_info": {
   "codemirror_mode": {
    "name": "ipython",
    "version": 3
   },
   "file_extension": ".py",
   "mimetype": "text/x-python",
   "name": "python",
   "nbconvert_exporter": "python",
   "pygments_lexer": "ipython3",
   "version": "3.9.5"
  }
 },
 "nbformat": 4,
 "nbformat_minor": 4
}
