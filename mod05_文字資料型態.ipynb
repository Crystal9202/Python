{
 "cells": [
  {
   "cell_type": "code",
   "execution_count": null,
   "metadata": {},
   "outputs": [],
   "source": [
    "str1 = ':'"
   ]
  },
  {
   "cell_type": "code",
   "execution_count": null,
   "metadata": {},
   "outputs": [],
   "source": [
    "str1.join(['1', '3', '5'])"
   ]
  },
  {
   "cell_type": "markdown",
   "metadata": {},
   "source": [
    "#  <font color=red> Module_05_Python 文字資料型態</font>"
   ]
  },
  {
   "cell_type": "markdown",
   "metadata": {},
   "source": [
    "## 單引號雙引號混用的好處"
   ]
  },
  {
   "cell_type": "code",
   "execution_count": null,
   "metadata": {},
   "outputs": [],
   "source": [
    "str1 = \"it's nice\"\n",
    "print(str1)\n",
    "str1"
   ]
  },
  {
   "cell_type": "markdown",
   "metadata": {},
   "source": [
    "# python <font color=red>沒有char(字元)</font>的資料型態"
   ]
  },
  {
   "cell_type": "markdown",
   "metadata": {},
   "source": [
    "# 索引(Index) 與切片(Slicing) :\n",
    "## <font color=red>索引值:只要是<font color=blue>有序</font>的資料型態，其表現形式都很接近(有索引與切片功能)</font>\n",
    "> <details>\n",
    "    <summary>mod3_img</summary>\n",
    "    <img src='./img/py_data_type.png'>\n",
    "  </details>\n",
    "## 索引值(index)是從0開始的整數\n",
    ">### 正序&rArr;從0開始的整數\n",
    ">### 反序&rArr;從-1開始的整數\n",
    ">> <details>\n",
    "    <summary>illustrator</summary>\n",
    "    <img src='.\\img\\strindex01.png'>\n",
    "  </details>\n",
    "## Slice\n",
    ">### 切片(slice) 格式為 <font color=orange>[起點:終點:間隔]</font>，<font color=red>切片不含終點</font>\n",
    ">> <details>\n",
    "    <summary><font color=red>Slice都含起始值，不含結束值點</font></summary>\n",
    "    <img src='.\\img\\index01.png'>\n",
    "   </details>"
   ]
  },
  {
   "cell_type": "code",
   "execution_count": null,
   "metadata": {},
   "outputs": [],
   "source": [
    "var1 = 'Hello World'\n",
    "\n",
    "print('var1[0] :      ', var1[0])\n",
    "print('var1[1:4] :    ', var1[1:4]) # 不指定間隔(預設為1)\n",
    "print('var1[5:1] :    ', var1[5:1]) # 開頭到結尾的順序，要與間隔的正負號一致，所以不能用[5:1]\n",
    "print('var1[:6] :     ', var1[:6]) # 不指定起點(預設從0開始)\n",
    "print('var1[::2] :    ', var1[::2]) # 不指定起點(預設從0開始)，不指定終點(預設到最後為止)，隔一個選取\n",
    "print('var1[::-1] :   ', var1[::-1]) # 倒序\n",
    "print('var1[::-2] :   ', var1[::-2]) # 倒序，且間隔為2 \n",
    "print('var1[-1] :     ', var1[-1])\n",
    "print('var1[-11:-2] : ', var1[-11:-2]) \n",
    "print('var1[-2:-11] : ', var1[-2:-11]) # 間隔為1，所以不能用[-2:-11]\n",
    "print('var1[3:-2] :   ', var1[3:-2])\n",
    "print('var1[3:-2:2] : ', var1[3:-2:2])"
   ]
  },
  {
   "cell_type": "markdown",
   "metadata": {},
   "source": [
    "## operator overloading (來自C#/C++)\n",
    ">- 在字串中使用加號(`+`)，來連接字串\n",
    ">- 在字串中使用乘號(`*`)，來令字串重複出現，乘多少，重複多少次"
   ]
  },
  {
   "cell_type": "code",
   "execution_count": null,
   "metadata": {},
   "outputs": [],
   "source": [
    "print('A' + 'B')\n",
    "print('A'*10)\n",
    "print('A'*10.0) # 不能乘以浮點數"
   ]
  },
  {
   "cell_type": "markdown",
   "metadata": {},
   "source": [
    "## 字串不可變(immutable)\n",
    "<details>\n",
    "    <summary>mod3_img</summary>\n",
    "    <img src='./img/py_data_type.png'>\n",
    "</details>"
   ]
  },
  {
   "cell_type": "code",
   "execution_count": null,
   "metadata": {},
   "outputs": [],
   "source": [
    "var1 = 'Hello World!'\n",
    "var1[4] = 'W'  # TypeError"
   ]
  },
  {
   "cell_type": "markdown",
   "metadata": {},
   "source": [
    "## 跳脫字元\n"
   ]
  },
  {
   "cell_type": "code",
   "execution_count": null,
   "metadata": {},
   "outputs": [],
   "source": [
    "print('She said: \"It's raining.\"')"
   ]
  },
  {
   "cell_type": "code",
   "execution_count": null,
   "metadata": {},
   "outputs": [],
   "source": [
    "print('\\'')"
   ]
  },
  {
   "cell_type": "code",
   "execution_count": null,
   "metadata": {},
   "outputs": [],
   "source": [
    "print('She said: \"It\\'s raining.\"')"
   ]
  },
  {
   "cell_type": "code",
   "execution_count": null,
   "metadata": {},
   "outputs": [],
   "source": [
    "'c:\\test\\new.txt' # 互動式介面中，並不會真正執行跳脫字元，要使用 print 函數才能解釋跳脫字元"
   ]
  },
  {
   "cell_type": "code",
   "execution_count": null,
   "metadata": {},
   "outputs": [],
   "source": [
    "print('c:\\test\\new.txt')\n",
    "print('c:\\\\test\\\\new.txt')"
   ]
  },
  {
   "cell_type": "markdown",
   "metadata": {},
   "source": [
    "## 多列字串"
   ]
  },
  {
   "cell_type": "code",
   "execution_count": null,
   "metadata": {},
   "outputs": [],
   "source": [
    "# 單引號直接換行會讀不到後面，除非加 \\  \n",
    "\n",
    "print('ddddddddd \n",
    "      ddddd')       "
   ]
  },
  {
   "cell_type": "code",
   "execution_count": null,
   "metadata": {},
   "outputs": [],
   "source": [
    "# 3個單引號\n",
    "\n",
    "text_para1 = '''This is a long string that contains\n",
    "several lines and some non-printable characters, \n",
    "such as TAB(\\\\t) or NEWLINE(\\\\n). For triple-quoted strings, \n",
    "always use double quote characters to be consistent \n",
    "with the docstring convention in PEP 257.'''\n",
    "\n",
    "text_para1"
   ]
  },
  {
   "cell_type": "code",
   "execution_count": null,
   "metadata": {},
   "outputs": [],
   "source": [
    "print(text_para1)"
   ]
  },
  {
   "cell_type": "markdown",
   "metadata": {},
   "source": [
    "#### 如果是 docstring，永遠使用三個雙引號表達\n",
    "https://www.python.org/dev/peps/pep-0008/#documentation-strings"
   ]
  },
  {
   "cell_type": "markdown",
   "metadata": {},
   "source": [
    "## 成員運算子"
   ]
  },
  {
   "cell_type": "code",
   "execution_count": null,
   "metadata": {},
   "outputs": [],
   "source": [
    "a = 'Hello World'\n",
    "b = 'Hell'\n",
    "print(a in b)\n",
    "print(b in a)\n",
    "print(b not in a)"
   ]
  },
  {
   "cell_type": "code",
   "execution_count": null,
   "metadata": {},
   "outputs": [],
   "source": [
    "a = 'Hello World'\n",
    "b = 'Hello  ' # 注意空白也是字元\n",
    "print(b in a)"
   ]
  },
  {
   "cell_type": "markdown",
   "metadata": {},
   "source": [
    "## 使用 Raw string 取代跳脫字元的使用"
   ]
  },
  {
   "cell_type": "code",
   "execution_count": null,
   "metadata": {},
   "outputs": [],
   "source": [
    "# raw string 是把 \\ 變成 \\\\\n",
    "\n",
    "r'it's good' "
   ]
  },
  {
   "cell_type": "code",
   "execution_count": null,
   "metadata": {},
   "outputs": [],
   "source": [
    "print('c:\\test\\new.txt')"
   ]
  },
  {
   "cell_type": "code",
   "execution_count": null,
   "metadata": {},
   "outputs": [],
   "source": [
    "print(r'c:\\test\\new.txt')"
   ]
  },
  {
   "cell_type": "code",
   "execution_count": null,
   "metadata": {},
   "outputs": [],
   "source": [
    "print('c:\\\\test\\\\new.txt')"
   ]
  },
  {
   "cell_type": "code",
   "execution_count": null,
   "metadata": {},
   "outputs": [],
   "source": [
    "a = r'c:\\test\\new.txt'\n",
    "a"
   ]
  },
  {
   "cell_type": "markdown",
   "metadata": {},
   "source": [
    "## len() &rArr; 用來計算字串長度"
   ]
  },
  {
   "cell_type": "code",
   "execution_count": null,
   "metadata": {},
   "outputs": [],
   "source": [
    "a = 'Hello'\n",
    "b = 3\n",
    "print('len(a) :', len(a))\n",
    "print('len(b) :', len(b))"
   ]
  },
  {
   "cell_type": "markdown",
   "metadata": {},
   "source": [
    "## str() &rArr; 用來將資料轉成字串"
   ]
  },
  {
   "cell_type": "code",
   "execution_count": null,
   "metadata": {},
   "outputs": [],
   "source": [
    "print('Hello '+ str(b))"
   ]
  },
  {
   "cell_type": "markdown",
   "metadata": {},
   "source": [
    "## \\r  表示將游標的位置回退到本行的開頭位置"
   ]
  },
  {
   "cell_type": "code",
   "execution_count": null,
   "metadata": {},
   "outputs": [],
   "source": [
    "print('Hello\\ry')"
   ]
  },
  {
   "cell_type": "code",
   "execution_count": null,
   "metadata": {},
   "outputs": [],
   "source": [
    "print('Hello', 'World', sep = '\\r')"
   ]
  },
  {
   "cell_type": "code",
   "execution_count": null,
   "metadata": {},
   "outputs": [],
   "source": [
    "import time\n",
    "for i in range(10):\n",
    "    print(\"\\r離程式退出還剩%d秒\" % (9-i), end = \"\")\n",
    "    time.sleep(1)"
   ]
  },
  {
   "cell_type": "markdown",
   "metadata": {},
   "source": [
    "## 字串常用的方法\n",
    "<img src='./img/method_func.png' style='height:400px'>"
   ]
  },
  {
   "cell_type": "code",
   "execution_count": null,
   "metadata": {},
   "outputs": [],
   "source": [
    "dir(str) # 用 dir() 來查看"
   ]
  },
  {
   "cell_type": "markdown",
   "metadata": {},
   "source": [
    "---"
   ]
  },
  {
   "cell_type": "code",
   "execution_count": null,
   "metadata": {},
   "outputs": [],
   "source": [
    "# 返回標題化的字串\n",
    "\n",
    "str1 = \"this is string example\"\n",
    "str1.title()"
   ]
  },
  {
   "cell_type": "markdown",
   "metadata": {},
   "source": [
    "---"
   ]
  },
  {
   "cell_type": "code",
   "execution_count": null,
   "metadata": {},
   "outputs": [],
   "source": [
    "str1 = \"[Crystal]\"\n",
    "\n",
    "str1.center(40, '*')"
   ]
  },
  {
   "cell_type": "code",
   "execution_count": null,
   "metadata": {},
   "outputs": [],
   "source": [
    "str1.center(40) # 預設是空格"
   ]
  },
  {
   "cell_type": "code",
   "execution_count": null,
   "metadata": {},
   "outputs": [],
   "source": [
    "str1.center(40, 'ij') # fillchar 只能是單個字元"
   ]
  },
  {
   "cell_type": "markdown",
   "metadata": {},
   "source": [
    "---"
   ]
  },
  {
   "cell_type": "code",
   "execution_count": null,
   "metadata": {},
   "outputs": [],
   "source": [
    "S = 'the zeN of python'\n",
    "print('upper :', S.upper())\n",
    "print('lower :', S.lower())"
   ]
  },
  {
   "cell_type": "markdown",
   "metadata": {},
   "source": [
    "---"
   ]
  },
  {
   "cell_type": "code",
   "execution_count": null,
   "metadata": {},
   "outputs": [],
   "source": [
    "# 如果字串至少有一个字元並且所有字元都是字母則返回 True，否则返回 False。\n",
    "a = 'hello123'\n",
    "print('a.isalpha() :   ', a.isalpha()) "
   ]
  },
  {
   "cell_type": "code",
   "execution_count": null,
   "metadata": {},
   "outputs": [],
   "source": [
    "b = 'abc'\n",
    "b.isalpha()"
   ]
  },
  {
   "cell_type": "code",
   "execution_count": null,
   "metadata": {},
   "outputs": [],
   "source": [
    "c = 'I am Crystal'\n",
    "c.isalpha()"
   ]
  },
  {
   "cell_type": "code",
   "execution_count": null,
   "metadata": {},
   "outputs": [],
   "source": [
    "d = ''\n",
    "d.isalpha()"
   ]
  },
  {
   "cell_type": "markdown",
   "metadata": {},
   "source": [
    "---"
   ]
  },
  {
   "cell_type": "code",
   "execution_count": null,
   "metadata": {},
   "outputs": [],
   "source": [
    "# 如果字串中只包含空白，則返回 True，否則返回 False.\n",
    "# 空白包括: 空格、\\t、\\n、\\r\n",
    "a = 'hello123'\n",
    "a.isspace()"
   ]
  },
  {
   "cell_type": "code",
   "execution_count": null,
   "metadata": {},
   "outputs": [],
   "source": [
    "b = '\\t\\r\\n '\n",
    "b.isspace()"
   ]
  },
  {
   "cell_type": "code",
   "execution_count": null,
   "metadata": {},
   "outputs": [],
   "source": [
    "# 空字串不是空白\n",
    "c = ''\n",
    "print(c.isspace())"
   ]
  },
  {
   "cell_type": "markdown",
   "metadata": {},
   "source": [
    "---"
   ]
  },
  {
   "cell_type": "code",
   "execution_count": null,
   "metadata": {},
   "outputs": [],
   "source": [
    "# 如果字串中包含至少一个區分大小寫的字元，並且所有這些可區分大小寫的字元都是大寫，则返回 True，否則返回 False\n",
    "\n",
    "a = 'hello123'\n",
    "a.isupper()"
   ]
  },
  {
   "cell_type": "code",
   "execution_count": null,
   "metadata": {},
   "outputs": [],
   "source": [
    "b = 'HELLO123'\n",
    "b.isupper()"
   ]
  },
  {
   "cell_type": "code",
   "execution_count": null,
   "metadata": {},
   "outputs": [],
   "source": [
    "c = '123'\n",
    "c.isupper()"
   ]
  },
  {
   "cell_type": "code",
   "execution_count": null,
   "metadata": {},
   "outputs": [],
   "source": [
    "print(a.islower())\n",
    "print(b.islower())\n",
    "print(c.islower())"
   ]
  },
  {
   "cell_type": "markdown",
   "metadata": {},
   "source": [
    "---"
   ]
  },
  {
   "cell_type": "code",
   "execution_count": null,
   "metadata": {},
   "outputs": [],
   "source": [
    "# 如果字串只包含数字則返回 True，否則返回 False\n",
    "a = '123'\n",
    "a.isdigit()"
   ]
  },
  {
   "cell_type": "code",
   "execution_count": null,
   "metadata": {},
   "outputs": [],
   "source": [
    "b = '0911-458176'\n",
    "b.isdigit()"
   ]
  },
  {
   "cell_type": "code",
   "execution_count": null,
   "metadata": {},
   "outputs": [],
   "source": [
    "# 注意空的會是 False\n",
    "c = ''\n",
    "c.isdigit()"
   ]
  },
  {
   "cell_type": "markdown",
   "metadata": {},
   "source": [
    "---"
   ]
  },
  {
   "cell_type": "code",
   "execution_count": null,
   "metadata": {},
   "outputs": [],
   "source": [
    "# 如果 string 至少有一个字元並且所有字元都是字母或数字則返回 True，否則返回 False\n",
    "\n",
    "a = 'hello123'\n",
    "a.isalnum()"
   ]
  },
  {
   "cell_type": "code",
   "execution_count": null,
   "metadata": {},
   "outputs": [],
   "source": [
    "b = 'I am Crystal'\n",
    "b.isalnum()"
   ]
  },
  {
   "cell_type": "markdown",
   "metadata": {},
   "source": [
    "---"
   ]
  },
  {
   "cell_type": "code",
   "execution_count": null,
   "metadata": {},
   "outputs": [],
   "source": [
    "print(\"Python programming is fun!\".split()) # 分割完放在 List\n",
    "print(\"555-867-5309\".split('-'))\n",
    "print(\"123.456.txt\".split('.'))\n",
    "print(\"123.456.txt\".split('.', 1)) # 分割幾次"
   ]
  },
  {
   "cell_type": "code",
   "execution_count": null,
   "metadata": {},
   "outputs": [],
   "source": [
    "print(\"123.456.txt\".rsplit('.', 1)) # 沒有 .lsplit() 的方法"
   ]
  },
  {
   "cell_type": "markdown",
   "metadata": {},
   "source": [
    "---"
   ]
  },
  {
   "cell_type": "code",
   "execution_count": null,
   "metadata": {},
   "outputs": [],
   "source": [
    "a = 'hello123'\n",
    "print(a.replace('123', '456'))"
   ]
  },
  {
   "cell_type": "code",
   "execution_count": null,
   "metadata": {},
   "outputs": [],
   "source": [
    "str1 = \"this is string example....wow!!! this is really string\"\n",
    "str1.replace(\"is\", \"was\")"
   ]
  },
  {
   "cell_type": "code",
   "execution_count": null,
   "metadata": {},
   "outputs": [],
   "source": [
    "str1.replace(\"is\", \"was\", 3)"
   ]
  },
  {
   "cell_type": "markdown",
   "metadata": {},
   "source": [
    "---"
   ]
  },
  {
   "cell_type": "code",
   "execution_count": null,
   "metadata": {},
   "outputs": [],
   "source": [
    "word = '  #### this is a book ####   '\n",
    "print(word.rstrip()) # 剪右邊空白\n",
    "print(word.lstrip())\n",
    "print(word.strip()) # 剪左邊跟右邊的空白"
   ]
  },
  {
   "cell_type": "code",
   "execution_count": null,
   "metadata": {},
   "outputs": [],
   "source": [
    "word = '#### this is a book ####'\n",
    "print(word.strip('#'))\n",
    "print(word.strip('#').strip())"
   ]
  },
  {
   "cell_type": "code",
   "execution_count": null,
   "metadata": {},
   "outputs": [],
   "source": [
    "word = '  #### this is a book ####   '\n",
    "print(word.lstrip('#'))"
   ]
  },
  {
   "cell_type": "markdown",
   "metadata": {},
   "source": [
    "---"
   ]
  },
  {
   "cell_type": "code",
   "execution_count": null,
   "metadata": {},
   "outputs": [],
   "source": [
    "# 連接字串.join(列表)\n",
    "# 要是字串的列表\n",
    "\n",
    "list1 = ['This', 'is', 'a', 'book']\n",
    "print(\" \".join(list1))\n",
    "print(\"*\".join(list1))"
   ]
  },
  {
   "cell_type": "markdown",
   "metadata": {},
   "source": [
    "---"
   ]
  },
  {
   "cell_type": "code",
   "execution_count": null,
   "metadata": {},
   "outputs": [],
   "source": [
    "# 字串.startswith(起始字串)\n",
    "\n",
    "str1 = \"mailto:test@e-happy.com.tw\"\n",
    "print(str1.startswith(\"mailto:\"))\n",
    "print(str1.startswith(\"to:\"))"
   ]
  },
  {
   "cell_type": "code",
   "execution_count": null,
   "metadata": {},
   "outputs": [],
   "source": [
    "# 字串.endswith(結尾字串)\n",
    "\n",
    "str1 = \"mailto:test@e-happy.com.tw\"\n",
    "print(str1.endswith(\".tw\"))\n",
    "print(str1.endswith(\".cn:\"))"
   ]
  },
  {
   "cell_type": "code",
   "execution_count": null,
   "metadata": {},
   "outputs": [],
   "source": [
    "web = input(\"請輸入網址：\")\n",
    "if web.startswith(\"http://\") or web.startswith(\"https://\"):\n",
    "    print(\"輸入的網址格式正確！\")\n",
    "else:\n",
    "    print(\"輸入的網址格式錯誤！\")"
   ]
  },
  {
   "cell_type": "markdown",
   "metadata": {},
   "source": [
    "---"
   ]
  },
  {
   "cell_type": "code",
   "execution_count": null,
   "metadata": {},
   "outputs": [],
   "source": [
    "# 字串.find(搜尋字串)\n",
    "# 如果搜尋字串在字串中不存在，不會報錯，會傳回 -1\n",
    "# 如果比對正確，回傳第一個字母的 index\n",
    "\n",
    "str1 = \"I love python.\"\n",
    "print(str1.find('o'))\n",
    "print(str1.find('python'))\n",
    "print(str1.find('x')) "
   ]
  },
  {
   "cell_type": "markdown",
   "metadata": {},
   "source": [
    "---"
   ]
  },
  {
   "cell_type": "code",
   "execution_count": null,
   "metadata": {},
   "outputs": [],
   "source": [
    "# 如果搜尋字串在字串中不存在，會報錯\n",
    "# 如果比對正確，回傳第一個字母的 index\n",
    "str1 = 'Crystal is cute'\n",
    "str1.index('is')"
   ]
  },
  {
   "cell_type": "code",
   "execution_count": null,
   "metadata": {},
   "outputs": [],
   "source": [
    "sentence = 'Python programming is fun.'\n",
    "\n",
    "# Substring is searched in 'gramming is fun.'\n",
    "print(sentence.index('ing', 10))\n",
    "\n",
    "# Substring is searched in 'gramming is '\n",
    "print(sentence.index('g is', 10, -4))\n",
    "\n",
    "# Substring is searched in 'programming'\n",
    "print(sentence.index('fun', 7, 18))"
   ]
  },
  {
   "cell_type": "markdown",
   "metadata": {},
   "source": [
    "---"
   ]
  },
  {
   "cell_type": "code",
   "execution_count": null,
   "metadata": {},
   "outputs": [],
   "source": [
    "str1 = \"www.runoob.com\"\n",
    "str1.count('o')"
   ]
  },
  {
   "cell_type": "code",
   "execution_count": null,
   "metadata": {},
   "outputs": [],
   "source": [
    "str1.count('o', 0, 12) # 沒包含最後一個字元"
   ]
  },
  {
   "cell_type": "markdown",
   "metadata": {},
   "source": [
    "---"
   ]
  },
  {
   "cell_type": "markdown",
   "metadata": {},
   "source": [
    "## 運算子的統整 \n",
    "\n",
    "><img src='./img/運算子統整.png' style='height:500px'>"
   ]
  },
  {
   "cell_type": "markdown",
   "metadata": {},
   "source": [
    "## 路徑分隔符號"
   ]
  },
  {
   "cell_type": "code",
   "execution_count": null,
   "metadata": {},
   "outputs": [],
   "source": [
    "# 以前 Windows 使用反斜線，Linux 與網址都是使用斜線\n",
    "# 但是微軟開始將向 Linux 系統靠攏，所以現在用斜線的方式也可以了\n",
    "# 反斜線要跳脫\n",
    "# 斜線不用跳脫\n",
    "\n",
    "print('C:\\Program Files')   \n",
    "print('C:/Program Files')  "
   ]
  },
  {
   "cell_type": "markdown",
   "metadata": {},
   "source": [
    "## str 不可變，即便使用str的方法"
   ]
  },
  {
   "cell_type": "code",
   "execution_count": null,
   "metadata": {},
   "outputs": [],
   "source": [
    "a = 'this is a string'\n",
    "print(a, id(a))\n",
    "print(a.replace('string', 'longer string'), id(a.replace('string', 'longer string')))"
   ]
  },
  {
   "cell_type": "markdown",
   "metadata": {},
   "source": [
    "## 運算永遠比函數呼叫快"
   ]
  },
  {
   "cell_type": "code",
   "execution_count": null,
   "metadata": {},
   "outputs": [],
   "source": [
    "a='abcde'\n",
    "print(a[:4])\n",
    "print(a.rstrip('e'))\n",
    "%timeit a[:4]\n",
    "%timeit a.rstrip('e')"
   ]
  },
  {
   "cell_type": "markdown",
   "metadata": {},
   "source": [
    "----------------------------------------------------------------------"
   ]
  },
  {
   "cell_type": "code",
   "execution_count": 1,
   "metadata": {},
   "outputs": [
    {
     "name": "stdout",
     "output_type": "stream",
     "text": [
      "姓名    座號  國文  數學  英文\n",
      "Crystal   1   100    99   100\n",
      "Billy     2    50   100    80\n",
      "Anna      3    90    50    75\n"
     ]
    }
   ],
   "source": [
    "#自行補充範例\n",
    "\n",
    "listname = [\"Crystal\",\"Billy\",\"Anna\"]\n",
    "listchinese =[100,50,90]\n",
    "listmath =[99,100,50]\n",
    "listenglish = [100,80,75]\n",
    "print(\"姓名    座號  國文  數學  英文\")\n",
    "for i in range(0,3):\n",
    "    print(listname[i].ljust(8), str(i+1).rjust(2),str(listchinese[i]).rjust(5),str(listmath[i]).rjust(5),str(listenglish[i]).rjust(5))"
   ]
  },
  {
   "cell_type": "code",
   "execution_count": 2,
   "metadata": {},
   "outputs": [
    {
     "name": "stdout",
     "output_type": "stream",
     "text": [
      "西元2017年8月23日\n"
     ]
    }
   ],
   "source": [
    "#補充範例\n",
    "\n",
    "#把  2017-8-23  轉換成  西元2017年8月23日\n",
    "\n",
    "\n",
    "date1 = \"2017-8-23\"\n",
    "date1 = \"西元\" +date1\n",
    "date1 = date1.replace(\"-\",\"年\",1)\n",
    "date1 = date1.replace(\"-\",\"月\",1)\n",
    "date1 += \"日\"\n",
    "print(date1)"
   ]
  },
  {
   "cell_type": "code",
   "execution_count": null,
   "metadata": {},
   "outputs": [],
   "source": []
  }
 ],
 "metadata": {
  "kernelspec": {
   "display_name": "Python 3",
   "language": "python",
   "name": "python3"
  },
  "language_info": {
   "codemirror_mode": {
    "name": "ipython",
    "version": 3
   },
   "file_extension": ".py",
   "mimetype": "text/x-python",
   "name": "python",
   "nbconvert_exporter": "python",
   "pygments_lexer": "ipython3",
   "version": "3.9.4"
  }
 },
 "nbformat": 4,
 "nbformat_minor": 2
}
