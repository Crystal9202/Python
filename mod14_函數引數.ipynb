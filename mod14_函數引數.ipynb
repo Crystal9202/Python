{
 "cells": [
  {
   "cell_type": "markdown",
   "metadata": {},
   "source": [
    "#  <font color=red> Module_14_函數引數</font>"
   ]
  },
  {
   "cell_type": "markdown",
   "metadata": {},
   "source": [
    "## 位置引數(Positional argument)"
   ]
  },
  {
   "cell_type": "code",
   "execution_count": null,
   "metadata": {},
   "outputs": [],
   "source": [
    "def my_function(x, y):\n",
    "    print(f'x : {x}')\n",
    "    print(f'y : {y}')\n",
    "\n",
    "my_function(5, 6) # 位置引數的接收順序一一對照參數的順序傳給函數"
   ]
  },
  {
   "cell_type": "code",
   "execution_count": null,
   "metadata": {},
   "outputs": [],
   "source": [
    "my_function(5) # 位置引數的數量與函式的參數數量不一致"
   ]
  },
  {
   "cell_type": "code",
   "execution_count": null,
   "metadata": {},
   "outputs": [],
   "source": [
    "# Function definition\n",
    "def area(length, width): # two parameters\n",
    "    return length*width\n",
    "\n",
    "# MAIN\n",
    "# Call function\n",
    "result = area(15, 8) # two require arguments\n",
    "print('Area =', result)"
   ]
  },
  {
   "cell_type": "markdown",
   "metadata": {},
   "source": [
    "## 關鍵字引數(keyword argument)"
   ]
  },
  {
   "cell_type": "code",
   "execution_count": null,
   "metadata": {},
   "outputs": [],
   "source": [
    "# 關鍵字引數\n",
    "# Function definition\n",
    "def my_function(x, y):\n",
    "    print(f'x : {x}')\n",
    "    print(f'y : {y}')\n",
    "\n",
    "my_function(x = 5, y = 6) "
   ]
  },
  {
   "cell_type": "code",
   "execution_count": null,
   "metadata": {},
   "outputs": [],
   "source": [
    "my_function(y = 6, x = 5) # key-word arguments ,可以不需依照順序傳引數，而是使用引數名稱(x、y)來傳遞引數值"
   ]
  },
  {
   "cell_type": "code",
   "execution_count": null,
   "metadata": {},
   "outputs": [],
   "source": [
    "# 關鍵字引數\n",
    "# Function definition\n",
    "def printinfo(dbname, port):\n",
    "    print('DB Name:', dbname)\n",
    "    print('Port:', port)\n",
    "\n",
    "# Call function\n",
    "printinfo('MSSQL', 1433)    # required arguments\n",
    "printinfo(port=3306, dbname = 'MySQL') # key-word arguments ,可以不需依照順序傳引數，而是使用引數名稱(port、dbname)來傳遞引數值"
   ]
  },
  {
   "cell_type": "code",
   "execution_count": null,
   "metadata": {},
   "outputs": [],
   "source": [
    "# Function definition\n",
    "def printinfo(name, age):\n",
    "    print('Name:', name)\n",
    "    print('Age', age)\n",
    "\n",
    "# MAIN\n",
    "# Call function\n",
    "printinfo('Harris', 40)\n",
    "printinfo(age = 20, name = 'Mary')"
   ]
  },
  {
   "cell_type": "code",
   "execution_count": null,
   "metadata": {},
   "outputs": [],
   "source": [
    "# 查看 print 的參數設定\n",
    "print?"
   ]
  },
  {
   "cell_type": "code",
   "execution_count": null,
   "metadata": {},
   "outputs": [],
   "source": [
    "print('ABC',end=' ') # 'ABC'就是位置引數，end 就是關鍵字引數 "
   ]
  },
  {
   "cell_type": "markdown",
   "metadata": {},
   "source": [
    "## 預設引數(default argument)"
   ]
  },
  {
   "cell_type": "code",
   "execution_count": null,
   "metadata": {},
   "outputs": [],
   "source": [
    "# Function definition\n",
    "def printinfo(tblname, dbname='MySQL', port=3306):\n",
    "    print('Table Name:', tblname)\n",
    "    print('DB Name:', dbname)\n",
    "    print('Port:', port)\n",
    "\n",
    "printinfo('person') # one positional argument, two default arguments\n",
    "printinfo(tblname = 'person') # one keyword argument,  two default arguments"
   ]
  },
  {
   "cell_type": "code",
   "execution_count": null,
   "metadata": {},
   "outputs": [],
   "source": [
    "printinfo(port = 3330, tblname = 'products') # 2 keyword arguments, one of them has default value, but is covered by the new given value. the last one is default arguments"
   ]
  },
  {
   "cell_type": "code",
   "execution_count": null,
   "metadata": {},
   "outputs": [],
   "source": [
    "printinfo('person', 'MSSQL', 1433) # 3 positional arguments, two of them have default value, but they are covered by the new given value"
   ]
  },
  {
   "cell_type": "code",
   "execution_count": null,
   "metadata": {},
   "outputs": [],
   "source": [
    "printinfo('products', port = 3330)  # 1 positional, 1 keyword arguments. the second one is default arguments"
   ]
  },
  {
   "cell_type": "code",
   "execution_count": null,
   "metadata": {},
   "outputs": [],
   "source": [
    "# Function definition \n",
    "def printinfo(name, age = 35):\n",
    "    print('Name:', name)\n",
    "    print('Age', age)\n",
    "\n",
    "# MAIN\n",
    "# Call function\n",
    "printinfo(age = 50, name = 'Calvin')   # age is 50\n",
    "printinfo(name = 'Calvin')   # age is 35"
   ]
  },
  {
   "cell_type": "code",
   "execution_count": null,
   "metadata": {},
   "outputs": [],
   "source": [
    "# 查看 print 的參數設定\n",
    "print?"
   ]
  },
  {
   "cell_type": "code",
   "execution_count": null,
   "metadata": {},
   "outputs": [],
   "source": [
    "print('ABC') # end 與 sep 都沒傳引數，而是使用預設值 => 預設引數"
   ]
  },
  {
   "cell_type": "markdown",
   "metadata": {},
   "source": [
    "## 引數的錯誤用法"
   ]
  },
  {
   "cell_type": "code",
   "execution_count": null,
   "metadata": {},
   "outputs": [],
   "source": [
    "# required argument missing\n",
    "def printinfo(name, age = 35):\n",
    "    print('Name:', name)\n",
    "    print('Age', age)\n",
    "\n",
    "printinfo()  # lack of required argument"
   ]
  },
  {
   "cell_type": "code",
   "execution_count": null,
   "metadata": {},
   "outputs": [],
   "source": [
    "# positional after keyword argument   #位置引數一定要在關鍵字引數前面\n",
    "def printinfo(tblname, dbname = 'MySQL', port = 3306):\n",
    "    print('Table Name:', tblname)\n",
    "    print('DB Name:', dbname)\n",
    "    print('Port:', port)\n",
    "    \n",
    "printinfo(port = 8888, 'person')  # keyword argument has to be after required argument"
   ]
  },
  {
   "cell_type": "code",
   "execution_count": null,
   "metadata": {},
   "outputs": [],
   "source": [
    "# duplicate arguments:  2 tblname\n",
    "def printinfo(tblname, dbname = 'MySQL', port = 3306):\n",
    "    print('Table Name:', tblname)\n",
    "    print('DB Name:', dbname)\n",
    "    print('Port:', port)\n",
    "    \n",
    "printinfo('person', tblname = 'products')     "
   ]
  },
  {
   "cell_type": "markdown",
   "metadata": {},
   "source": [
    "## *args 不固定長引數的用法\n",
    "\n",
    "### 要用tuple() 接住"
   ]
  },
  {
   "cell_type": "code",
   "execution_count": null,
   "metadata": {},
   "outputs": [],
   "source": [
    "# 在參數前面加上一個 *，就可以接收複數個引數，且數量可以不固定 \n",
    "# 用 tuple 接收\n",
    "\n",
    "def person(name, age, *experience): \n",
    "    print(f'Hi {name}, you are {age} years old, you have work experience in {experience}')\n",
    "\n",
    "person('Nick', 18, 'CompanyA', 'CompanyB', 'CompanyC', 'CompanyD','CompanyE') # 'Nick'、18 is  position argumnets, 'CompanyA', 'CompanyB', 'CompanyC', 'CompanyD' is arbitrary arguments "
   ]
  },
  {
   "cell_type": "code",
   "execution_count": null,
   "metadata": {},
   "outputs": [],
   "source": [
    "def func(a, b = 2, *c, d, e = 3):\n",
    "    print(a, b, c, d, e)\n",
    "\n",
    "# func(6, 5, 4, 3, 2, 1, d = 10)\n",
    "# func(6, 5, 4, 3, 2, 1, d = 10, e = 8)\n",
    "# func(6, 5, 4, 3, 2, 1, e = 8, b = 9, d = 10)\n",
    "# func(1, b = 9, 2, 3, 4, 5, 6, d = 10) # 位置引數一定要在關鍵數引數前面阿\n",
    "# func(8, 7, 6, 5, 4, 8)"
   ]
  },
  {
   "cell_type": "code",
   "execution_count": null,
   "metadata": {},
   "outputs": [],
   "source": [
    "# Function definition\n",
    "# 在參數前面加上一個 *，就可以接收複數個引數，且數量可以不固定,也可以是空的tuple\n",
    "def printinfo(arg1, *vartuple):\n",
    "    print('Output is: ')\n",
    "    print('first:',arg1)\n",
    "    print('the rest of args :', vartuple)\n",
    "    for var in vartuple:\n",
    "        print(var)\n",
    "    print()\n",
    "    \n",
    "# MAIN\n",
    "# Call function\n",
    "printinfo(10) # 不固定長引數也可以不接任何值\n",
    "printinfo(70, 60, 50) # 70 is a position argumnet, 60、50 is arbitrary arguments "
   ]
  },
  {
   "cell_type": "markdown",
   "metadata": {},
   "source": [
    "## **kwargs 不固定長的關鍵字引數的使用方法\n",
    "\n",
    "### 會用字典接住 {} "
   ]
  },
  {
   "cell_type": "code",
   "execution_count": null,
   "metadata": {},
   "outputs": [],
   "source": [
    "def person(**kwargs):\n",
    "    print(kwargs)\n",
    "    \n",
    "person(name = \"Crystal\", age = 29, Height = 162)"
   ]
  },
  {
   "cell_type": "code",
   "execution_count": null,
   "metadata": {},
   "outputs": [],
   "source": [
    "# 參數名稱前面加上 **，可以接受所有剩餘的傳入資料(關鍵字引數)，產生字典\n",
    "\n",
    "def info(**dict1):                # **kwargs\n",
    "    print(dict1)                  # {'name': 'Tom', 'age': 30}\n",
    "    print(type(dict1))            # dict\n",
    "\n",
    "info(name = \"Tom\", age = 30)"
   ]
  },
  {
   "cell_type": "code",
   "execution_count": null,
   "metadata": {},
   "outputs": [],
   "source": [
    "# 參數名稱前面加上 **，可以接受所有剩餘的傳入資料(關鍵字引數)，產生字典\n",
    "\n",
    "def foo(x, y, z, **kwargs):\n",
    "    print(f'x:{x}, y:{y}, z:{z}, kwargs:{kwargs}')\n",
    "foo(1, y = '2', z = '3', a = 'A', b = 'B', c = 'C')"
   ]
  },
  {
   "cell_type": "code",
   "execution_count": null,
   "metadata": {},
   "outputs": [],
   "source": [
    "dict1 = dict(Wang = 1, old = 19)\n",
    "dict1"
   ]
  },
  {
   "cell_type": "markdown",
   "metadata": {},
   "source": [
    "## 其他範例"
   ]
  },
  {
   "cell_type": "code",
   "execution_count": null,
   "metadata": {},
   "outputs": [],
   "source": [
    "# print(*objects, end = '\\n')   #print原本就有預設值\n",
    "\n",
    "print(1, 2, 4) # 為什麼不是元祖呈現?"
   ]
  },
  {
   "cell_type": "code",
   "execution_count": null,
   "metadata": {},
   "outputs": [],
   "source": [
    "\"{2}--{1}--{0}\".format(1, 3, 4)"
   ]
  },
  {
   "cell_type": "code",
   "execution_count": null,
   "metadata": {},
   "outputs": [],
   "source": [
    "# str.format() 的特殊使用\n",
    "#不固定長引數\n",
    "\"{2}--{1}--{0}\".format(*[1,3,4]) # 要加 *"
   ]
  },
  {
   "cell_type": "code",
   "execution_count": null,
   "metadata": {},
   "outputs": [],
   "source": [
    "'{2},{1},{0}'.format('a', 'b', 'c')"
   ]
  },
  {
   "cell_type": "code",
   "execution_count": null,
   "metadata": {},
   "outputs": [],
   "source": [
    "# str.format() 的特殊使用\n",
    "# unpack string to be arbitrary arguments\n",
    "\n",
    "'{2},{1},{0}'.format(*'abc') # 要加 *"
   ]
  },
  {
   "cell_type": "code",
   "execution_count": null,
   "metadata": {},
   "outputs": [],
   "source": [
    "'The name is {name}, aged {est}.'.format(name = 'III', est = 40)"
   ]
  },
  {
   "cell_type": "code",
   "execution_count": null,
   "metadata": {},
   "outputs": [],
   "source": [
    "# str.format() 的特殊使用\n",
    "# unpack dict to be arbitrary keyword arguments\n",
    "#多個關鍵字引數\n",
    "data = {'name':'III', 'est': 40}\n",
    "'The name is {name}, aged {est}.'.format(**data)"
   ]
  },
  {
   "cell_type": "code",
   "execution_count": null,
   "metadata": {},
   "outputs": [],
   "source": [
    "# set.update(*others) \n",
    "# arbitrary arguments\n",
    "#聯集 update()\n",
    "set1 = {1,2,3}\n",
    "set2 = {3,4}\n",
    "set3 = {5}\n",
    "set1.update(set2, set3)\n",
    "set1"
   ]
  },
  {
   "cell_type": "code",
   "execution_count": null,
   "metadata": {},
   "outputs": [],
   "source": [
    "# arbitrary keyword arguments\n",
    "\n",
    "dict1 = dict(name = 'Crystal', old = 19)\n",
    "dict1"
   ]
  },
  {
   "cell_type": "markdown",
   "metadata": {},
   "source": [
    "### 函式參數設定順序:\n",
    "<pre><code>\n",
    "def f(pos1, pos2, /, pos_or_kwd, *, kwd1, kwd2):\n",
    "      -----------    ----------     ----------\n",
    "        |             |                  |\n",
    "        |        Positional or keyword   |\n",
    "        |                                - Keyword only\n",
    "         -- Positional only\n",
    "</code></pre>\n",
    "#### 函式參數設定順序注意事項:\n",
    ">- 擁有預設引數的參數必須要定義在一般參數之後\n",
    ">>- 這裡是指在以/ 、* 為界線，在這個界線內的參數必須符合這個條件:\n",
    "擁有預設引數的參數必須要定義在一般位置參數之後\n",
    ">- `/`Positional-only parameters前面只能擺擁有預設引數的參數、一般參數\n",
    ">- 定義參數時，`*`(Keyword-Only Arguments)  與 `*args`(Arbitrary Argument Lists) 只能存在其中一個\n",
    ">- `*args`(Arbitrary Argument Lists)後面的參數只能接收關鍵字引數(Keyword-Only Arguments)\n",
    ">- `**kwargs`必須定義在`*arg`之後 (`*`name must occur before `**`name)\n",
    "---\n",
    "### 引數設定順序⇒位置引數→關鍵字引數\n",
    ">### `func(a,b,d=500,c=600)`\n",
    "\n",
    "ref : \n",
    "- https://docs.python.org/3.8/tutorial/controlflow.html#special-parameters\n",
    "- https://docs.python.org/3.8/tutorial/controlflow.html#recap"
   ]
  }
 ],
 "metadata": {
  "kernelspec": {
   "display_name": "Python 3",
   "language": "python",
   "name": "python3"
  },
  "language_info": {
   "codemirror_mode": {
    "name": "ipython",
    "version": 3
   },
   "file_extension": ".py",
   "mimetype": "text/x-python",
   "name": "python",
   "nbconvert_exporter": "python",
   "pygments_lexer": "ipython3",
   "version": "3.9.5"
  }
 },
 "nbformat": 4,
 "nbformat_minor": 2
}
