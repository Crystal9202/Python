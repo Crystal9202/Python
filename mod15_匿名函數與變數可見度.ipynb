{
 "cells": [
  {
   "cell_type": "markdown",
   "metadata": {},
   "source": [
    "#  <font color=red> Module_15_匿名函數與變數可見度 </font> "
   ]
  },
  {
   "cell_type": "markdown",
   "metadata": {},
   "source": [
    "## 匿名函數的使用時機"
   ]
  },
  {
   "cell_type": "markdown",
   "metadata": {},
   "source": [
    "## lambda parameter_list : expression\n",
    "#### lambda 關鍵字 / parameter_list 參數清單 / expression 運算式\n",
    "### 參數清單 也就是lambda函式的傳入參數，可以有多個，以逗號分隔\n",
    "### 運算式 是針對傳入得參數來進行運算"
   ]
  },
  {
   "cell_type": "code",
   "execution_count": null,
   "metadata": {},
   "outputs": [],
   "source": [
    "def func(arg1,arg2):\n",
    "    return arg1+arg2\n",
    "\n",
    "a = func(5,6)\n",
    "print(a)"
   ]
  },
  {
   "cell_type": "code",
   "execution_count": null,
   "metadata": {},
   "outputs": [],
   "source": [
    "sum_data = lambda arg1, arg2 : arg1+arg2   # 這個Lambda函數沒有名字，只是用了㇐個變數(sum_data)去參考這個Lambda函數\n",
    "print(sum_data(10, 20))"
   ]
  },
  {
   "cell_type": "markdown",
   "metadata": {},
   "source": [
    "# filter() 函數 :過濾數列，把不符合的過濾掉\n",
    "## filter(function, iterable)"
   ]
  },
  {
   "cell_type": "code",
   "execution_count": null,
   "metadata": {},
   "outputs": [],
   "source": [
    "my_list=[1,2,3,4,5,6]\n",
    "odd_list =list(filter(lambda x:x%2 ==1,my_list))\n",
    "print(odd_list)"
   ]
  },
  {
   "cell_type": "markdown",
   "metadata": {},
   "source": [
    "--------------------------------------------------------------------------------------------------------------------"
   ]
  },
  {
   "cell_type": "code",
   "execution_count": null,
   "metadata": {},
   "outputs": [],
   "source": [
    "#list.sort()方法 \n",
    "#list.sort(cmp=None, key=None, reverse=False)  \n",
    "### cmp可選參數，如果指定了參數，就用那個參數的方法來進行排序\n",
    "### key 主要用來進行比較的元素\n",
    "### reverse 排序規則， reverse = True 降序，reverse = False 升序\n",
    "\n",
    "def func(x):\n",
    "    return x[3]\n",
    "\n",
    "lis1 = ['Mr.Tsao', 'Mr.Cheng', 'Mr.Lin', 'Mr.Wang', 'Mr.GAO', 'Mr.XIAO']\n",
    "lis1.sort(key = func)  \n",
    "lis1"
   ]
  },
  {
   "cell_type": "code",
   "execution_count": null,
   "metadata": {},
   "outputs": [],
   "source": [
    "\n",
    "lis1.sort(key = lambda x:x[3]) # 使用時機在使用一次時\n",
    "lis1"
   ]
  },
  {
   "cell_type": "code",
   "execution_count": null,
   "metadata": {},
   "outputs": [],
   "source": [
    "# function: return sum of two values\n",
    "def sum_data(a, b):\n",
    "    return a+b\n",
    "    \n",
    "# function: using function as parameter    \n",
    "def operate_on(x, y, func):\n",
    "    return func(x, y)\n",
    "\n",
    "# MAIN\n",
    "r = operate_on(16, 20, sum_data)   # call function\n",
    "print('operate_on(16, 20, sum_data) = ',r)\n",
    "          \n",
    "r = operate_on(10, 40, lambda a,b:a-b)   # with anonymous function\n",
    "print('operate_on(10, 40, Lambda_function) =', r)"
   ]
  },
  {
   "cell_type": "code",
   "execution_count": null,
   "metadata": {},
   "outputs": [],
   "source": [
    "# function: return sum of two values\n",
    "def sum_data(a, b):\n",
    "    return a+b\n",
    "    \n",
    "# function: using function as parameter    \n",
    "def operate_on(x, y, func):\n",
    "    return func(x, y)\n",
    "\n",
    "r=operate_on(16,20,lambda a,b : a+b)\n",
    "print(r)\n",
    "\n",
    "r=operate_on(10,40,sum_data)\n",
    "print(r)"
   ]
  },
  {
   "cell_type": "markdown",
   "metadata": {},
   "source": [
    "---"
   ]
  },
  {
   "cell_type": "markdown",
   "metadata": {},
   "source": [
    "## Python語言有兩種變數的可見度\n",
    "### - 在函數內的變數稱為區域變數\n",
    "### - 在函數之外的變數稱為全域變數\n",
    ">### (1) 最外面的範疇即全域範疇，識別字有 foo。\n",
    ">### (2) 中間的範疇是在 foo 裡面，識別字有 a、b、bar、foo。\n",
    ">### (3) 最裡面的範疇是在 bar 裡面，識別字有 a、b、c、bar、foo。\n",
    "><img src='./img/variable_scope.png' style='height:400px'>"
   ]
  },
  {
   "cell_type": "code",
   "execution_count": null,
   "metadata": {},
   "outputs": [],
   "source": [
    "# 用foo就是沒有任何意義，方便教學用的函數\n",
    "\n",
    "\n",
    "def foo(a):\n",
    "    b = a * 2\n",
    "    def bar(c):\n",
    "        print(a,b,c)\n",
    "    bar(b*3)\n",
    "\n",
    "print(foo(2))"
   ]
  },
  {
   "cell_type": "markdown",
   "metadata": {},
   "source": [
    "---"
   ]
  },
  {
   "cell_type": "markdown",
   "metadata": {},
   "source": [
    "## 函數可以直接參考全域變數"
   ]
  },
  {
   "cell_type": "code",
   "execution_count": null,
   "metadata": {},
   "outputs": [],
   "source": [
    "a = 'A' # global\n",
    "def func1():\n",
    "    print(a)\n",
    "\n",
    "func1()"
   ]
  },
  {
   "cell_type": "markdown",
   "metadata": {},
   "source": [
    "##  如果函數內有指定㇐個值給變數，該變數則自動視為區域變數，<font color =red>區域變數只能在該函數內存取</font>"
   ]
  },
  {
   "cell_type": "code",
   "execution_count": null,
   "metadata": {},
   "outputs": [],
   "source": [
    "def fun2():\n",
    "    b='Hi!!!!'\n",
    "    print(b)\n",
    "\n",
    "fun2()\n",
    "print(b)"
   ]
  },
  {
   "cell_type": "markdown",
   "metadata": {},
   "source": [
    "## 假如區域與全域變數同名，區域變數會蓋掉全域變數(在函數內)"
   ]
  },
  {
   "cell_type": "code",
   "execution_count": null,
   "metadata": {},
   "outputs": [],
   "source": [
    "# Function definition\n",
    "def sum_data(arg1, arg2):\n",
    "    total  = arg1 + arg2; # total is local variable\n",
    "    print('In function local total :', total)\n",
    "\n",
    "# MAIN    \n",
    "# Call function\n",
    "\n",
    "# Using global variable\n",
    "total = 0   # This is global variable\n",
    "\n",
    "sum_data(10, 20)\n",
    "\n",
    "\n",
    "print('Outside function global total :', total)"
   ]
  },
  {
   "cell_type": "markdown",
   "metadata": {},
   "source": [
    "## 如果函數內有指定㇐個值給變數，該變數則自動視為區域變數，除非明確使用 “global” 關鍵字宣告該變數為全域變數"
   ]
  },
  {
   "cell_type": "code",
   "execution_count": null,
   "metadata": {},
   "outputs": [],
   "source": [
    "def func3():\n",
    "    global c\n",
    "    c = 'Hi!!'\n",
    "    print(c)\n",
    "\n",
    "func3()\n",
    "print('outside function:', c)"
   ]
  },
  {
   "cell_type": "code",
   "execution_count": null,
   "metadata": {},
   "outputs": [],
   "source": [
    "c = 'Hello'\n",
    "\n",
    "def func3():\n",
    "    global c \n",
    "    c = 'Hi!!'\n",
    "    print(f'inside function c is : {c}')\n",
    "\n",
    "print(f'before call func3, c is: {c}')\n",
    "func3()\n",
    "print(f'after call func3, outside c is : {c}')"
   ]
  },
  {
   "cell_type": "markdown",
   "metadata": {},
   "source": [
    "## 全域變數可以在整個程式內使用，包含<font color=red>函數</font>"
   ]
  },
  {
   "cell_type": "code",
   "execution_count": null,
   "metadata": {},
   "outputs": [],
   "source": [
    "a = 2\n",
    "def add_2(x):\n",
    "    return x + a # 可以使用 a，因為全域變數可以在整個程式內使用\n",
    "def multiply1(x,y):\n",
    "    print(x*add_2(y)) # 可以使用 add_2()，因為全域範圍定義的函數可以在整個程式內使用\n",
    "\n",
    "multiply1(10,7)"
   ]
  },
  {
   "cell_type": "code",
   "execution_count": null,
   "metadata": {},
   "outputs": [],
   "source": [
    "def spam():\n",
    "    global eggs\n",
    "    eggs = 'spam'    # this is the global\n",
    "    \n",
    "def bacon():\n",
    "    eggs = 'bacon'   # this is a local\n",
    "    \n",
    "def ham():\n",
    "    print(eggs)  # this is the global\n",
    "\n",
    "# MAIN\n",
    "eggs = 42        # this is the global\n",
    "\n",
    "ham()\n",
    "\n",
    "bacon()\n",
    "print(eggs)      \n",
    "\n",
    "spam()\n",
    "print(eggs)     \n",
    "\n",
    "ham()            "
   ]
  },
  {
   "cell_type": "markdown",
   "metadata": {},
   "source": [
    "## Python 沒有block variable 區塊變數 (其他語言才有)   "
   ]
  },
  {
   "cell_type": "code",
   "execution_count": null,
   "metadata": {},
   "outputs": [],
   "source": [
    "for i in range(10):\n",
    "    print(i, end=' ')\n",
    "\n",
    "i  # it's still globle after for... loop"
   ]
  },
  {
   "cell_type": "markdown",
   "metadata": {},
   "source": [
    "# map(function, iterable, ...)  : 可將每個元素轉換"
   ]
  },
  {
   "cell_type": "code",
   "execution_count": 1,
   "metadata": {},
   "outputs": [
    {
     "data": {
      "text/plain": [
       "[1, 0, 0]"
      ]
     },
     "execution_count": 1,
     "metadata": {},
     "output_type": "execute_result"
    }
   ],
   "source": [
    "# 法一\n",
    "def func(x):\n",
    "    return x%2\n",
    "\n",
    "list(map(func,[1,2,4]))   #一定要用List包住\n",
    "\n",
    "\n",
    "\n",
    "#法二\n",
    "list(map((lambda x:x%2),[1,2,4]))\n",
    "\n",
    "\n",
    "\n",
    "#法三\n",
    "[i%2 for i in [1,2,4]]"
   ]
  },
  {
   "cell_type": "code",
   "execution_count": null,
   "metadata": {},
   "outputs": [],
   "source": [
    "#法一\n",
    "def fun1(x):\n",
    "    return x**2\n",
    "\n",
    "list(map(fun1,[1,2,3]))\n",
    "\n",
    "\n",
    "#法二\n",
    "list(map(lambda x:x**2, [1, 2, 3])) # 可被下面取代 \n",
    "\n",
    "\n",
    "#法三\n",
    "[i**2 for i in [1, 2, 3]]"
   ]
  },
  {
   "cell_type": "markdown",
   "metadata": {},
   "source": [
    "---------------------------------------------------------------------------------------------------------------------"
   ]
  },
  {
   "cell_type": "markdown",
   "metadata": {},
   "source": [
    "## 函數進階用法"
   ]
  },
  {
   "cell_type": "code",
   "execution_count": null,
   "metadata": {},
   "outputs": [],
   "source": [
    "x = 0\n",
    "\n",
    "def outer():   #local\n",
    "\tx = 1\n",
    "\tdef inner():   #locallocal\n",
    "\t\tx = 2\n",
    "\t\tprint(\"inner:\", x)\n",
    "\n",
    "\tinner()\n",
    "\tprint(\"outer:\", x)\n",
    "\n",
    "outer()\n",
    "print(\"global:\", x)"
   ]
  },
  {
   "cell_type": "code",
   "execution_count": null,
   "metadata": {},
   "outputs": [],
   "source": [
    "x = 0\n",
    "\n",
    "def outer():\n",
    "\tx = 1\n",
    "\tdef inner():\n",
    "\t\tnonlocal x   #變成跟上一層同ID\n",
    "\t\tx = 2\n",
    "\t\tprint(\"inner:\", x)\n",
    "\n",
    "\tinner()\n",
    "\tprint(\"outer:\", x)\n",
    "\n",
    "outer()\n",
    "print(\"global:\", x)"
   ]
  },
  {
   "cell_type": "code",
   "execution_count": null,
   "metadata": {},
   "outputs": [],
   "source": [
    "x = 0\n",
    "def outer():\n",
    "\tx = 1\n",
    "\tdef inner():\n",
    "\t\tglobal x   #變成跟global同 ID\n",
    "\t\tx = 2\n",
    "\t\tprint(\"inner:\", x)\n",
    "\n",
    "\tinner()\n",
    "\tprint(\"outer:\", x)\n",
    "\n",
    "outer()\n",
    "print(\"global:\", x)"
   ]
  },
  {
   "cell_type": "markdown",
   "metadata": {},
   "source": [
    "## 更多的範例"
   ]
  },
  {
   "cell_type": "code",
   "execution_count": null,
   "metadata": {},
   "outputs": [],
   "source": [
    "x = 8\n",
    "\n",
    "def fun3():\n",
    "     x = x + 2 # 這步讓 x 變區域變數了   #這裡沒有先定義x ,就沒辦法使用變數x\n",
    "\n",
    "fun3() # 要知道錯誤的原因"
   ]
  },
  {
   "cell_type": "code",
   "execution_count": null,
   "metadata": {},
   "outputs": [],
   "source": [
    "x = 8\n",
    "\n",
    "def fun1():\n",
    "    def fun2():\n",
    "        return x   #這裡沒有重新定義x ,而是直接return\n",
    "    return fun2()\n",
    "\n",
    "fun1()"
   ]
  },
  {
   "cell_type": "code",
   "execution_count": null,
   "metadata": {},
   "outputs": [],
   "source": [
    "def fun1():\n",
    "    x = 5\n",
    "    def fun2():\n",
    "        nonlocal x #不加 nonlocal 會報錯\n",
    "        x = x*x\n",
    "        return x\n",
    "    return fun2()\n",
    "fun1()"
   ]
  },
  {
   "cell_type": "code",
   "execution_count": null,
   "metadata": {},
   "outputs": [],
   "source": [
    "def fun1():   # 改成 List 可以解決剛剛的問題\n",
    "    x = [5]\n",
    "    def fun2():    \n",
    "        x[0] = x[0]*x[0]\n",
    "        return x[0]\n",
    "    return fun2()\n",
    "fun1()"
   ]
  },
  {
   "cell_type": "code",
   "execution_count": null,
   "metadata": {},
   "outputs": [],
   "source": [
    "def outside():\n",
    "    var = 5\n",
    "    def inside(): \n",
    "        print(var)\n",
    "        var = 3      # 改變了 var 的 id   #這種要 整個 函式圈圈裡的一起看\n",
    "        \n",
    "    inside()\n",
    "    \n",
    "outside()"
   ]
  },
  {
   "cell_type": "code",
   "execution_count": null,
   "metadata": {},
   "outputs": [],
   "source": [
    "x = 1\n",
    "\n",
    "def fun1():\n",
    "    global x\n",
    "    x += 1\n",
    "    return x\n",
    "\n",
    "print(fun1())\n",
    "print(fun1())"
   ]
  },
  {
   "cell_type": "code",
   "execution_count": null,
   "metadata": {},
   "outputs": [],
   "source": [
    "def funX():\n",
    "    x = 5\n",
    "    def funY():\n",
    "        nonlocal x \n",
    "        x += 1\n",
    "        return x\n",
    "    return funY\n",
    "\n",
    "a = funX()\n",
    "print(type(a))\n",
    "print(a())\n",
    "print(a())\n",
    "print(a())"
   ]
  }
 ],
 "metadata": {
  "kernelspec": {
   "display_name": "Python 3",
   "language": "python",
   "name": "python3"
  },
  "language_info": {
   "codemirror_mode": {
    "name": "ipython",
    "version": 3
   },
   "file_extension": ".py",
   "mimetype": "text/x-python",
   "name": "python",
   "nbconvert_exporter": "python",
   "pygments_lexer": "ipython3",
   "version": "3.9.5"
  }
 },
 "nbformat": 4,
 "nbformat_minor": 2
}
