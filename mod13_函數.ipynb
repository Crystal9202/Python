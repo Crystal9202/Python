{
 "cells": [
  {
   "cell_type": "markdown",
   "metadata": {},
   "source": [
    "#  <font color=red> Module_13_function</font>"
   ]
  },
  {
   "cell_type": "markdown",
   "metadata": {},
   "source": [
    "## 使用函數/函式的好處 :\n",
    ">### 程式碼重複使用\n",
    ">### 功能切割，模組化，結構化\n",
    ">### 簡化程式提高程式的可讀性\n",
    ">### 易於維護及管理\n",
    "\n",
    "\n",
    "### function 函式\n",
    "## 之前提到各種內建Function與不同資料型別的Method，有時會把Function與Method兩個詞混用\n",
    "><details>\n",
    "    <summary>illustrator</summary>\n",
    "    <img src='./img/method_func.png' style='height:300px'>\n",
    " </details>"
   ]
  },
  {
   "cell_type": "code",
   "execution_count": null,
   "metadata": {},
   "outputs": [],
   "source": [
    "S = 'hello'\n",
    "print(S.upper())\n",
    "print(len(S))"
   ]
  },
  {
   "cell_type": "markdown",
   "metadata": {},
   "source": [
    "## 函數的運作流程"
   ]
  },
  {
   "cell_type": "markdown",
   "metadata": {},
   "source": [
    "<img src='./img/main_func2.png' style='height:400px'>"
   ]
  },
  {
   "cell_type": "markdown",
   "metadata": {},
   "source": [
    "---------------------------------------------------------------------------------------------------------------"
   ]
  },
  {
   "cell_type": "markdown",
   "metadata": {},
   "source": [
    "## 自行建立函式語法 : \n",
    "##### def 函式名稱 ([參數1,參數2.......])\n",
    "##### 程式區塊\n",
    "##### [return 回傳值1 , 回傳值2]\n",
    "## -----------------------------------------------------------------------------------\n",
    "### 多個參數或回傳值  都用 , 隔開\n",
    "## 呼叫函式語法：　\n",
    "##### [變數 = ] 函式名稱 ([參數])"
   ]
  },
  {
   "cell_type": "markdown",
   "metadata": {},
   "source": [
    "------------------------------------------------------------------------------------------------------------------"
   ]
  },
  {
   "cell_type": "code",
   "execution_count": null,
   "metadata": {},
   "outputs": [],
   "source": [
    "# Function definition\n",
    "def make_a_sound():\n",
    "    \"\"\"This function print duck sound\"\"\" # document string   #註解\n",
    "    print('quack')\n",
    "\n",
    "# main function    \n",
    "make_a_sound() # Call function \n",
    "print('-'*30)\n",
    "for i in range(3):\n",
    "    make_a_sound()"
   ]
  },
  {
   "cell_type": "markdown",
   "metadata": {},
   "source": [
    "##  如果函數內沒有明確的使用 return 敘述，預設為 “return None”"
   ]
  },
  {
   "cell_type": "code",
   "execution_count": null,
   "metadata": {},
   "outputs": [],
   "source": [
    "def sum_num(num1, num2):\n",
    "    print(\"In funcion:\", num1 + num2)\n",
    "\n",
    "print('output of sum_num(5,6) :', sum_num(5, 6))"
   ]
  },
  {
   "cell_type": "markdown",
   "metadata": {},
   "source": [
    "## 比較使用 return 與沒有 return 的差別"
   ]
  },
  {
   "cell_type": "code",
   "execution_count": null,
   "metadata": {},
   "outputs": [],
   "source": [
    "def sum_nums(n1, n2):\n",
    "    \"\"\"This function return sum of two numbers\"\"\"\n",
    "    print(\"In funcion:\",n1 + n2)\n",
    "    return n1 + n2\n",
    "\n",
    "# main function\n",
    "sum_nums(5, 6)\n",
    "a = sum_nums(7, 8)\n",
    "print(a)"
   ]
  },
  {
   "cell_type": "code",
   "execution_count": null,
   "metadata": {},
   "outputs": [],
   "source": [
    "a = [1, 2, 3, 4]\n",
    "b = a.pop() # in-place\n",
    "print(a, b)"
   ]
  },
  {
   "cell_type": "code",
   "execution_count": null,
   "metadata": {},
   "outputs": [],
   "source": [
    "a = print('abc') # 沒有回傳值的函數   #執行print()之後 回傳none ，a接住none \n",
    "print(a)"
   ]
  },
  {
   "cell_type": "code",
   "execution_count": null,
   "metadata": {},
   "outputs": [],
   "source": [
    "# Function definition\n",
    "def printme(pstr):\n",
    "    \"\"\"This function print a string\"\"\"\n",
    "    print(pstr)\n",
    "\n",
    "def sum_nums(n1, n2):\n",
    "    \"\"\"This function return sum of two numbers\"\"\"\n",
    "    return n1 + n2\n",
    "    \n",
    "# Call function\n",
    "printme('Hello Python') # 'Hello Python' is an argument for printme()\n",
    "printme('Python Programming')\n",
    "\n",
    "total = sum_nums(35, 20)\n",
    "print('sum of 35 + 20 :', total)\n",
    "print('sum of 40 + 50 :', sum_nums(40, 50))"
   ]
  },
  {
   "cell_type": "markdown",
   "metadata": {},
   "source": [
    "## 可以使用元組 (tuple) 格式傳回多個資料"
   ]
  },
  {
   "cell_type": "code",
   "execution_count": null,
   "metadata": {},
   "outputs": [],
   "source": [
    "a, b = 20, 3 # 可以看成 tuple\n",
    "print(a)\n",
    "print(b)"
   ]
  },
  {
   "cell_type": "code",
   "execution_count": null,
   "metadata": {},
   "outputs": [],
   "source": [
    "#範例\n",
    "#函式有多個回傳值，必須有相同數量的變數來儲存返回值\n",
    "\n",
    "def Circle(radius):\n",
    "    area = radius * radius * 3.14    #計算圓面積 \n",
    "    length = 2*radius*3.14   #計算圓周長\n",
    "    return area , length\n",
    "\n",
    "area1 , length1 = Circle(5)\n",
    "print(area1,length1)"
   ]
  },
  {
   "cell_type": "code",
   "execution_count": null,
   "metadata": {},
   "outputs": [],
   "source": [
    "def sum_num2(num1, num2):\n",
    "    sum_num = num1 + num2\n",
    "    multi_num = num1*num2\n",
    "    return sum_num, multi_num\n",
    "\n",
    "a, b = sum_num2(5, 6)\n",
    "print(a, b)"
   ]
  },
  {
   "cell_type": "markdown",
   "metadata": {},
   "source": [
    "-------------------------------------------------------------------------------------------------------------------"
   ]
  },
  {
   "cell_type": "markdown",
   "metadata": {},
   "source": [
    "## 參數預設值"
   ]
  },
  {
   "cell_type": "code",
   "execution_count": null,
   "metadata": {},
   "outputs": [],
   "source": [
    "# 範例  \n",
    "# 參數=值\n",
    "def Getarea(width,height=12):\n",
    "    return width*height\n",
    "\n",
    "ret1 = Getarea(6)\n",
    "ret2 = Getarea(6,9)\n",
    "print(ret1)\n",
    "print(ret2)"
   ]
  },
  {
   "cell_type": "markdown",
   "metadata": {},
   "source": [
    "------------------------------------------------------------------------------------------------------------------"
   ]
  },
  {
   "cell_type": "markdown",
   "metadata": {},
   "source": [
    "## 使用 help() 或者 ?(Jupyter notebook的功能) 尋找函式的說明(document string)"
   ]
  },
  {
   "cell_type": "code",
   "execution_count": null,
   "metadata": {},
   "outputs": [],
   "source": [
    "def func1():\n",
    "    \"\"\"print python world \"\"\"\n",
    "    print('python world')"
   ]
  },
  {
   "cell_type": "code",
   "execution_count": null,
   "metadata": {},
   "outputs": [],
   "source": [
    "help(func1)"
   ]
  },
  {
   "cell_type": "code",
   "execution_count": null,
   "metadata": {},
   "outputs": [],
   "source": [
    "# jupyter notebook 才有的指令   \n",
    "#常忘 \n",
    "#比較常用的是 在函式的字上做查詢 shift+tab\n",
    "func1?"
   ]
  },
  {
   "cell_type": "code",
   "execution_count": null,
   "metadata": {},
   "outputs": [],
   "source": [
    "print?"
   ]
  },
  {
   "cell_type": "markdown",
   "metadata": {},
   "source": [
    "## 變數 i 若沒有使用到，可使用底線 _ 代替，表示沒有使用到這個變數。"
   ]
  },
  {
   "cell_type": "code",
   "execution_count": null,
   "metadata": {},
   "outputs": [],
   "source": [
    "for _ in range(3):  # 因為 i 沒用到\n",
    "    print('good')"
   ]
  },
  {
   "cell_type": "markdown",
   "metadata": {},
   "source": [
    "---"
   ]
  },
  {
   "cell_type": "markdown",
   "metadata": {},
   "source": [
    "## Assignment 是建立物件的參考(References to objects)，Python中的reference是 C語言的指標\n",
    "<details>\n",
    "    <summary>illustrator</summary>\n",
    "    <img src='./img/py_c_pointer.gif' style='height:400px'>\n",
    "</details>"
   ]
  },
  {
   "cell_type": "markdown",
   "metadata": {},
   "source": [
    "## Python 的 pass by assignment 相當於  使用C的Call-by-value的風格\n",
    "<details>\n",
    "    <summary>before change</summary>\n",
    "    <img src='./img/pass_by_assignment1_1.png' style='height:400px'>\n",
    "</details>\n",
    "<details>\n",
    "    <summary>after change</summary>\n",
    "    <img src='./img/pass_by_assignment1_2.png' style='height:400px'>\n",
    " </details>"
   ]
  },
  {
   "cell_type": "code",
   "execution_count": null,
   "metadata": {},
   "outputs": [],
   "source": [
    "# Function definition\n",
    "def changeme(myvar):    \n",
    "    print('In function, before change:', myvar)\n",
    "    myvar = 50   \n",
    "    print('In function, after change:', myvar)\n",
    "    \n",
    "# main function\n",
    "changeme(20) # Call function\n",
    "print('Outside function:', myvar)"
   ]
  },
  {
   "cell_type": "code",
   "execution_count": null,
   "metadata": {},
   "outputs": [],
   "source": [
    "# Function definition\n",
    "def changeme(myvar):    \n",
    "    print('In function, before change:', myvar)\n",
    "    myvar = 50   # 變 local 變數\n",
    "    print('In function, after change:', myvar)\n",
    "    \n",
    "# main function\n",
    "myvar = 20 \n",
    "changeme(myvar) # Call function\n",
    "print('Outside function:', myvar)"
   ]
  },
  {
   "cell_type": "markdown",
   "metadata": {},
   "source": [
    "-------------------------------------------------------------------------------------------------------------------"
   ]
  },
  {
   "cell_type": "markdown",
   "metadata": {},
   "source": [
    "# 全域變數 global / 區域變數 local"
   ]
  },
  {
   "cell_type": "code",
   "execution_count": null,
   "metadata": {},
   "outputs": [],
   "source": [
    "#全域變數與區域變數的差別\n",
    "\n",
    "def scope():\n",
    "    var1 = 1   #建立區域變數var1\n",
    "    print(var1,var2)\n",
    "    \n",
    "var1 = 10   #建立全域變數var1\n",
    "var2 = 20\n",
    "scope\n",
    "print(var1,var2)"
   ]
  },
  {
   "cell_type": "code",
   "execution_count": null,
   "metadata": {},
   "outputs": [],
   "source": [
    "#golbal 定義全域變數\n",
    "#如果要再函式內使用全域變數，需要在函式中以global宣告\n",
    "\n",
    "\n",
    "def scope():\n",
    "    global var1    #宣告var1 是全域變數\n",
    "    var1 = 1\n",
    "    var2 = 2\n",
    "    print(var1 ,var2)\n",
    "\n",
    "var1 = 10\n",
    "var2 = 20\n",
    "scope()\n",
    "print(var1,var2)\n",
    "    \n",
    "    "
   ]
  },
  {
   "cell_type": "markdown",
   "metadata": {},
   "source": [
    "---"
   ]
  },
  {
   "cell_type": "markdown",
   "metadata": {},
   "source": [
    "### Python的List 就是 C 的指標陣列(array of pointer)\n",
    "<details>\n",
    "    <summary>illustrator</summary>\n",
    "    <img src='./img/pointers_array.png' style='height:500px'>\n",
    "</details>"
   ]
  },
  {
   "cell_type": "markdown",
   "metadata": {},
   "source": [
    "### pass by assignment for mutable data\n",
    "<details>\n",
    "    <summary>before change</summary>\n",
    "    <img src='./img/pass_by_assignment_mutable1_1.png' style='height:400px'>\n",
    "</details>\n",
    "<details>\n",
    "    <summary>after change</summary>\n",
    "    <img src='./img/pass_by_assignment_mutable1_2.png' style='height:400px'>\n",
    "</details>\n",
    "\n"
   ]
  },
  {
   "cell_type": "code",
   "execution_count": null,
   "metadata": {},
   "outputs": [],
   "source": [
    "# Function definition\n",
    "def changeme(mylist):\n",
    "    print('In function, before change:', mylist)\n",
    "    mylist[1] = 50   # 還是 global\n",
    "    print('In function, after change:', mylist)\n",
    "\n",
    "# Call function\n",
    "\n",
    "changeme([10, 20, 30])\n",
    "print('Outside function:', mylist)"
   ]
  },
  {
   "cell_type": "code",
   "execution_count": null,
   "metadata": {},
   "outputs": [],
   "source": [
    "# Function definition\n",
    "def changeme(mylist):\n",
    "    print('In function, before change:', mylist)\n",
    "    mylist[1] = 50   # 還是 global\n",
    "    print('In function, after change:', mylist)\n",
    "\n",
    "# Call function\n",
    "mylist = [10, 20, 30]\n",
    "changeme(mylist)\n",
    "print('Outside function:',mylist)"
   ]
  },
  {
   "cell_type": "markdown",
   "metadata": {},
   "source": [
    "---"
   ]
  },
  {
   "cell_type": "markdown",
   "metadata": {},
   "source": [
    "## <a href='https://docs.python.org/3/faq/programming.html#how-do-i-write-a-function-with-output-parameters-call-by-reference'>How do I write a function with output parameters (call by reference)?</a>"
   ]
  },
  {
   "cell_type": "code",
   "execution_count": null,
   "metadata": {},
   "outputs": [],
   "source": [
    "# 方法一，最推薦的作法\n",
    "#這裡會把更新的值傳出去 是因為用return\n",
    "def func2(a, b): \n",
    "    a = 'new-value' # a and b are local names\n",
    "    b = b + 1 # assigned to new objects\n",
    "    return a, b # return new values x, y = 'old-value', 99\n",
    "\n",
    "x, y = 'old-value', 99 # x and y are aliasees of 'old-value' and 99\n",
    "w, z = func2(x, y)\n",
    "print(w, z) # output: new-value 100"
   ]
  },
  {
   "cell_type": "code",
   "execution_count": null,
   "metadata": {},
   "outputs": [],
   "source": [
    "print(x, y)"
   ]
  },
  {
   "cell_type": "code",
   "execution_count": null,
   "metadata": {},
   "outputs": [],
   "source": [
    "# 方法二，參考用\n",
    "#這裡會把更新的值傳出去 是因為用list 可變的\n",
    "\n",
    "def func2(a):\n",
    "    a[0] = 'new-value'     # 'a' references a mutable list\n",
    "    a[1] = a[1] + 1        # changes a shared object\n",
    "\n",
    "args = ['old-value', 99]\n",
    "func2(args)\n",
    "args"
   ]
  }
 ],
 "metadata": {
  "kernelspec": {
   "display_name": "Python 3",
   "language": "python",
   "name": "python3"
  },
  "language_info": {
   "codemirror_mode": {
    "name": "ipython",
    "version": 3
   },
   "file_extension": ".py",
   "mimetype": "text/x-python",
   "name": "python",
   "nbconvert_exporter": "python",
   "pygments_lexer": "ipython3",
   "version": "3.9.5"
  }
 },
 "nbformat": 4,
 "nbformat_minor": 2
}
