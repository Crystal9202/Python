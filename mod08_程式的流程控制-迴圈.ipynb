{
 "cells": [
  {
   "cell_type": "markdown",
   "metadata": {},
   "source": [
    "#  <font color=red> Module_08_程式的流程控制-迴圈</font>"
   ]
  },
  {
   "cell_type": "markdown",
   "metadata": {},
   "source": [
    "## while 迴圈"
   ]
  },
  {
   "cell_type": "code",
   "execution_count": null,
   "metadata": {},
   "outputs": [],
   "source": [
    "# while 迴圈通常用在不固定次數的情況\n",
    "\n",
    "m = int(input('Input factorial: '))\n",
    "r = n = 1\n",
    "\n",
    "while n <= m:\n",
    "    r = r*n # equal to r *= n\n",
    "    n = n + 1 # equal to n += 1\n",
    "\n",
    "print(f'{m}! = {r}')"
   ]
  },
  {
   "cell_type": "code",
   "execution_count": null,
   "metadata": {},
   "outputs": [],
   "source": [
    "# while 迴圈裡面的順序擺放很重要\n",
    "\n",
    "total = score = 0\n",
    "person = 0\n",
    "while (score != -1):\n",
    "    person += 1\n",
    "    total += score\n",
    "    score = int(input( f\"請輸入第 {person} 位學生的成績：\"))\n",
    "average = total / (person - 1)\n",
    "print(f\"本班總成績：{total} 分，平均成績：{average:5.2f} 分\")"
   ]
  },
  {
   "cell_type": "markdown",
   "metadata": {},
   "source": [
    "---"
   ]
  },
  {
   "cell_type": "code",
   "execution_count": null,
   "metadata": {},
   "outputs": [],
   "source": [
    "print(list(range(10))) # lazy evaluation\n",
    "print(range(10))"
   ]
  },
  {
   "cell_type": "code",
   "execution_count": null,
   "metadata": {},
   "outputs": [],
   "source": [
    "print(list(range(10)))\n",
    "print(list(range(5,10)))\n",
    "print(list(range(2,10,2)))"
   ]
  },
  {
   "cell_type": "markdown",
   "metadata": {},
   "source": [
    "## for 迴圈"
   ]
  },
  {
   "cell_type": "markdown",
   "metadata": {},
   "source": [
    "## for迴圈常用的迭代(iterable)物件\n",
    ">### string\n",
    ">### List\n",
    ">### Tuple\n",
    ">### Dictionary\n",
    ">### Set\n",
    ">### range()\n",
    ">### enumerate()"
   ]
  },
  {
   "cell_type": "code",
   "execution_count": null,
   "metadata": {},
   "outputs": [],
   "source": [
    "# for 迴圈通常用在固定次數的情況\n",
    "\n",
    "for var in [1, 2, 3, 4, 5]:\n",
    "    print(var)"
   ]
  },
  {
   "cell_type": "code",
   "execution_count": null,
   "metadata": {},
   "outputs": [],
   "source": [
    "# 列印出 range(5) = 0 1 2 3 4 \n",
    "\n",
    "print('range(5) =', end=' ')\n",
    "for i in range(5):\n",
    "    print(i, end=' ')"
   ]
  },
  {
   "cell_type": "code",
   "execution_count": null,
   "metadata": {},
   "outputs": [],
   "source": [
    "# 請使用者輸入一個正整數，程式會計算由 1 到該整數的總和\n",
    "\n",
    "m = int(input('Input a value: '))\n",
    "s = 0\n",
    "for i in range(1, m + 1):\n",
    "    s = s + i # equal to s += i\n",
    "\n",
    "print('sum =', s)"
   ]
  },
  {
   "cell_type": "code",
   "execution_count": null,
   "metadata": {},
   "outputs": [],
   "source": [
    "for i in range(1, 10):\n",
    "    for j in range(1, 10):\n",
    "        x = i * j\n",
    "        print(x, end=' ')\n",
    "    print()"
   ]
  },
  {
   "cell_type": "code",
   "execution_count": null,
   "metadata": {},
   "outputs": [],
   "source": [
    "# 利用兩層 for 迴圈列印出九九乘法表\n",
    "\n",
    "for i in range(1,10):\n",
    "    for j in range(1,10):\n",
    "        print(f'{i:1} * {j:1} = {i*j:2}', end=',  ')\n",
    "\n",
    "    print() # 當作換行使用"
   ]
  },
  {
   "cell_type": "code",
   "execution_count": null,
   "metadata": {},
   "outputs": [],
   "source": [
    "# enumerate() 函數的使用\n",
    "\n",
    "seasons = ['Spring', 'Summer', 'Fall', 'Winter']\n",
    "list(enumerate(seasons))"
   ]
  },
  {
   "cell_type": "code",
   "execution_count": null,
   "metadata": {},
   "outputs": [],
   "source": [
    "seasons = ['Spring', 'Summer', 'Fall', 'Winter']\n",
    "list(enumerate(seasons, start = 1))"
   ]
  },
  {
   "cell_type": "code",
   "execution_count": null,
   "metadata": {},
   "outputs": [],
   "source": [
    "seq = ['one', 'two', 'three']\n",
    "\n",
    "for i, element in enumerate(seq):\n",
    "    print(i, element)"
   ]
  },
  {
   "cell_type": "markdown",
   "metadata": {},
   "source": [
    "## break 與 continue 在迴圈中的使用"
   ]
  },
  {
   "cell_type": "code",
   "execution_count": null,
   "metadata": {},
   "outputs": [],
   "source": [
    "# whie with break stmt\n",
    "i = 1\n",
    "while True:\n",
    "    print(i)\n",
    "    i = i + 1\n",
    "    if i > 5:\n",
    "        break"
   ]
  },
  {
   "cell_type": "code",
   "execution_count": null,
   "metadata": {},
   "outputs": [],
   "source": [
    "# continue stmt\n",
    "for i in range (1, 7):\n",
    "    if i % 2 == 1:\n",
    "        continue\n",
    "    print(i, end=' ')"
   ]
  },
  {
   "cell_type": "code",
   "execution_count": null,
   "metadata": {},
   "outputs": [],
   "source": [
    "count = 1\n",
    "while True:\n",
    "    if count%9 == 0:\n",
    "        if count%10 == 0:\n",
    "            if count%23 == 0:\n",
    "                print(count)\n",
    "                break\n",
    "    count += 1"
   ]
  },
  {
   "cell_type": "code",
   "execution_count": null,
   "metadata": {},
   "outputs": [],
   "source": [
    "for i in range(1,10):\n",
    "    for j in range(1,10):\n",
    "        if i*j == 15:\n",
    "            break\n",
    "        elif i*j == 28:\n",
    "            continue\n",
    "        print(f'{i:1} * {j:1} = {i*j:2}', end = ',   ')\n",
    "    print('')"
   ]
  },
  {
   "cell_type": "code",
   "execution_count": null,
   "metadata": {},
   "outputs": [],
   "source": [
    "#4樓跳過不顯示\n",
    "\n",
    "n = int(input(\"請輸入大樓樓層: \"))\n",
    "print(\"本大樓具有的樓層為: \")\n",
    "\n",
    "for i in range(1,n+1):\n",
    "    if i == 4:\n",
    "        continue\n",
    "    else:\n",
    "        print(i ,end=\" \")\n",
    "\n",
    "        \n",
    "    "
   ]
  },
  {
   "cell_type": "markdown",
   "metadata": {},
   "source": [
    "## else 在迴圈中的使用"
   ]
  },
  {
   "cell_type": "code",
   "execution_count": null,
   "metadata": {},
   "outputs": [],
   "source": [
    "numbers = [31, 57, 75, 85, 27, 93, 63, 19] \n",
    "\n",
    "for num in numbers:\n",
    "    if num%2 == 0:    \n",
    "        print('有偶數存在', num)\n",
    "        break\n",
    "    print(num)\n",
    "\n",
    "else:    \n",
    "    print('無偶數存在') #當迴圈正常結束才會執行"
   ]
  },
  {
   "cell_type": "code",
   "execution_count": 4,
   "metadata": {},
   "outputs": [
    {
     "name": "stdout",
     "output_type": "stream",
     "text": [
      "31\n",
      "57\n",
      "75\n",
      "85\n",
      "有偶數存在 26\n"
     ]
    }
   ],
   "source": [
    " # 試一試用立 flag 來代替 else\n",
    "\n",
    "numbers = [31, 57, 75, 85, 26, 93, 63, 19]\n",
    "\n",
    "flag = 0\n",
    "for each in numbers:\n",
    "    if each%2 == 0:\n",
    "        print('有偶數存在', each)\n",
    "        flag = 1\n",
    "        break\n",
    "    print(each)\n",
    "if flag == 0:\n",
    "    print('無偶數存在')"
   ]
  },
  {
   "cell_type": "markdown",
   "metadata": {},
   "source": [
    "## for 搭配 else"
   ]
  },
  {
   "cell_type": "code",
   "execution_count": null,
   "metadata": {},
   "outputs": [],
   "source": [
    "# 找出 1 到 100 之間的所有質數\n",
    "# 透過搭配 else 與迴圈可以節省一些 flag 的使用\n",
    "\n",
    "for i in range(2, 100):\n",
    "    for j in range(2, i):\n",
    "        if i%j == 0:\n",
    "            break\n",
    "    else:               \n",
    "        print(i, end = ' ')"
   ]
  },
  {
   "cell_type": "markdown",
   "metadata": {},
   "source": [
    "## 不使用else 改用flag的概念"
   ]
  },
  {
   "cell_type": "code",
   "execution_count": null,
   "metadata": {},
   "outputs": [],
   "source": [
    "# is_prime 就是 flag\n",
    "\n",
    "for i in range(2, 100):\n",
    "    is_prime = True\n",
    "    for j in range(2, i):\n",
    "        if i%j == 0:\n",
    "            is_prime = False\n",
    "            break\n",
    "    if is_prime:\n",
    "        print(i, end = \" \")"
   ]
  },
  {
   "cell_type": "markdown",
   "metadata": {},
   "source": [
    "---"
   ]
  },
  {
   "cell_type": "code",
   "execution_count": 10,
   "metadata": {},
   "outputs": [
    {
     "name": "stdout",
     "output_type": "stream",
     "text": [
      "1\n"
     ]
    }
   ],
   "source": [
    "# 年利率 5%，則每個月的利率為 5%/12=0.4167%\n",
    "# 1萬元放在銀行，本金加利率總額為 10000*(1 + 0.05/12) = 10041.67元\n",
    "# 每過一個月後存一萬元在銀行，幾個月後會超過 100 萬元\n",
    "#1e6 = 1000000\n",
    "\n",
    "total = 0\n",
    "i = 0\n",
    "while total < 1e6:\n",
    "    total = total * 1.004167\n",
    "    total = total + 1e4\n",
    "    i += 1\n",
    "\n",
    "print(i)"
   ]
  },
  {
   "cell_type": "markdown",
   "metadata": {},
   "source": [
    "---"
   ]
  },
  {
   "cell_type": "markdown",
   "metadata": {},
   "source": [
    "## 綜合應用"
   ]
  },
  {
   "cell_type": "markdown",
   "metadata": {},
   "source": [
    "## input a integer, use for loop to print pyramid in star symbol(*)."
   ]
  },
  {
   "cell_type": "code",
   "execution_count": null,
   "metadata": {},
   "outputs": [],
   "source": [
    "level = int(input())\n",
    "\n",
    "for i in range(level):\n",
    "    print( ' ' * (level-i-1) + '*' * (2*i+1))   #"
   ]
  },
  {
   "cell_type": "code",
   "execution_count": null,
   "metadata": {},
   "outputs": [],
   "source": [
    "num = int(input())\n",
    "\n",
    "for i in range(1,num+1):\n",
    "     print(' '*(num-i)+'*' * (2*i-1))"
   ]
  },
  {
   "cell_type": "markdown",
   "metadata": {},
   "source": [
    "## input a integer, calculate factorial of the number."
   ]
  },
  {
   "cell_type": "code",
   "execution_count": null,
   "metadata": {},
   "outputs": [],
   "source": [
    "# 5! = 5*4*3*2*1\n",
    "# 4! = 4*3*2*1\n",
    "\n",
    "\n",
    "number = int(input())\n",
    "\n",
    "result = 1\n",
    "for i in range(1, number+1):\n",
    "    result = result * i\n",
    "print('result is {}'.format(result))"
   ]
  },
  {
   "cell_type": "markdown",
   "metadata": {},
   "source": [
    "##  Write a Python program to count the number of even and odd numbers from a series of numbers."
   ]
  },
  {
   "cell_type": "code",
   "execution_count": null,
   "metadata": {},
   "outputs": [],
   "source": [
    "numbers = [1, 2, 3, 4, 5, 6, 7, 8, 9, 11, 13, 15] \n",
    "count_odd = 0\n",
    "count_even = 0\n",
    "for x in numbers:\n",
    "    if x % 2 == 0:\n",
    "        count_even += 1\n",
    "    else:\n",
    "        count_odd += 1\n",
    "print(\"Number of even numbers :\",count_even)\n",
    "print(\"Number of odd numbers :\",count_odd)"
   ]
  },
  {
   "cell_type": "markdown",
   "metadata": {},
   "source": [
    "## Write a Python program that prints all the numbers from 0 to 6 except 2 and 6."
   ]
  },
  {
   "cell_type": "code",
   "execution_count": null,
   "metadata": {},
   "outputs": [],
   "source": [
    "#(法一)\n",
    "for x in range(6):\n",
    "    if (x == 2 or x == 6):\n",
    "        continue\n",
    "    print(x, end = ' ')\n",
    "print(\"\\n\")\n"
   ]
  },
  {
   "cell_type": "code",
   "execution_count": null,
   "metadata": {},
   "outputs": [],
   "source": [
    "#(法二)\n",
    "for i in range(7):\n",
    "    if i != 2 and i !=6:\n",
    "        print(i ,end = ' ')"
   ]
  },
  {
   "cell_type": "markdown",
   "metadata": {},
   "source": [
    "## Write a Python program to find those numbers which are divisible by 7 and multiple of 5, between 1500 and 2700 (both included)"
   ]
  },
  {
   "cell_type": "code",
   "execution_count": null,
   "metadata": {},
   "outputs": [],
   "source": [
    "nl=[]\n",
    "for x in range(1500, 2701):\n",
    "    if (x%7 == 0) and (x%5 == 0):\n",
    "        nl.append(str(x))    #join 是 str的方法，所以要轉成str\n",
    "print(','.join(nl))   #用, 來結合"
   ]
  },
  {
   "cell_type": "code",
   "execution_count": null,
   "metadata": {},
   "outputs": [],
   "source": [
    "my_string =''\n",
    "for x in range(1500, 2701):\n",
    "    if (x%7 == 0) and (x%5 == 0):\n",
    "        my_string = my_string + str(x) + ','\n",
    "print(my_string[:-1])"
   ]
  },
  {
   "cell_type": "markdown",
   "metadata": {},
   "source": [
    "## Write a Python program that accepts a word from the user and reverse it."
   ]
  },
  {
   "cell_type": "code",
   "execution_count": null,
   "metadata": {},
   "outputs": [],
   "source": [
    "word = input(\"Input a word to reverse: \")\n",
    "\n",
    "for char in range(len(word) - 1, -1, -1):\n",
    "    print(word[char], end = \"\")\n",
    "print(\"\\n\")"
   ]
  },
  {
   "cell_type": "code",
   "execution_count": null,
   "metadata": {},
   "outputs": [],
   "source": [
    "word = input(\"Input a word to reverse: \")\n",
    "\n",
    "word_lst = list(word)\n",
    "word_lst.reverse()\n",
    "#print(word_lst)\n",
    "result = ''.join(word_lst)\n",
    "print(result)"
   ]
  },
  {
   "cell_type": "markdown",
   "metadata": {},
   "source": [
    "## write 9*9 multiplication table"
   ]
  },
  {
   "cell_type": "code",
   "execution_count": null,
   "metadata": {},
   "outputs": [],
   "source": [
    "for i in range(1, 10):\n",
    "    for j in range(1, 10):\n",
    "        result = i*j\n",
    "        #print('%d*%d=%-3d' %(i,j, result), end='')\n",
    "        print('{}*{}={:<2d} '.format(i,j,result), end='')\n",
    "    print('')"
   ]
  },
  {
   "cell_type": "code",
   "execution_count": null,
   "metadata": {},
   "outputs": [],
   "source": [
    "for i in range(1,10):\n",
    "    for j in range(1,10):\n",
    "        print(f'{i}*{j}={i*j}',end=\"  \")\n",
    "    print(' ')"
   ]
  },
  {
   "cell_type": "markdown",
   "metadata": {},
   "source": [
    "## Use \"nested for loop\" to print right triangle"
   ]
  },
  {
   "cell_type": "code",
   "execution_count": null,
   "metadata": {},
   "outputs": [],
   "source": [
    "for i in range(1, 10):\n",
    "    for j in range(1, 10):\n",
    "        if j <= i :\n",
    "            print('a', end = '')\n",
    "    print()"
   ]
  },
  {
   "cell_type": "code",
   "execution_count": null,
   "metadata": {},
   "outputs": [],
   "source": [
    "for i in range(9):\n",
    "    for j in range(i):\n",
    "        print('a', end = '')\n",
    "    print('')"
   ]
  },
  {
   "cell_type": "code",
   "execution_count": null,
   "metadata": {},
   "outputs": [],
   "source": [
    "for i in range(1,10):\n",
    "    for j in range(1,10):\n",
    "        if i >=j:\n",
    "            print('a' ,end=\"\")\n",
    "    print()    "
   ]
  },
  {
   "cell_type": "code",
   "execution_count": null,
   "metadata": {},
   "outputs": [],
   "source": [
    "for i in range(11):\n",
    "    for j in range(i):\n",
    "        print('a',end=\"\")\n",
    "    print('')"
   ]
  },
  {
   "cell_type": "markdown",
   "metadata": {},
   "source": [
    "## Write a Python program to sum all the items in a list"
   ]
  },
  {
   "cell_type": "code",
   "execution_count": null,
   "metadata": {},
   "outputs": [],
   "source": [
    "items = [-100, 20, 9, -7]\n",
    "sum_numbers = 0\n",
    "for x in items:\n",
    "    sum_numbers += x\n",
    "\n",
    "print('sum: {}'.format(sum_numbers))"
   ]
  },
  {
   "cell_type": "code",
   "execution_count": null,
   "metadata": {},
   "outputs": [],
   "source": [
    "items = [-100, 20, 9, -7]\n",
    "\n",
    "print(sum(items))"
   ]
  },
  {
   "cell_type": "code",
   "execution_count": null,
   "metadata": {},
   "outputs": [],
   "source": [
    "items = [-100, 20, 9, -7]\n",
    "sum(items)"
   ]
  },
  {
   "cell_type": "code",
   "execution_count": null,
   "metadata": {},
   "outputs": [],
   "source": [
    "items = [-100, 20, 9, -7]\n",
    "total =items[0]+items[1]+items[2]+items[3]\n",
    "total"
   ]
  },
  {
   "cell_type": "code",
   "execution_count": null,
   "metadata": {},
   "outputs": [],
   "source": [
    "total=0\n",
    "items = [-100, 20, 9, -7]\n",
    "for i in items:\n",
    "    total += i\n",
    "total\n",
    "    "
   ]
  },
  {
   "cell_type": "markdown",
   "metadata": {},
   "source": [
    "## Write a Python program to get the largest number from a list"
   ]
  },
  {
   "cell_type": "code",
   "execution_count": null,
   "metadata": {},
   "outputs": [],
   "source": [
    "my_list = [-100, 20, 900, -7]\n",
    "max_number = my_list[0]\n",
    "\n",
    "for i in my_list:\n",
    "    if i > max_number:\n",
    "        max_number = i\n",
    "print('max number is {}'.format(max_number))"
   ]
  },
  {
   "cell_type": "code",
   "execution_count": null,
   "metadata": {},
   "outputs": [],
   "source": [
    "print(max(my_list))"
   ]
  },
  {
   "cell_type": "code",
   "execution_count": null,
   "metadata": {},
   "outputs": [],
   "source": [
    "my_list = [-100, 20, 900, -7]\n",
    "max(my_list)"
   ]
  },
  {
   "cell_type": "code",
   "execution_count": null,
   "metadata": {},
   "outputs": [],
   "source": [
    "maxnum =-100\n",
    "my_list = [-100, 20, 900, -7]\n",
    "\n",
    "for i in my_list:\n",
    "    if i > maxnum:\n",
    "        maxnum = i\n",
    "print(maxnum)\n",
    "    \n",
    "#先把第一個數抓出來當作比較的值\n",
    "#語法就是: 如果帶入的i 大於 比較的值，那i就會變成比較的值\n"
   ]
  },
  {
   "cell_type": "markdown",
   "metadata": {},
   "source": [
    "## Write a Python program to remove duplicates from a list."
   ]
  },
  {
   "cell_type": "code",
   "execution_count": null,
   "metadata": {},
   "outputs": [],
   "source": [
    "my_list = [10, 20, 30, 20, 10, 50, 60, 40, 80, 50 ,40]\n",
    "\n",
    "dup_items = set()\n",
    "uniq_items = []\n",
    "for x in my_list:\n",
    "    if x not in dup_items:\n",
    "        uniq_items.append(x)\n",
    "        dup_items.add(x)\n",
    "\n",
    "print(list(dup_items))"
   ]
  },
  {
   "cell_type": "code",
   "execution_count": null,
   "metadata": {},
   "outputs": [],
   "source": [
    "my_list = [10,20,30,20,10,50,60,40,80,50,40]\n",
    "\n",
    "my_set = set(my_list)\n",
    "result = list(my_set)\n",
    "print(result)"
   ]
  },
  {
   "cell_type": "code",
   "execution_count": null,
   "metadata": {},
   "outputs": [],
   "source": [
    "my_list = [10, 20, 30, 20, 10, 50, 60, 40, 80, 50 ,40]\n",
    "result=set(my_list)\n",
    "list(result)"
   ]
  },
  {
   "cell_type": "code",
   "execution_count": null,
   "metadata": {},
   "outputs": [],
   "source": [
    "list1=[]\n",
    "my_list = [10, 20, 30, 20, 10, 50, 60, 40, 80, 50 ,40]\n",
    "\n",
    "for i in my_list:\n",
    "    if i in list1:\n",
    "        continue\n",
    "    else:\n",
    "        list1.append(i)\n",
    "list1\n",
    "        \n",
    "\n",
    "   "
   ]
  },
  {
   "cell_type": "markdown",
   "metadata": {},
   "source": [
    "## input a number greater than 1, detect if this number is prime number or not\n",
    "## if it is prime number, print \"this is a prime number\"\n",
    "## if it is not prime number , print \"this is not a prime number\""
   ]
  },
  {
   "cell_type": "code",
   "execution_count": null,
   "metadata": {},
   "outputs": [],
   "source": [
    "num = 101\n",
    "  \n",
    "is_prime = 1\n",
    "    \n",
    "# Iterate from 2 to n / 2  \n",
    "for i in range(2, num//2): \n",
    "    # If num is divisible by any number between\n",
    "    # 2 and n / 2, it is not prime  \n",
    "    if (num % i) == 0:\n",
    "        is_prime = 0\n",
    "        break\n",
    "if(is_prime == 0):\n",
    "    print(num, \"is not a prime number\")\n",
    "else:\n",
    "    print(num, \"is a prime number\") "
   ]
  },
  {
   "cell_type": "code",
   "execution_count": null,
   "metadata": {},
   "outputs": [],
   "source": [
    "num = 101\n",
    "\n",
    "for i in range(2,num-1):\n",
    "    if num ==0 :\n",
    "        print(\"this is not a prime number\")\n",
    "        break\n",
    "else:\n",
    "    print(\"this is a prime number\")"
   ]
  },
  {
   "cell_type": "markdown",
   "metadata": {},
   "source": [
    "## Given a test string, please switch this string to lower and  calculate frequency of each character"
   ]
  },
  {
   "cell_type": "code",
   "execution_count": null,
   "metadata": {},
   "outputs": [],
   "source": [
    "test_str = 'hello, I am isaac. Nice to meet you'\n",
    "test_str = test_str.lower()\n",
    "\n",
    "all_freq = {} \n",
    "  \n",
    "for i in test_str: \n",
    "    if i in all_freq: \n",
    "        all_freq[i] += 1\n",
    "    else: \n",
    "        all_freq[i] = 1\n",
    "print(all_freq)"
   ]
  },
  {
   "cell_type": "code",
   "execution_count": null,
   "metadata": {},
   "outputs": [],
   "source": [
    "test_str = 'hello, I am isaac. Nice to meet you'\n",
    "test_str=test_str.lower()\n",
    "dicstr = {}\n",
    "\n",
    "\n",
    "for i in test_str:\n",
    "    if i in dicstr:\n",
    "        dicstr[i] = test_str.count(i)\n",
    "    else:\n",
    "        dicstr[i] = 1\n",
    "print(dicstr)\n",
    "\n",
    "\n"
   ]
  },
  {
   "cell_type": "code",
   "execution_count": null,
   "metadata": {},
   "outputs": [],
   "source": [
    "test_str = 'hello, I am isaac. Nice to meet you'\n",
    "test_str=test_str.lower()\n",
    "\n",
    "{i : test_str.count(i)  for i in test_str}"
   ]
  },
  {
   "cell_type": "markdown",
   "metadata": {},
   "source": [
    "##  Find the longest word in the list"
   ]
  },
  {
   "cell_type": "code",
   "execution_count": null,
   "metadata": {},
   "outputs": [],
   "source": [
    "my_list = ['isaac', 'judy', 'christina', 'ann']\n",
    "max_long_word = my_list[0]\n",
    "\n",
    "for i in my_list:\n",
    "    if len(max_long_word) < len(i):\n",
    "        max_long_word = i\n",
    "print('the longest word is the list is: {}'.format(max_long_word))"
   ]
  },
  {
   "cell_type": "code",
   "execution_count": null,
   "metadata": {},
   "outputs": [],
   "source": [
    "list1 = my_list[0]\n",
    "my_list = ['isaac', 'judy', 'christina', 'ann']\n",
    "\n",
    "for i in my_list:\n",
    "    if len(list1) < len(i):\n",
    "        list1 = i\n",
    "print(list1)\n",
    "    "
   ]
  },
  {
   "cell_type": "markdown",
   "metadata": {},
   "source": [
    "## Given two vector, calculate distance between them"
   ]
  },
  {
   "cell_type": "code",
   "execution_count": null,
   "metadata": {},
   "outputs": [],
   "source": [
    "vector1 = [1, 2, 1]\n",
    "vector2 = [3, 4, 2]\n",
    "diff_sum = 0\n",
    "\n",
    "for i in range(len(vector1)):\n",
    "    diff_sum = diff_sum + (vector1[i] - vector2[i])**2\n",
    "\n",
    "distance = diff_sum ** 0.5\n",
    "print('distance is: {}'.format(distance))"
   ]
  },
  {
   "cell_type": "code",
   "execution_count": null,
   "metadata": {},
   "outputs": [],
   "source": [
    "vector1 = [1, 2, 1]\n",
    "vector2 = [3, 4, 2]\n",
    "dis_sum = 0\n",
    "\n",
    "for i in vector1:\n",
    "    dis_sum = dis_sum+ (vector1[i]-vector2[i])**2\n",
    "    \n",
    "dis_sum = dis_sum **0.5\n",
    "print(dis_sum)"
   ]
  },
  {
   "cell_type": "markdown",
   "metadata": {},
   "source": [
    "## Ask the user for a string and print out whether this string is a palindrome or not. (A palindrome is a string that reads the same forwards and backwards.)"
   ]
  },
  {
   "cell_type": "code",
   "execution_count": null,
   "metadata": {},
   "outputs": [],
   "source": [
    "word = input('give me a word:\\n')\n",
    "reverse_word = ''\n",
    "for i in range(len(word)):\n",
    "    reverse_word += word[len(word)-1-i]\n",
    "\n",
    "if reverse_word == word:\n",
    "    print('This is a Palindrome')\n",
    "else:\n",
    "    print('This is NOT a Palindrome')"
   ]
  }
 ],
 "metadata": {
  "kernelspec": {
   "display_name": "Python 3",
   "language": "python",
   "name": "python3"
  },
  "language_info": {
   "codemirror_mode": {
    "name": "ipython",
    "version": 3
   },
   "file_extension": ".py",
   "mimetype": "text/x-python",
   "name": "python",
   "nbconvert_exporter": "python",
   "pygments_lexer": "ipython3",
   "version": "3.9.5"
  }
 },
 "nbformat": 4,
 "nbformat_minor": 2
}
