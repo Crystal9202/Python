{
 "cells": [
  {
   "cell_type": "markdown",
   "metadata": {},
   "source": [
    "#  <font color=red> Module_12_Set</font>"
   ]
  },
  {
   "cell_type": "markdown",
   "metadata": {},
   "source": [
    "## Set &rArr; 無序(unordered)、可變(mutable)\n",
    ">### mod3<img src='./img/py_data_type.png'>"
   ]
  },
  {
   "cell_type": "code",
   "execution_count": null,
   "metadata": {},
   "outputs": [],
   "source": [
    "# 集合不會有重複的元素\n",
    "\n",
    "basket = {'apple', 'orange', 'apple', 'pear', 'orange', 'banana'}\n",
    "basket"
   ]
  },
  {
   "cell_type": "code",
   "execution_count": null,
   "metadata": {},
   "outputs": [],
   "source": [
    "print(f'grape in basket : {\"grape\" in basket}, orange in basket : {\"orange\" in basket}')"
   ]
  },
  {
   "cell_type": "code",
   "execution_count": null,
   "metadata": {},
   "outputs": [],
   "source": [
    "a = []\n",
    "b = ()\n",
    "c = {} # 因為 { } 代表空字典(Dict)\n",
    "d = set()  # 空集合\n",
    "print(type(a), type(b), type(c), type(d))"
   ]
  },
  {
   "cell_type": "code",
   "execution_count": null,
   "metadata": {},
   "outputs": [],
   "source": [
    "print(type(5))\n",
    "t2=(50,)\n",
    "print(type(t2))"
   ]
  },
  {
   "cell_type": "markdown",
   "metadata": {},
   "source": [
    "## Set 沒有順序"
   ]
  },
  {
   "cell_type": "code",
   "execution_count": null,
   "metadata": {},
   "outputs": [],
   "source": [
    "s1 = {2,1,4,3}\n",
    "s2 = {1,2,3,4}\n",
    "print(f's1 == s2 : {s1 == s2}')"
   ]
  },
  {
   "cell_type": "code",
   "execution_count": null,
   "metadata": {},
   "outputs": [],
   "source": [
    "s1 = {1, 2, 3, 4}\n",
    "s1[1]    # error no ordered"
   ]
  },
  {
   "cell_type": "markdown",
   "metadata": {},
   "source": [
    "## 集合的各種操作"
   ]
  },
  {
   "cell_type": "markdown",
   "metadata": {},
   "source": [
    "><img src=\".\\img\\set.png\"  style='height:450px; width:750px'>\n",
    "## 包含\n",
    ">### $$\\subset \\Rightarrow 數學符號:包含於$$\n",
    ">### $$\\supset \\Rightarrow 數學符號:包含$$"
   ]
  },
  {
   "cell_type": "code",
   "execution_count": null,
   "metadata": {},
   "outputs": [],
   "source": [
    "{1, 3, 4}|{3, 5}"
   ]
  },
  {
   "cell_type": "code",
   "execution_count": null,
   "metadata": {},
   "outputs": [],
   "source": [
    "print('{1,2,3} | {2,3,4} = ', {1,2,3} | {2,3,4})  # 聯集\n",
    "print('{1,2,3} & {2,3,4} = ', {1,2,3} & {2,3,4}, '\\n')  # 交集\n",
    "\n",
    "print('{1,2,3} - {2,3,4} = ', {1,2,3} - {2,3,4})  # diff\n",
    "print('{2,3,4} - {2,3,1} = ', {2,3,4} - {2,3,1})  # diff\n",
    "print('{1,2,3} ^ {2,3,4} = ', {1,2,3} ^ {2,3,4}, '\\n')  # symmetric diff\n",
    "\n",
    "print('{1,2} < {1,2,3,4} = ', {1,2} < {1,2,3,4})  # sub\n",
    "print('{1,2} > {1,2,3,4} = ', {1,2} > {1,2,3,4})  # sup"
   ]
  },
  {
   "cell_type": "markdown",
   "metadata": {},
   "source": [
    "---"
   ]
  },
  {
   "cell_type": "code",
   "execution_count": null,
   "metadata": {},
   "outputs": [],
   "source": [
    "A = 'Apple'\n",
    "B = list(A)\n",
    "B"
   ]
  },
  {
   "cell_type": "code",
   "execution_count": null,
   "metadata": {},
   "outputs": [],
   "source": [
    "s1 = {'66316666'};\n",
    "s2 = set('66316666')\n",
    "print(s1, len(s1))\n",
    "print(s2, len(s2))\n",
    "print(type(s1))\n",
    "print(type(s2))"
   ]
  },
  {
   "cell_type": "code",
   "execution_count": null,
   "metadata": {},
   "outputs": [],
   "source": [
    "s1 = {1, 2, 3, 4, 5}\n",
    "print(len(s1))\n",
    "print(max(s1))\n",
    "print(min(s1))\n",
    "print(sum(s1))\n",
    "print(sorted(s1))\n",
    "print(sorted(s1,reverse = True))"
   ]
  },
  {
   "cell_type": "markdown",
   "metadata": {},
   "source": [
    "## Set內不能放可變類型的資料"
   ]
  },
  {
   "cell_type": "code",
   "execution_count": null,
   "metadata": {},
   "outputs": [],
   "source": [
    "{[1,2,3,4]}"
   ]
  },
  {
   "cell_type": "code",
   "execution_count": null,
   "metadata": {},
   "outputs": [],
   "source": [
    "{{'A':1, 'B':2}}"
   ]
  },
  {
   "cell_type": "code",
   "execution_count": null,
   "metadata": {},
   "outputs": [],
   "source": [
    "{{1, 2, 3, 4}}"
   ]
  },
  {
   "cell_type": "markdown",
   "metadata": {},
   "source": [
    "## 集合的方法"
   ]
  },
  {
   "cell_type": "code",
   "execution_count": null,
   "metadata": {},
   "outputs": [],
   "source": [
    "a = {1, 2, 3}; b = {4, 5}; c = {4, 5, 6}; d = {1, 2, 3, 4, 5, 6}\n",
    "\n",
    "print (f'a = {a},  b = {b},  c = {c},  d= {d} \\n')\n",
    "\n",
    "print('a.isdisjoint(d) :               `    ', a.isdisjoint(d))     \n",
    "print('a.isdisjoint(b) :                   ', a.isdisjoint(b), '\\n') # 沒交集\n",
    "\n",
    "print('a.issubset(b) :                     ', a.issubset(b))  #子集合\n",
    "print('a.issubset(d) :                     ', a.issubset(d))\n",
    "print('a.issubset(d) == (a<d) :            ', a.issubset(d) == (a<d), '\\n')\n",
    "\n",
    "print('d.issuperset(a) :                   ', d.issuperset(a))  #超集    #跟subset相反 \n",
    "print('d.issuperset(a) == (d>a) :          ', d.issuperset(a) == (d>a), '\\n') "
   ]
  },
  {
   "cell_type": "markdown",
   "metadata": {},
   "source": [
    "---"
   ]
  },
  {
   "cell_type": "code",
   "execution_count": null,
   "metadata": {},
   "outputs": [],
   "source": [
    "a = {1, 2, 3}; b = {4, 5}; c = {4, 5, 6}; d = {1, 2, 3, 4, 5, 6}\n",
    "print('a.union(b) :                        ', a.union(b)) # 聯集\n",
    "print('a.union(b) == a|b:                  ', a.union(b) == a|b, '\\n')\n",
    "\n",
    "print('b.intersection(c):                  ', b.intersection(c))  #交集\n",
    "print('b.intersection(c) == b&c :          ', b.intersection(c) == b&c, '\\n')\n",
    "\n",
    "print('a.difference(d) :                   ', a.difference(d))  # 差集\n",
    "print('d.difference(a) :                   ', d.difference(a))  # 差集\n",
    "print('d.difference(a) == (d-a):           ', d.difference(a) == (d-a), '\\n')  # 差集\n",
    "\n",
    "print('a.symmetric_difference(b) :         ', a.symmetric_difference(b))  #對稱差集\n",
    "print('a.symmetric_difference(b) == (a^b): ', a.symmetric_difference(b) == (a^b),'\\n')  "
   ]
  },
  {
   "cell_type": "markdown",
   "metadata": {},
   "source": [
    "---"
   ]
  },
  {
   "cell_type": "code",
   "execution_count": null,
   "metadata": {},
   "outputs": [],
   "source": [
    "a = {1, 2, 3}; b = {3, 4, 5}\n",
    "\n",
    "a.update(b)\n",
    "a"
   ]
  },
  {
   "cell_type": "code",
   "execution_count": null,
   "metadata": {},
   "outputs": [],
   "source": [
    "a = {1, 2, 3}; b = {3, 4, 5}\n",
    "a.intersection_update(b)\n",
    "a     # 傳回與 b集合的交集"
   ]
  },
  {
   "cell_type": "code",
   "execution_count": null,
   "metadata": {},
   "outputs": [],
   "source": [
    "a = {1, 2, 3}; b = {3, 4, 5}\n",
    "a.difference_update(b)\n",
    "a"
   ]
  },
  {
   "cell_type": "code",
   "execution_count": null,
   "metadata": {},
   "outputs": [],
   "source": [
    "a = {1, 2, 3}; b = {3, 4, 5}\n",
    "a.symmetric_difference_update(b)\n",
    "a"
   ]
  },
  {
   "cell_type": "code",
   "execution_count": null,
   "metadata": {},
   "outputs": [],
   "source": [
    "A = {1, 2, 3} \n",
    "B = {4, 3, 5}\n",
    "print(id(A))\n",
    "A.intersection(B)\n",
    "print(A, id(A))\n",
    "A.intersection_update(B)\n",
    "print(A, id(A))"
   ]
  },
  {
   "cell_type": "code",
   "execution_count": null,
   "metadata": {},
   "outputs": [],
   "source": [
    "a = {1, 2, 3}; b = {3, 4, 5}\n",
    "print(id(a))\n",
    "\n",
    "a.update(b);\n",
    "print(a, id(a)) # set is mutable"
   ]
  },
  {
   "cell_type": "markdown",
   "metadata": {},
   "source": [
    "---"
   ]
  },
  {
   "cell_type": "code",
   "execution_count": null,
   "metadata": {},
   "outputs": [],
   "source": [
    "a = {1, 2, 3}; b = {3, 4, 5}; c = {4, 5, 6}; d = {1, 2, 3, 4, 5, 6}\n",
    "\n",
    "a.add(1)  # set isn't repeatable\n",
    "print(a) \n",
    "a.add(5)  \n",
    "print(a)"
   ]
  },
  {
   "cell_type": "code",
   "execution_count": null,
   "metadata": {},
   "outputs": [],
   "source": [
    "a = {1, 2, 3}\n",
    "a.remove(1)\n",
    "a"
   ]
  },
  {
   "cell_type": "code",
   "execution_count": null,
   "metadata": {},
   "outputs": [],
   "source": [
    "a = {1, 2, 3}\n",
    "a.remove(4)\n",
    "a"
   ]
  },
  {
   "cell_type": "code",
   "execution_count": null,
   "metadata": {},
   "outputs": [],
   "source": [
    "# discard  不會出現報錯訊息  / # remove 會出現報錯訊息\n",
    "\n",
    "a = {1,2,3}\n",
    "a.discard(4) # 如果 element 存在於 set，則將其移除。此方法不會觸發 KeyError 的例外\n",
    "a  "
   ]
  },
  {
   "cell_type": "code",
   "execution_count": null,
   "metadata": {},
   "outputs": [],
   "source": [
    "a = {1, 2, 3}\n",
    "b = a.pop() # 隨機刪除一個數並return被刪的值\n",
    "print(a, b)"
   ]
  },
  {
   "cell_type": "markdown",
   "metadata": {},
   "source": [
    "---"
   ]
  },
  {
   "cell_type": "code",
   "execution_count": null,
   "metadata": {},
   "outputs": [],
   "source": [
    "s = {num for num in range(1,30) if num % 3 == 1}\n",
    "s"
   ]
  },
  {
   "cell_type": "code",
   "execution_count": null,
   "metadata": {},
   "outputs": [],
   "source": [
    "s2 = {num%3 for num in range(1,30)}\n",
    "s2 # 元素不重複\n"
   ]
  },
  {
   "cell_type": "code",
   "execution_count": null,
   "metadata": {},
   "outputs": [],
   "source": [
    "set1 = {1, 3, 5}\n",
    "set2 = frozenset(set1) # frozenset 無法修改\n",
    "set2"
   ]
  },
  {
   "cell_type": "code",
   "execution_count": null,
   "metadata": {},
   "outputs": [],
   "source": [
    "set2.add(3)"
   ]
  },
  {
   "cell_type": "markdown",
   "metadata": {},
   "source": [
    "---"
   ]
  },
  {
   "cell_type": "markdown",
   "metadata": {},
   "source": [
    "# 資料型態總結\n",
    "<img src='./img/py_data_type_2.png'>"
   ]
  }
 ],
 "metadata": {
  "kernelspec": {
   "display_name": "Python 3",
   "language": "python",
   "name": "python3"
  },
  "language_info": {
   "codemirror_mode": {
    "name": "ipython",
    "version": 3
   },
   "file_extension": ".py",
   "mimetype": "text/x-python",
   "name": "python",
   "nbconvert_exporter": "python",
   "pygments_lexer": "ipython3",
   "version": "3.9.5"
  }
 },
 "nbformat": 4,
 "nbformat_minor": 2
}
