{
 "cells": [
  {
   "cell_type": "markdown",
   "id": "fe1a038b",
   "metadata": {},
   "source": [
    "#  <font color=red> Module_17_類別與物件導向 </font> "
   ]
  },
  {
   "cell_type": "markdown",
   "id": "09c0b0b3",
   "metadata": {},
   "source": [
    "## 類別與實體物件"
   ]
  },
  {
   "cell_type": "markdown",
   "id": "c63a818b",
   "metadata": {},
   "source": [
    "## class 建立類別\n",
    "### class 類別名稱: (  )     \n",
    "#### (  )括號可以省略"
   ]
  },
  {
   "cell_type": "markdown",
   "id": "b395618b",
   "metadata": {},
   "source": [
    "# 類別中通常會建立\"屬性\" 和 \"方法\"\n",
    "### 屬性 (attribute) : 一般變數\n",
    "### 方法( method) : 函式\n",
    "### 定義的方法中，第一個參數必須是 self"
   ]
  },
  {
   "cell_type": "markdown",
   "id": "81283baa",
   "metadata": {},
   "source": [
    "----------------------------------------------------------------------------------------------------------------"
   ]
  },
  {
   "cell_type": "code",
   "execution_count": 7,
   "id": "7ce26e4f",
   "metadata": {},
   "outputs": [],
   "source": [
    "## 前言概念\n",
    "class Animal():       #定義類別\n",
    "    name = \"小狗\"     #定義類屬性\n",
    "    def run(self):   #定義實體物件的方法\n",
    "        print(\"很會跑!\")  #建立物件\n"
   ]
  },
  {
   "cell_type": "code",
   "execution_count": 5,
   "id": "77d5c937",
   "metadata": {},
   "outputs": [],
   "source": [
    "#以類別名稱即可建立實體物件(Object)\n",
    "## 語法: \n",
    "#物件 = 類別()\n",
    "\n",
    "Dog =Animal()"
   ]
  },
  {
   "cell_type": "code",
   "execution_count": 8,
   "id": "12765ad3",
   "metadata": {},
   "outputs": [
    {
     "name": "stdout",
     "output_type": "stream",
     "text": [
      "小狗\n"
     ]
    },
    {
     "data": {
      "text/plain": [
       "<bound method Animal.run of <__main__.Animal object at 0x00000262AF4C57C0>>"
      ]
     },
     "execution_count": 8,
     "metadata": {},
     "output_type": "execute_result"
    }
   ],
   "source": [
    "#以物件執行其屬性和方法\n",
    "## 物件.屬性\n",
    "## 物件.方法()\n",
    "#依據 類別Animal 取得 name 屬性 和  執行  run方法\n",
    "\n",
    "Dog =Animal()   #建立一個名叫 Dog 的 Animal物件\n",
    "print(Dog.name) #小狗\n",
    "Dog.run         #很會跑"
   ]
  },
  {
   "cell_type": "code",
   "execution_count": 10,
   "id": "b3185f25",
   "metadata": {},
   "outputs": [],
   "source": [
    "# Python 中的類別明約定以大寫字母開頭\n",
    "# Turtle() 的括號可寫可不寫\n",
    "\n",
    "class Turtle:\n",
    "    \"\"\"關於類別的一個簡單例子\"\"\"\n",
    "    # 類屬性\n",
    "    color = 'green'\n",
    "    weight = 10\n",
    "    legs = 4\n",
    "    shell = True\n",
    "    mouth = '大嘴'\n",
    "    \n",
    "    # 實體物件的方法\n",
    "    def climb(self):\n",
    "        print('我正在努力地向前爬...')\n",
    "    \n",
    "    def run(self):\n",
    "        print('我正飛快地向前跑...')\n",
    "        \n",
    "    def bite(self):\n",
    "        print('咬死你咬死你!')\n",
    "        \n",
    "    def eat(self):\n",
    "        print('有得吃，真滿足!')\n",
    "        \n",
    "    def sleep(self):\n",
    "        print('睏了，睡了，晚安!')"
   ]
  },
  {
   "cell_type": "code",
   "execution_count": 11,
   "id": "68fad5b5",
   "metadata": {},
   "outputs": [
    {
     "name": "stdout",
     "output_type": "stream",
     "text": [
      "green\n",
      "True\n",
      "我正在努力地向前爬...\n"
     ]
    }
   ],
   "source": [
    "# 建立實體物件， 使用裡面的屬性方法\n",
    "\n",
    "t1 = Turtle() #以類別名稱 建立實體物件\n",
    "print(t1.color)  \n",
    "print(t1.shell)\n",
    "t1.climb()"
   ]
  },
  {
   "cell_type": "code",
   "execution_count": 13,
   "id": "73b2ea5d",
   "metadata": {},
   "outputs": [],
   "source": [
    "# self 的意義\n",
    "\n",
    "class Ball:\n",
    "    def setName(self, name):\n",
    "        self.name = name\n",
    "    def kick(self):\n",
    "        print(f'我叫{self.name}， 該死的， 誰踢我?')"
   ]
  },
  {
   "cell_type": "code",
   "execution_count": 14,
   "id": "6a68111a",
   "metadata": {},
   "outputs": [
    {
     "name": "stdout",
     "output_type": "stream",
     "text": [
      "我叫球A， 該死的， 誰踢我?\n"
     ]
    }
   ],
   "source": [
    "# b1 會傳入 self\n",
    "\n",
    "b1 = Ball()\n",
    "b1.setName('球A')\n",
    "b1.kick()"
   ]
  },
  {
   "cell_type": "code",
   "execution_count": 15,
   "id": "d35b98ce",
   "metadata": {},
   "outputs": [
    {
     "name": "stdout",
     "output_type": "stream",
     "text": [
      "我叫球B， 該死的， 誰踢我?\n"
     ]
    }
   ],
   "source": [
    "# b2 會傳入 self\n",
    "\n",
    "b2 = Ball()\n",
    "b2.setName('球B')\n",
    "b2.kick()"
   ]
  },
  {
   "cell_type": "markdown",
   "id": "318aca71",
   "metadata": {},
   "source": [
    "--------------------------------------------------------------------------------------------------------------------------"
   ]
  },
  {
   "cell_type": "code",
   "execution_count": null,
   "id": "3846a18b",
   "metadata": {},
   "outputs": [],
   "source": [
    "## 前言概念\n",
    "#建立類別時必須對類別初始化 __init__() ，這個初始化的方式叫做 建構式"
   ]
  },
  {
   "cell_type": "code",
   "execution_count": 17,
   "id": "3de09ad2",
   "metadata": {},
   "outputs": [],
   "source": [
    "# __init__() 方法的主要功能為初始化實體屬性，建立實體物件同時就會自動執行。  #建構式\n",
    "#屬性初始值得設定\n",
    "\n",
    "class Ball:    #定義類別\n",
    "    def __init__(self, name):\n",
    "        self.name = name     #定義實體屬性\n",
    "    def kick(self):          #定義實體方法\n",
    "        print(f'我叫{self.name}， 該死的， 誰踢我?')"
   ]
  },
  {
   "cell_type": "code",
   "execution_count": 18,
   "id": "5405d204",
   "metadata": {},
   "outputs": [
    {
     "name": "stdout",
     "output_type": "stream",
     "text": [
      "球C\n",
      "我叫球C， 該死的， 誰踢我?\n"
     ]
    }
   ],
   "source": [
    "# b1 會傳入 __init__方法的 self變數\n",
    "\n",
    "b1 = Ball('球C')    #以Ball類別，建立一個名叫 \"球c\"的 b1物件\n",
    "print(b1.name)\n",
    "b1.kick()"
   ]
  },
  {
   "cell_type": "code",
   "execution_count": 19,
   "id": "342ce921",
   "metadata": {},
   "outputs": [],
   "source": [
    "# 範例\n",
    "\n",
    "class Animal():      # 定義類別  \n",
    "    def __init__(self, name,age):\n",
    "        self.name = name  # 定義實體物件的屬性 \n",
    "        self.age = age\n",
    "    def sing(self):       # 定義實體物件的方法        \n",
    "        print(self.name + str(self.age) + \"歲，很會唱歌!\")   #print(f'{self.name}{self.age}歲，很會唱歌')\n",
    "    def grow(self,year):  # 定義實體物件的方法        \n",
    "        self.age += year     "
   ]
  },
  {
   "cell_type": "code",
   "execution_count": 20,
   "id": "81ce4552",
   "metadata": {},
   "outputs": [],
   "source": [
    "bird = Animal(\"鸚鵡\",1) # 以 Animal 類別，建立一個名叫鸚鵡、1歲大的 bird物件"
   ]
  },
  {
   "cell_type": "code",
   "execution_count": 21,
   "id": "edf20243",
   "metadata": {},
   "outputs": [
    {
     "data": {
      "text/plain": [
       "1"
      ]
     },
     "execution_count": 21,
     "metadata": {},
     "output_type": "execute_result"
    }
   ],
   "source": [
    "bird.age"
   ]
  },
  {
   "cell_type": "code",
   "execution_count": 22,
   "id": "31b5e47c",
   "metadata": {},
   "outputs": [
    {
     "data": {
      "text/plain": [
       "'鸚鵡'"
      ]
     },
     "execution_count": 22,
     "metadata": {},
     "output_type": "execute_result"
    }
   ],
   "source": [
    "bird.name"
   ]
  },
  {
   "cell_type": "code",
   "execution_count": 23,
   "id": "b16f4a28",
   "metadata": {},
   "outputs": [],
   "source": [
    "bird.grow(1)     # 長大1歲"
   ]
  },
  {
   "cell_type": "code",
   "execution_count": 24,
   "id": "6cce42b1",
   "metadata": {},
   "outputs": [
    {
     "data": {
      "text/plain": [
       "2"
      ]
     },
     "execution_count": 24,
     "metadata": {},
     "output_type": "execute_result"
    }
   ],
   "source": [
    "bird.age"
   ]
  },
  {
   "cell_type": "code",
   "execution_count": 25,
   "id": "d5484d1b",
   "metadata": {},
   "outputs": [
    {
     "name": "stdout",
     "output_type": "stream",
     "text": [
      "鸚鵡2歲，很會唱歌!\n"
     ]
    }
   ],
   "source": [
    "bird.sing()      # 鸚鵡2歲，很會唱歌!"
   ]
  },
  {
   "cell_type": "markdown",
   "id": "25f46667",
   "metadata": {},
   "source": [
    "----------------------------------------------------------------------------"
   ]
  },
  {
   "cell_type": "code",
   "execution_count": 26,
   "id": "dc91be48",
   "metadata": {},
   "outputs": [],
   "source": [
    "#範例\n",
    "# 類別屬性與實體物件屬性的差別\n",
    "# 由建構式出來的是實體屬性\n",
    "\n",
    "class Cars():\n",
    "    def __init__(self,color,seat):\n",
    "        self.color=color\n",
    "        self.seat=seat\n",
    "        self.weight =140\n"
   ]
  },
  {
   "cell_type": "code",
   "execution_count": 27,
   "id": "28e269fc",
   "metadata": {},
   "outputs": [],
   "source": [
    "mazda=Cars(\"blue\",4)"
   ]
  },
  {
   "cell_type": "code",
   "execution_count": 28,
   "id": "b6169ff5",
   "metadata": {},
   "outputs": [
    {
     "data": {
      "text/plain": [
       "'blue'"
      ]
     },
     "execution_count": 28,
     "metadata": {},
     "output_type": "execute_result"
    }
   ],
   "source": [
    "mazda.color"
   ]
  },
  {
   "cell_type": "code",
   "execution_count": 29,
   "id": "1d3446e4",
   "metadata": {},
   "outputs": [
    {
     "data": {
      "text/plain": [
       "4"
      ]
     },
     "execution_count": 29,
     "metadata": {},
     "output_type": "execute_result"
    }
   ],
   "source": [
    "mazda.seat"
   ]
  },
  {
   "cell_type": "code",
   "execution_count": 30,
   "id": "184a5f30",
   "metadata": {},
   "outputs": [
    {
     "data": {
      "text/plain": [
       "140"
      ]
     },
     "execution_count": 30,
     "metadata": {},
     "output_type": "execute_result"
    }
   ],
   "source": [
    "mazda.weight"
   ]
  },
  {
   "cell_type": "code",
   "execution_count": 31,
   "id": "96d47fe6",
   "metadata": {},
   "outputs": [],
   "source": [
    "mazda.color=\"red\"\n",
    "mazda.seat=8\n",
    "mazda.weight =200"
   ]
  },
  {
   "cell_type": "code",
   "execution_count": 32,
   "id": "7dd5f2fa",
   "metadata": {},
   "outputs": [],
   "source": [
    "toyota=Cars(\"orange\",6)"
   ]
  },
  {
   "cell_type": "code",
   "execution_count": 33,
   "id": "5eaac173",
   "metadata": {},
   "outputs": [
    {
     "name": "stdout",
     "output_type": "stream",
     "text": [
      "mazda color:  red\n",
      "mazda seat:  8\n",
      "mazda weight:  200\n",
      "toyota color:  orange\n",
      "toyota seat:  6\n",
      "toyota weight:  140\n"
     ]
    }
   ],
   "source": [
    "print(\"mazda color: \", mazda.color)\n",
    "print(\"mazda seat: \", mazda.seat)\n",
    "print(\"mazda weight: \", mazda.weight)\n",
    "print(\"toyota color: \", toyota.color) # 修改了 mazda 物件的屬性值，並不會影響到其他物件的屬性值\n",
    "print(\"toyota seat: \", toyota.seat)\n",
    "print(\"toyota weight: \", toyota.weight)"
   ]
  },
  {
   "cell_type": "code",
   "execution_count": 34,
   "id": "10f93e52",
   "metadata": {},
   "outputs": [],
   "source": [
    "class Cars():\n",
    "    door = 4 #類別屬性\n",
    "    def __init__(self,color,seat):\n",
    "        self.color = color\n",
    "        self.seat = seat\n",
    "        self.weight = 140"
   ]
  },
  {
   "cell_type": "code",
   "execution_count": 35,
   "id": "4162b739",
   "metadata": {},
   "outputs": [],
   "source": [
    "mazda =Cars(\"blue\" , 4)\n",
    "toyota=Cars(\"red\" , 6)"
   ]
  },
  {
   "cell_type": "code",
   "execution_count": 36,
   "id": "65745387",
   "metadata": {},
   "outputs": [
    {
     "name": "stdout",
     "output_type": "stream",
     "text": [
      "mazda original door : 4\n",
      "toyota original door : 4\n"
     ]
    }
   ],
   "source": [
    "print(\"mazda original door :\" , mazda.door)   #door原值\n",
    "print(\"toyota original door :\"  , toyota.door) #door原值"
   ]
  },
  {
   "cell_type": "code",
   "execution_count": 37,
   "id": "a774bcd5",
   "metadata": {},
   "outputs": [
    {
     "data": {
      "text/plain": [
       "4"
      ]
     },
     "execution_count": 37,
     "metadata": {},
     "output_type": "execute_result"
    }
   ],
   "source": [
    "Cars.door"
   ]
  },
  {
   "cell_type": "code",
   "execution_count": 38,
   "id": "895da96c",
   "metadata": {},
   "outputs": [],
   "source": [
    "Cars.door = 6"
   ]
  },
  {
   "cell_type": "code",
   "execution_count": 39,
   "id": "df7d1b37",
   "metadata": {
    "scrolled": true
   },
   "outputs": [
    {
     "name": "stdout",
     "output_type": "stream",
     "text": [
      "mazda original door : 6\n",
      "toyota original door : 6\n"
     ]
    }
   ],
   "source": [
    "print(\"mazda original door :\"  , mazda.door)    #door新值\n",
    "print(\"toyota original door :\"  , toyota.door)  #door新值"
   ]
  },
  {
   "cell_type": "markdown",
   "id": "e2f779ef",
   "metadata": {},
   "source": [
    "--------------------------------------------------------------------------"
   ]
  },
  {
   "cell_type": "code",
   "execution_count": null,
   "id": "e8099d03",
   "metadata": {},
   "outputs": [],
   "source": [
    "#類方法與實體方法的差別\n",
    "\n",
    "class A:\n",
    "    \n",
    "    #類屬性(可以直接被類別調用)\n",
    "    num = \"類屬性\"\n",
    "    \n",
    "    #實體化方法(必須實例化之後才能被調用)\n",
    "    def func1(self):\n",
    "        print(\"func1\")\n",
    "    \n",
    "    #類方法(不需要實例化就可以被類別本身調用)\n",
    "    @classmethod    #修飾符號\n",
    "    def func2(cls):    #cls:表示沒被實例化的類本身\n",
    "        print(\"func2\")\n",
    "        print(cls.num)\n",
    "     \n",
    "    #不使用self參數的方法(該方法也是可以直接被類調用的，但是這樣做不標準)\n",
    "    def func3():\n",
    "        print(\"func3\")\n",
    "        print(A.num)   #屬性是可以直接被類本身調用的"
   ]
  },
  {
   "cell_type": "code",
   "execution_count": null,
   "id": "2e66161d",
   "metadata": {},
   "outputs": [],
   "source": [
    "A.func1()   #這樣調用會報錯"
   ]
  },
  {
   "cell_type": "code",
   "execution_count": null,
   "id": "50425071",
   "metadata": {},
   "outputs": [],
   "source": [
    "A.func2()"
   ]
  },
  {
   "cell_type": "code",
   "execution_count": null,
   "id": "9b9c6c89",
   "metadata": {},
   "outputs": [],
   "source": [
    "A.func3()"
   ]
  },
  {
   "cell_type": "code",
   "execution_count": null,
   "id": "c636e3ed",
   "metadata": {},
   "outputs": [],
   "source": [
    "object=A()"
   ]
  },
  {
   "cell_type": "code",
   "execution_count": null,
   "id": "7c1c1cd6",
   "metadata": {},
   "outputs": [],
   "source": [
    "object.func1()  "
   ]
  },
  {
   "cell_type": "code",
   "execution_count": null,
   "id": "283a2e7e",
   "metadata": {},
   "outputs": [],
   "source": [
    "object.func2()   #cls 還是傳入 A"
   ]
  },
  {
   "cell_type": "code",
   "execution_count": null,
   "id": "9ad61cb2",
   "metadata": {},
   "outputs": [],
   "source": [
    "object.func3()    #可以調用類屬性，但用到實體方法 沒有參數給他，所以報錯"
   ]
  },
  {
   "cell_type": "markdown",
   "id": "3aef0f30",
   "metadata": {},
   "source": [
    "## 類別封裝\n",
    "## encapsulation 封裝\n",
    "### 只有類別內部可以使用，類別外部無法使用"
   ]
  },
  {
   "cell_type": "code",
   "execution_count": null,
   "id": "e8c707b1",
   "metadata": {},
   "outputs": [],
   "source": [
    "# 公有與私有\n",
    "\n",
    "class Person:\n",
    "    name = 'Crystal'\n",
    "\n",
    "p1  = Person()\n",
    "p1.name"
   ]
  },
  {
   "cell_type": "code",
   "execution_count": null,
   "id": "00ade409",
   "metadata": {},
   "outputs": [],
   "source": [
    "p1.name = 'Matt'\n",
    "p1.name"
   ]
  },
  {
   "cell_type": "code",
   "execution_count": null,
   "id": "1ee0d67b",
   "metadata": {},
   "outputs": [],
   "source": [
    "# 變數私有化\n",
    "\n",
    "class Person:\n",
    "    __name = 'Crystal'\n",
    "\n",
    "p1  = Person()\n",
    "print(p1.__name)\n",
    "print(p1.name)"
   ]
  },
  {
   "cell_type": "code",
   "execution_count": null,
   "id": "497f78c5",
   "metadata": {},
   "outputs": [],
   "source": [
    "# 得到私有變量\n",
    "# 名字沒辦法在外部被修改\n",
    "\n",
    "class Person:\n",
    "    __name = 'Crystal'\n",
    "    def getName(self):  #從內部再定義一個實體方法，就能被使用了\n",
    "        return self.__name\n",
    "       \n",
    "p1 = Person()\n",
    "p1.getName()"
   ]
  },
  {
   "cell_type": "code",
   "execution_count": null,
   "id": "137f3a78",
   "metadata": {},
   "outputs": [],
   "source": [
    "# 範例\n",
    "\n",
    "class Animal():      # 定義類別  \n",
    "    def __init__(self, name,age):\n",
    "        self.__name = name  # 定義私用屬性 \n",
    "        self.__age = age\n",
    "        \n",
    "    def __sing(self):       # 定義私用方法        \n",
    "        print(self.__name + str(self.__age) + \"歲，很會唱歌!\")\n",
    "        \n",
    "    def talk(self):        # 定義共用方法 \n",
    "        self.__sing()      # 使用私用方法    ##在內部使用私有方法，可以叫出來   #注意這排的寫法 ，如果下面要print(),就不需要return\n",
    "        print(\"也會模仿人類說話!\")\n",
    "        "
   ]
  },
  {
   "cell_type": "code",
   "execution_count": null,
   "id": "f3c224b3",
   "metadata": {},
   "outputs": [],
   "source": [
    "bird = Animal(\"灰鸚鵡\",2) # 以 Animal 類別，建立一個名叫灰鸚鵡、2歲大的 bird物件\n",
    "bird.talk()       # 灰鸚鵡2歲，很會唱歌，也會模仿人類說話!"
   ]
  },
  {
   "cell_type": "code",
   "execution_count": null,
   "id": "c79f0705",
   "metadata": {},
   "outputs": [],
   "source": [
    "bird.__age = -1  # 設定無效"
   ]
  },
  {
   "cell_type": "code",
   "execution_count": null,
   "id": "37d7a2ae",
   "metadata": {},
   "outputs": [],
   "source": [
    "bird.talk()      # 灰鸚鵡2歲，很會唱歌，也會模仿人類說話!\n",
    "bird.__sing()   # 執行出現錯誤"
   ]
  },
  {
   "cell_type": "markdown",
   "id": "ca7f2dce",
   "metadata": {},
   "source": [
    "## 繼承  Inheritance\n",
    "### 被繼承的類別 : 父類別 (parent class)\n",
    "### 繼承的類別 : 子類別(child class)"
   ]
  },
  {
   "cell_type": "code",
   "execution_count": null,
   "id": "7dad1684",
   "metadata": {},
   "outputs": [],
   "source": [
    "# 繼承\n",
    "#子類別 語法 : class 類別名稱(父類別):\n",
    "class Parent:\n",
    "    def hello(self):\n",
    "        print('正在調父類的方法')\n",
    "    \n",
    "class Child(Parent):  #把父類別放入()中應用\n",
    "    pass"
   ]
  },
  {
   "cell_type": "code",
   "execution_count": null,
   "id": "59387d1d",
   "metadata": {},
   "outputs": [],
   "source": [
    "p = Parent()\n",
    "p.hello()"
   ]
  },
  {
   "cell_type": "code",
   "execution_count": null,
   "id": "7d660a01",
   "metadata": {},
   "outputs": [],
   "source": [
    "c = Child()\n",
    "c.hello()"
   ]
  },
  {
   "cell_type": "code",
   "execution_count": null,
   "id": "e515abb0",
   "metadata": {},
   "outputs": [],
   "source": [
    "# 子類中定義與父類同名的方法或屬性，會自動覆蓋對應的方法或屬性\n",
    "\n",
    "class Parent:\n",
    "    def hello(self):\n",
    "        print('正在調父類的方法')\n",
    "    \n",
    "class Child(Parent):\n",
    "    def hello(self):\n",
    "        print('正在調用子類的方法')"
   ]
  },
  {
   "cell_type": "code",
   "execution_count": null,
   "id": "71d7fd44",
   "metadata": {},
   "outputs": [],
   "source": [
    "p = Parent()\n",
    "p.hello()"
   ]
  },
  {
   "cell_type": "code",
   "execution_count": null,
   "id": "f363e934",
   "metadata": {},
   "outputs": [],
   "source": [
    "c = Child()\n",
    "c.hello()"
   ]
  },
  {
   "cell_type": "code",
   "execution_count": null,
   "id": "8f66158b",
   "metadata": {},
   "outputs": [],
   "source": [
    "# 需要注意的細節\n",
    "\n",
    "import random as r\n",
    "\n",
    "class Fish:\n",
    "    def __init__(self):\n",
    "        self.x = r.randint(0, 10)\n",
    "        self.y = r.randint(0, 10)\n",
    "    def move(self):\n",
    "        self.x += -1\n",
    "        print('我的位置是: ', self.x, self.y)\n",
    "        \n",
    "class Goldfish(Fish):\n",
    "    pass\n",
    "\n",
    "class Carp(Fish):\n",
    "    pass\n",
    "\n",
    "class Salmon(Fish):\n",
    "    pass\n",
    "\n",
    "class Shark(Fish):\n",
    "    def __init__(self):\n",
    "        self.hungry = True\n",
    "        \n",
    "    def eat(self):\n",
    "        if self.hungry:\n",
    "            print('吃貨的夢想就是拼命地吃')\n",
    "            self.hungry = False\n",
    "        else:\n",
    "            print('太撐了! 吃不下了')\n",
    "       "
   ]
  },
  {
   "cell_type": "code",
   "execution_count": null,
   "id": "4d6252b8",
   "metadata": {},
   "outputs": [],
   "source": [
    "fish = Fish()\n",
    "fish.move()"
   ]
  },
  {
   "cell_type": "code",
   "execution_count": null,
   "id": "f04edf0a",
   "metadata": {},
   "outputs": [],
   "source": [
    "fish.move()"
   ]
  },
  {
   "cell_type": "code",
   "execution_count": null,
   "id": "3f91ea83",
   "metadata": {},
   "outputs": [],
   "source": [
    "glodfish = Goldfish()\n",
    "glodfish.move()"
   ]
  },
  {
   "cell_type": "code",
   "execution_count": null,
   "id": "09d98d92",
   "metadata": {},
   "outputs": [],
   "source": [
    "glodfish.move()"
   ]
  },
  {
   "cell_type": "code",
   "execution_count": null,
   "id": "823e070a",
   "metadata": {},
   "outputs": [],
   "source": [
    "shark = Shark()\n",
    "shark.eat()"
   ]
  },
  {
   "cell_type": "code",
   "execution_count": null,
   "id": "e8fffe7c",
   "metadata": {},
   "outputs": [],
   "source": [
    "shark.eat()"
   ]
  },
  {
   "cell_type": "code",
   "execution_count": null,
   "id": "aec617fc",
   "metadata": {},
   "outputs": [],
   "source": [
    "# 父類的 __inin__(self) 方法被子類的同樣方法給覆蓋了   #特別留意\n",
    "\n",
    "shark.move()"
   ]
  },
  {
   "cell_type": "code",
   "execution_count": null,
   "id": "65e06fbc",
   "metadata": {},
   "outputs": [],
   "source": [
    "# 使用 super函數  : 用於調用父類別的一種方法\n",
    "\n",
    "import random as r\n",
    "\n",
    "class Fish:\n",
    "    def __init__(self):\n",
    "        self.x = r.randint(0, 10)\n",
    "        self.y = r.randint(0, 10)\n",
    "    def move(self):\n",
    "        self.x -= -1\n",
    "        print('我的位置是: ', self.x, self.y)\n",
    "        \n",
    "class Goldfish(Fish):\n",
    "    pass\n",
    "\n",
    "class Carp(Fish):\n",
    "    pass\n",
    "\n",
    "class Salmon(Fish):\n",
    "    pass\n",
    "\n",
    "class Shark(Fish):\n",
    "    def __init__(self):\n",
    "        super().__init__()\n",
    "        self.hungry = True\n",
    "        \n",
    "    def eat(self):\n",
    "        if self.hungry:\n",
    "            print('吃貨的夢想就是拼命地吃')\n",
    "            self.hungry = False\n",
    "        else:\n",
    "            print('太撐了! 吃不下了')"
   ]
  },
  {
   "cell_type": "code",
   "execution_count": null,
   "id": "1d644ee4",
   "metadata": {},
   "outputs": [],
   "source": [
    "shark =Shark()\n",
    "shark.move()"
   ]
  },
  {
   "cell_type": "code",
   "execution_count": null,
   "id": "129944ae",
   "metadata": {},
   "outputs": [],
   "source": [
    "# 範例\n",
    "\n",
    "class Animal():      # 定義父類別  \n",
    "    def __init__(self, name):\n",
    "        self.name = name  # 定義共用屬性 \n",
    "        \n",
    "    def fly(self):        # 定義共用方法 \n",
    "        print(self.name + \"很會飛!\")\n",
    "        \n",
    "class Bird(Animal):      # 定義子類別  \n",
    "    def __init__(self, name, age):\n",
    "        super().__init__(name) # 執行父類別的 __init__()方法\n",
    "        self.age = age   # 定義子類別共用屬性 \n",
    "        \n",
    "    def fly(self):       # 定義子類別共用方法         \n",
    "        print(str(self.age) + \"歲\", end = '') \n",
    "        super().fly() # 執行父類別的 fly方法"
   ]
  },
  {
   "cell_type": "code",
   "execution_count": null,
   "id": "8b647d48",
   "metadata": {},
   "outputs": [],
   "source": [
    "pigeon = Animal(\"小白鴿\") # 以 Animal 類別，建立一個名叫小白鴿的 pigeon 物件\n",
    "pigeon.fly()  # 小白鴿很會飛!      "
   ]
  },
  {
   "cell_type": "code",
   "execution_count": null,
   "id": "ad1f50ee",
   "metadata": {},
   "outputs": [],
   "source": [
    "parrot = Bird(\"小鸚鵡\", 2) # 以 Bird 類別，建立一個名叫小鸚鵡、2歲大的 parrot 物件\n",
    "parrot.fly()  # 2歲小鸚鵡很會飛!"
   ]
  },
  {
   "cell_type": "code",
   "execution_count": null,
   "id": "5a2257e9",
   "metadata": {},
   "outputs": [],
   "source": [
    "# 範例\n",
    "\n",
    "class Rectangle():       # 定義父類別  \n",
    "    def __init__(self, width,height):\n",
    "        self.width = width    # 定義共用屬性   \n",
    "        self.height = height  # 定義共用屬性\n",
    "        \n",
    "    def area(self):           # 定義共用方法 \n",
    "        return self.width * self.height\n",
    "        \n",
    "class Triangle(Rectangle): # 定義子類別  \n",
    "    def area2(self):       # 定義子類別的共用方法 \n",
    "        return (self.width * self.height)/2\n",
    "     "
   ]
  },
  {
   "cell_type": "code",
   "execution_count": null,
   "id": "e871cc48",
   "metadata": {},
   "outputs": [],
   "source": [
    "triangle = Triangle(5,6) # 建立 triangle 物件"
   ]
  },
  {
   "cell_type": "code",
   "execution_count": null,
   "id": "8dbe94b8",
   "metadata": {},
   "outputs": [],
   "source": [
    "print(\"矩形面積=\", triangle.area())    # 30"
   ]
  },
  {
   "cell_type": "code",
   "execution_count": null,
   "id": "5a6ca428",
   "metadata": {},
   "outputs": [],
   "source": [
    "print(\"三角形面積=\", triangle.area2()) # 15"
   ]
  },
  {
   "cell_type": "markdown",
   "id": "6a0c34c9",
   "metadata": {},
   "source": [
    "## 多重繼承"
   ]
  },
  {
   "cell_type": "code",
   "execution_count": null,
   "id": "7e78bc14",
   "metadata": {},
   "outputs": [],
   "source": [
    "# 多重繼承\n",
    "\n",
    "class Base1:\n",
    "    def foo1(self):\n",
    "        print('我是foo1, 我為Base1代言')\n",
    "        \n",
    "class Base2:\n",
    "    def foo2(self):\n",
    "        print('我是foo2, 我為Base2代言')\n",
    "\n",
    "class C(Base1, Base2):\n",
    "    pass"
   ]
  },
  {
   "cell_type": "code",
   "execution_count": null,
   "id": "eac5d33b",
   "metadata": {},
   "outputs": [],
   "source": [
    "c = C()\n",
    "c.foo1()"
   ]
  },
  {
   "cell_type": "code",
   "execution_count": null,
   "id": "05928cf0",
   "metadata": {},
   "outputs": [],
   "source": [
    "c.foo2()"
   ]
  },
  {
   "cell_type": "code",
   "execution_count": null,
   "id": "b4e997fe",
   "metadata": {},
   "outputs": [],
   "source": [
    "# 注意細節\n",
    "\n",
    "class Father():         # 定義父類別         \n",
    "    def say(self):      # 定義共用方法 \n",
    "        print(\"明天會更好!\")\n",
    "        \n",
    "class Mother():         # 定義父類別  \n",
    "    def say(self):      # 定義共用方法 \n",
    "        print(\"包容、尊重!\")\n",
    "        \n",
    "class Child(Father,Mother): # 定義子類別  \n",
    "    pass\n",
    "        "
   ]
  },
  {
   "cell_type": "code",
   "execution_count": null,
   "id": "c213f46f",
   "metadata": {},
   "outputs": [],
   "source": [
    "child = Child() # 建立 child 物件\n",
    "child.say()     # 明天會更好! "
   ]
  },
  {
   "cell_type": "markdown",
   "id": "1f033d3b",
   "metadata": {},
   "source": [
    "## 組合"
   ]
  },
  {
   "cell_type": "code",
   "execution_count": null,
   "id": "3791224e",
   "metadata": {},
   "outputs": [],
   "source": [
    "# 組合\n",
    "# 繼承是縱向的，組合是橫向的\n",
    "\n",
    "class Turtle:\n",
    "    def __init__(self, x):\n",
    "        self.num = x\n",
    "\n",
    "class Fish:\n",
    "    def __init__(self, x):\n",
    "        self.num = x\n",
    "        \n",
    "class Pool:\n",
    "    def __init__(self, x, y):\n",
    "        self.turtle = Turtle(x)\n",
    "        self.fish = Fish(y)\n",
    "    def print_num(self):\n",
    "        print(f'水池總共有烏龜{self.turtle.num}隻， 小魚{self.fish.num}條')\n",
    "        \n",
    "        "
   ]
  },
  {
   "cell_type": "code",
   "execution_count": null,
   "id": "7f4d871d",
   "metadata": {},
   "outputs": [],
   "source": [
    "pool = Pool(1, 10)\n",
    "pool.print_num()"
   ]
  },
  {
   "cell_type": "markdown",
   "id": "0d53d01a",
   "metadata": {},
   "source": [
    "## 多型"
   ]
  },
  {
   "cell_type": "code",
   "execution_count": null,
   "id": "8d6a4510",
   "metadata": {},
   "outputs": [],
   "source": [
    "# 不同類別中擁有相同的方法，這種觀念稱為多型\n",
    "# 好處是同一個方法名稱卻可以產生不同的功能\n",
    "\n",
    "\n",
    "class Animal():          # 定義父類別         \n",
    "    def fly(self):       # 定義共用方法 \n",
    "        print(\"時速 20公里!\")\n",
    "        \n",
    "class Bird(Animal):      # 定義子類別  \n",
    "    def fly(self,speed): # 定義共用方法         \n",
    "        print(\"時速 \" + str(speed) + \"公里!\")\n",
    "        \n",
    "class Plane():           # 定義類別  \n",
    "    def fly(self):       # 定義共用方法         \n",
    "        print(\"時速 1000公里!\")\n",
    "        \n",
    "def fly(speed):          # 定義函式         \n",
    "    print(\"時速 \" + str(speed) + \"英哩!\")    \n",
    "        "
   ]
  },
  {
   "cell_type": "code",
   "execution_count": null,
   "id": "93a2b378",
   "metadata": {},
   "outputs": [],
   "source": [
    "animal = Animal() # 以 Animal 類別建立 animal 物件\n",
    "animal.fly()  # 時速 20公里! "
   ]
  },
  {
   "cell_type": "code",
   "execution_count": null,
   "id": "1b1245bf",
   "metadata": {},
   "outputs": [],
   "source": [
    "bird = Bird() #以 Bird 類別建立 bird 物件\n",
    "bird.fly(60)  #時速 60公里!"
   ]
  },
  {
   "cell_type": "code",
   "execution_count": null,
   "id": "f5608078",
   "metadata": {},
   "outputs": [],
   "source": [
    "plane=Plane() #以 Plane 類別建立 plane 物件\n",
    "plane.fly()   # 時速 1000公里!"
   ]
  },
  {
   "cell_type": "code",
   "execution_count": null,
   "id": "213c26b8",
   "metadata": {},
   "outputs": [],
   "source": [
    "fly(5)        # 時速 5英哩!"
   ]
  },
  {
   "cell_type": "markdown",
   "id": "0a1b3056",
   "metadata": {},
   "source": [
    "## 常見錯誤"
   ]
  },
  {
   "cell_type": "code",
   "execution_count": null,
   "id": "cb101776",
   "metadata": {},
   "outputs": [],
   "source": [
    "# 易犯錯誤\n",
    "\n",
    "class C:\n",
    "    count = 0"
   ]
  },
  {
   "cell_type": "code",
   "execution_count": null,
   "id": "7a305d15",
   "metadata": {},
   "outputs": [],
   "source": [
    "a = C()\n",
    "b = C()\n",
    "c = C()"
   ]
  },
  {
   "cell_type": "code",
   "execution_count": null,
   "id": "a9794b27",
   "metadata": {},
   "outputs": [],
   "source": [
    "a.count"
   ]
  },
  {
   "cell_type": "code",
   "execution_count": null,
   "id": "5831af8e",
   "metadata": {},
   "outputs": [],
   "source": [
    "b.count"
   ]
  },
  {
   "cell_type": "code",
   "execution_count": null,
   "id": "23f5ccfe",
   "metadata": {},
   "outputs": [],
   "source": [
    "c.count"
   ]
  },
  {
   "cell_type": "code",
   "execution_count": null,
   "id": "18210472",
   "metadata": {},
   "outputs": [],
   "source": [
    "c.count += 10\n",
    "c.count"
   ]
  },
  {
   "cell_type": "code",
   "execution_count": null,
   "id": "3cd5048b",
   "metadata": {},
   "outputs": [],
   "source": [
    "a.count"
   ]
  },
  {
   "cell_type": "code",
   "execution_count": null,
   "id": "8e9a4e84",
   "metadata": {},
   "outputs": [],
   "source": [
    "b.count"
   ]
  },
  {
   "cell_type": "code",
   "execution_count": null,
   "id": "73675741",
   "metadata": {},
   "outputs": [],
   "source": [
    "C.count"
   ]
  },
  {
   "cell_type": "code",
   "execution_count": null,
   "id": "84d14b81",
   "metadata": {},
   "outputs": [],
   "source": [
    "C.count += 100"
   ]
  },
  {
   "cell_type": "code",
   "execution_count": null,
   "id": "aba01f43",
   "metadata": {},
   "outputs": [],
   "source": [
    "a.count"
   ]
  },
  {
   "cell_type": "code",
   "execution_count": null,
   "id": "bbc38ba9",
   "metadata": {},
   "outputs": [],
   "source": [
    "b.count"
   ]
  },
  {
   "cell_type": "code",
   "execution_count": null,
   "id": "351b19ca",
   "metadata": {},
   "outputs": [],
   "source": [
    "c.count"
   ]
  },
  {
   "cell_type": "code",
   "execution_count": null,
   "id": "69dd869a",
   "metadata": {},
   "outputs": [],
   "source": [
    "# 易犯錯誤，屬性與方法的名字相同，會被覆蓋\n",
    "# 屬性盡量用名詞， 方法盡量用動詞\n",
    "\n",
    "class C:\n",
    "    def x(self):\n",
    "        print('Crystal is cute')"
   ]
  },
  {
   "cell_type": "code",
   "execution_count": null,
   "id": "5d7ccd71",
   "metadata": {},
   "outputs": [],
   "source": [
    "c = C()"
   ]
  },
  {
   "cell_type": "code",
   "execution_count": null,
   "id": "b616ea35",
   "metadata": {},
   "outputs": [],
   "source": [
    "c.x()"
   ]
  },
  {
   "cell_type": "code",
   "execution_count": null,
   "id": "8a619cb6",
   "metadata": {},
   "outputs": [],
   "source": [
    "c.x = 1"
   ]
  },
  {
   "cell_type": "code",
   "execution_count": null,
   "id": "b919940b",
   "metadata": {},
   "outputs": [],
   "source": [
    "c.x"
   ]
  },
  {
   "cell_type": "code",
   "execution_count": null,
   "id": "53ad94af",
   "metadata": {},
   "outputs": [],
   "source": [
    "c.x()"
   ]
  },
  {
   "cell_type": "code",
   "execution_count": null,
   "id": "32406d71",
   "metadata": {},
   "outputs": [],
   "source": [
    "# 易犯錯誤\n",
    "# python 嚴格要求方法需要實例才能被調用， 稱為綁定概念\n",
    "\n",
    "class BB:\n",
    "    def printBB(self):\n",
    "        print('BB')"
   ]
  },
  {
   "cell_type": "code",
   "execution_count": null,
   "id": "d1c0b6a2",
   "metadata": {},
   "outputs": [],
   "source": [
    "BB.printBB()"
   ]
  },
  {
   "cell_type": "code",
   "execution_count": null,
   "id": "e33568c6",
   "metadata": {},
   "outputs": [],
   "source": [
    "# 錯誤寫法\n",
    "\n",
    "class BB:\n",
    "    def printBB():\n",
    "        print('BB')"
   ]
  },
  {
   "cell_type": "code",
   "execution_count": null,
   "id": "7c1383a1",
   "metadata": {},
   "outputs": [],
   "source": [
    "BB.printBB()"
   ]
  },
  {
   "cell_type": "code",
   "execution_count": null,
   "id": "dcf6bf58",
   "metadata": {},
   "outputs": [],
   "source": [
    "bb = BB()"
   ]
  },
  {
   "cell_type": "code",
   "execution_count": null,
   "id": "06d941a7",
   "metadata": {},
   "outputs": [],
   "source": [
    "bb.printBB()   # bb 會傳進一個變量，需有 self 接收"
   ]
  },
  {
   "cell_type": "code",
   "execution_count": null,
   "id": "184e16c2",
   "metadata": {},
   "outputs": [],
   "source": [
    "# 類別屬性與實體物件屬性\n",
    "\n",
    "class CC:\n",
    "    def setXY(self, x, y):\n",
    "        self.x = x\n",
    "        self.y = y\n",
    "    def printXY(self):\n",
    "        print(self.x, self.y)"
   ]
  },
  {
   "cell_type": "code",
   "execution_count": null,
   "id": "4c098a61",
   "metadata": {},
   "outputs": [],
   "source": [
    "dd = CC()"
   ]
  },
  {
   "cell_type": "code",
   "execution_count": null,
   "id": "2085cd64",
   "metadata": {},
   "outputs": [],
   "source": [
    "# 存放類別或實體物件的屬性與方法\n",
    "dd.__dict__"
   ]
  },
  {
   "cell_type": "code",
   "execution_count": null,
   "id": "2d4ae1eb",
   "metadata": {},
   "outputs": [],
   "source": [
    "CC.__dict__"
   ]
  },
  {
   "cell_type": "code",
   "execution_count": null,
   "id": "734d7593",
   "metadata": {},
   "outputs": [],
   "source": [
    "dd.setXY(4, 5)"
   ]
  },
  {
   "cell_type": "code",
   "execution_count": null,
   "id": "c062c20c",
   "metadata": {},
   "outputs": [],
   "source": [
    "dd.__dict__"
   ]
  },
  {
   "cell_type": "code",
   "execution_count": null,
   "id": "76e64b64",
   "metadata": {},
   "outputs": [],
   "source": [
    "CC.__dict__"
   ]
  },
  {
   "cell_type": "code",
   "execution_count": null,
   "id": "f3efa233",
   "metadata": {},
   "outputs": [],
   "source": [
    "del CC"
   ]
  },
  {
   "cell_type": "code",
   "execution_count": null,
   "id": "34ebc100",
   "metadata": {},
   "outputs": [],
   "source": [
    "ee = CC()"
   ]
  },
  {
   "cell_type": "code",
   "execution_count": null,
   "id": "7c4814a0",
   "metadata": {},
   "outputs": [],
   "source": [
    "dd.printXY() "
   ]
  },
  {
   "cell_type": "code",
   "execution_count": null,
   "id": "5c981e4d",
   "metadata": {},
   "outputs": [],
   "source": []
  }
 ],
 "metadata": {
  "kernelspec": {
   "display_name": "Python 3",
   "language": "python",
   "name": "python3"
  },
  "language_info": {
   "codemirror_mode": {
    "name": "ipython",
    "version": 3
   },
   "file_extension": ".py",
   "mimetype": "text/x-python",
   "name": "python",
   "nbconvert_exporter": "python",
   "pygments_lexer": "ipython3",
   "version": "3.9.5"
  }
 },
 "nbformat": 4,
 "nbformat_minor": 5
}
