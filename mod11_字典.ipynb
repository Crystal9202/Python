{
 "cells": [
  {
   "cell_type": "markdown",
   "metadata": {},
   "source": [
    "#  <font color=red> Module_11_Dictionary </font>"
   ]
  },
  {
   "cell_type": "code",
   "execution_count": null,
   "metadata": {},
   "outputs": [],
   "source": [
    "dict1={\"name\":\"Crystal\",\"age\":29}\n",
    "dict2={}\n",
    "a={\"country\":\"Taiwan\" ,\"gender\": \"female\"}\n",
    "dict2 = dict1\n",
    "\n",
    "\n",
    "#檢查 ID\n",
    "print(id(dict1))\n",
    "print(id(dict2))\n",
    "#-------------------------\n",
    "#修改\n",
    "dict1[\"age\"] = 30\n",
    "print(dict1)\n",
    "print(dict2)\n",
    "#-----------------------------------\n",
    "#新增\n",
    "dict1.update(a)\n",
    "print(dict1)\n",
    "print(dict2)\n",
    "#--------------------------------------\n",
    "# #清空\n",
    "# # dict1.clear()\n",
    "# # print(dict1)\n",
    "# # print(dict2)\n",
    "\n",
    "# #---------------------------------------------\n",
    "\n",
    "# #刪除單一項內容 跟 刪除 整個字典  有差異\n",
    "# del dict1[\"age\"]\n",
    "# print(dict1)\n",
    "# print(dict2)\n",
    "# #刪除dict1 ，dict2依然還在\n",
    "# del dict1\n",
    "# print(dict2)\n",
    "\n",
    "\n",
    "#-------------------------------------------------\n",
    "#把 dict1 改成空字典， dict2不會改\n",
    "dict1={}\n",
    "print(dict1)\n",
    "print(dict2)\n"
   ]
  },
  {
   "cell_type": "code",
   "execution_count": null,
   "metadata": {},
   "outputs": [],
   "source": [
    "dict1={\"name\":\"Crystal\",\"age\":29}\n",
    "dict2={}\n",
    "a={\"country\":\"Taiwan\" ,\"gender\": \"female\"}\n",
    "\n",
    "\n",
    "dict2=dict1.copy()\n",
    "\n",
    "#檢查 ID\n",
    "print(id(dict1))\n",
    "print(id(dict2))\n",
    "#-------------------------\n",
    "#修改\n",
    "dict1[\"age\"] = 30\n",
    "print(dict1)\n",
    "print(dict2)\n",
    "#-----------------------------------\n",
    "#新增\n",
    "dict1.update(a)\n",
    "print(dict1)\n",
    "print(dict2)\n",
    "#--------------------------------------\n",
    "#清空\n",
    "# dict1.clear()\n",
    "# print(dict1)\n",
    "# print(dict2)\n",
    "\n",
    "# #---------------------------------------------\n",
    "\n",
    "# #刪除單一項內容 跟 刪除 整個字典  有差異\n",
    "# del dict1[\"age\"]\n",
    "# print(dict1)\n",
    "# print(dict2)\n",
    "# #刪除dict1，dict2依然存在\n",
    "# del dict1\n",
    "# print(dict2)\n",
    "\n",
    "#----------------------------------\n",
    "#把 dict1 改成空字典， dict2不會改\n",
    "dict1={}\n",
    "print(dict1)\n",
    "print(dict2)\n"
   ]
  },
  {
   "cell_type": "code",
   "execution_count": null,
   "metadata": {},
   "outputs": [],
   "source": [
    "dict1={\"name\":\"Crystal\",\"age\":29}\n",
    "dict2={}\n",
    "a={\"country\":\"Taiwan\" ,\"gender\": \"female\"}\n",
    "\n",
    "dict2=dict1\n",
    "print(dict2 is dict1)\n",
    "print(dict2 == dict1)\n",
    "#-----------------------------\n",
    "\n",
    "dict2=dict1.copy()\n",
    "print(dict2 is dict1)\n",
    "print(dict2 == dict1)"
   ]
  },
  {
   "cell_type": "markdown",
   "metadata": {},
   "source": [
    "## Dictionary &rArr; 無序(Non-sequence)、可變(mutable)\n",
    "> <details>\n",
    "    <summary>mod3</summary>\n",
    "    <img src='./img/py_data_type.png'>\n",
    "  </details>\n",
    "## 利用Key取得想要的資料\n",
    "><img src='./img/key_value_pair.png' style=\"height:300px\">"
   ]
  },
  {
   "cell_type": "code",
   "execution_count": null,
   "metadata": {},
   "outputs": [],
   "source": [
    "girl = {\n",
    "    \"name\" : \"Crystal\",\n",
    "    \"age\" : 29,\n",
    "    \"Height\" : 162,\n",
    "    \"Weight\" : 29   \n",
    "}\n",
    "\n",
    "girl"
   ]
  },
  {
   "cell_type": "code",
   "execution_count": null,
   "metadata": {},
   "outputs": [],
   "source": [
    "d1 = {'Apple' : '蘋果', 'Banana' : '香蕉'}\n",
    "d1"
   ]
  },
  {
   "cell_type": "markdown",
   "metadata": {},
   "source": [
    "## 字典內的 values 可以是任意的資料型態，但 keys 必須是不可變的(immutable) 資料型態\n"
   ]
  },
  {
   "cell_type": "code",
   "execution_count": null,
   "metadata": {},
   "outputs": [],
   "source": [
    "dict1 = {'A' : \"a\", 'B' : [1,2,3], 'C' : (1,2,3), 'D' : {'AA':'aa', 'BB':'bb'}}\n",
    "dict2 = {1 : \"a\", 2 : 'b'}\n",
    "dict3 = {(0,1) : 'a', (0,2) : 'b'}\n",
    "print('dict1 :', dict1)\n",
    "print('dict2 :', dict2)\n",
    "print('dict3 :', dict3)"
   ]
  },
  {
   "cell_type": "markdown",
   "metadata": {},
   "source": [
    "## 字典是無序的"
   ]
  },
  {
   "cell_type": "code",
   "execution_count": null,
   "metadata": {},
   "outputs": [],
   "source": [
    "d1 = {'name' : 'John', 'age' : 30}\n",
    "d2 = {'age' : 30, 'name' : 'John'}\n",
    "\n",
    "print(d1 == d2) # 字典是無序的"
   ]
  },
  {
   "cell_type": "code",
   "execution_count": null,
   "metadata": {},
   "outputs": [],
   "source": [
    "d3={'A' : 1, 'B' : 2, 'C' : 3, 'D' : 4, 'E' : 5}\n",
    "d3[:3]  #slice"
   ]
  },
  {
   "cell_type": "markdown",
   "metadata": {},
   "source": [
    "---"
   ]
  },
  {
   "cell_type": "code",
   "execution_count": null,
   "metadata": {},
   "outputs": [],
   "source": [
    "d1={'Apple' : '蘋果', 'Banana' : '香蕉'}\n",
    "print(d1['Apple'])\n",
    "print(d1['Banana'])\n",
    "print(d1['Cat']) # 沒有'Cat'這個 Key => 引發 KeyError"
   ]
  },
  {
   "cell_type": "markdown",
   "metadata": {},
   "source": [
    "## keys 必須唯㇐，但 values 可以相同"
   ]
  },
  {
   "cell_type": "code",
   "execution_count": null,
   "metadata": {},
   "outputs": [],
   "source": [
    "d1={'A' : 'a', 'B' : 'b', 'A' : 1}\n",
    "print(d1) # 重複不會寫進去\n",
    "print(\"d1['A'] : \", d1['A']) # Key 重複的話，無法取出'a'，只能取出1"
   ]
  },
  {
   "cell_type": "code",
   "execution_count": null,
   "metadata": {},
   "outputs": [],
   "source": [
    "d2={'A' : 1, 'B' : 1}\n",
    "print(\"d2['A'] : \", d2['A']) # Key 'A' 與 Key 'B'的values都是1\n",
    "print(\"d2['B'] : \", d2['B'])"
   ]
  },
  {
   "cell_type": "markdown",
   "metadata": {},
   "source": [
    "## Key 盡可能不要用數值格式。請用字串(String)作為Keys，這樣後續比較容易整合其他Lib。"
   ]
  },
  {
   "cell_type": "code",
   "execution_count": null,
   "metadata": {},
   "outputs": [],
   "source": [
    "dt = {1 : 'Python', 2 : 'Java', 3 : 'C'}\n",
    "dt[1] # dt[1] 的寫法會誤以為字典可以使用索引功能。"
   ]
  },
  {
   "cell_type": "markdown",
   "metadata": {},
   "source": [
    "---"
   ]
  },
  {
   "cell_type": "code",
   "execution_count": null,
   "metadata": {},
   "outputs": [],
   "source": [
    "dict1 = {'one' : 1, 'two' : 2, \"three\" : 3}\n",
    "dict1['two'] "
   ]
  },
  {
   "cell_type": "code",
   "execution_count": null,
   "metadata": {},
   "outputs": [],
   "source": [
    "dict1 = {'one' : 1, 'two' : 2, \"three\" : 3}\n",
    "dict1['two'] = 7 # 修改\n",
    "print(\"dict1['two'] = 7 : \", dict1)    \n",
    "dict1['four'] = 7 # 新增 \n",
    "print(\"dict1['four'] = 7 :\", dict1) "
   ]
  },
  {
   "cell_type": "code",
   "execution_count": null,
   "metadata": {},
   "outputs": [],
   "source": [
    "dict1 = {'one' : 1, 'two' : 2, \"three\" : 3}\n",
    "print(\"'two' in dict1 : \", 'two' in dict1)\n",
    "print(\"3 in dict1 :     \", 3 in dict1 ) # 成員運算子只會看 Key 值"
   ]
  },
  {
   "cell_type": "markdown",
   "metadata": {},
   "source": [
    "---"
   ]
  },
  {
   "cell_type": "markdown",
   "metadata": {},
   "source": [
    "# dic 的方法.( )"
   ]
  },
  {
   "cell_type": "code",
   "execution_count": null,
   "metadata": {},
   "outputs": [],
   "source": [
    "dict1 = {'Name' : 'III', 'Year' : 1979, 'Class' : 'A'}\n",
    "dict1.clear()\n",
    "dict1"
   ]
  },
  {
   "cell_type": "code",
   "execution_count": null,
   "metadata": {},
   "outputs": [],
   "source": [
    "dict1 = {'Name' : 'III', 'Year' : 1979, 'Class' : 'A'}\n",
    "\n",
    "del dict1['Class']\n",
    "print(\"del dict1['Class'] : \", dict1)\n",
    "\n",
    "dict1.clear()   # empty dict1 # 非刪掉\n",
    "print('dict1.clear() :      ', dict1)\n",
    "\n",
    "del dict1      # del dict1.  dict1 is gone\n",
    "print('del dict1 :        ', dict1)   # error since there is no dict1"
   ]
  },
  {
   "cell_type": "code",
   "execution_count": null,
   "metadata": {},
   "outputs": [],
   "source": [
    "a = 10\n",
    "print(a)\n",
    "del a # del可以將建立過的變數(識別字)直接刪除\n",
    "print(a)"
   ]
  },
  {
   "cell_type": "markdown",
   "metadata": {},
   "source": [
    "---"
   ]
  },
  {
   "cell_type": "code",
   "execution_count": null,
   "metadata": {},
   "outputs": [],
   "source": [
    "# 看 ASCII 碼\n",
    "max(\"A\", \"a\", \"G\")    #65  #97  #71"
   ]
  },
  {
   "cell_type": "code",
   "execution_count": 13,
   "metadata": {},
   "outputs": [
    {
     "name": "stdout",
     "output_type": "stream",
     "text": [
      "len(a) :      3\n",
      "max(a) :      nums\n",
      "min(a) :      num\n",
      "sorted(a) :   ['num', 'num1', 'nums']\n"
     ]
    }
   ],
   "source": [
    "a= {  'num' : 77, \n",
    "      'num1': 85, \n",
    "      'nums': [1,2,3]} \n",
    "\n",
    "print('len(a) :     ', len(a)) # 計算 Key 的數量  \n",
    "print('max(a) :     ', max(a)) # 找出最大的 Key   #比較key的字母 s>1 \n",
    "print('min(a) :     ', min(a)) # 找出最小的 Key\n",
    "print('sorted(a) :  ', sorted(a)) # 根據 Key 排序 # 由第一個字母開始比    #只要是sorted()方法 ,出來的答案都是List"
   ]
  },
  {
   "cell_type": "code",
   "execution_count": null,
   "metadata": {},
   "outputs": [],
   "source": [
    "# **kwarg 不固定長的關鍵字引數\n",
    "# 不熟  #就是最下面 建立字典的法三\n",
    "# 注意寫法 dict(A =1)  出來的答案會變成字典型態\n",
    "dict1 =dict(one = 1, two = 2, three = 3) # 以 **kwarg 的形式建立，先有個認識就好，後面會介紹\n",
    "print(dict1)"
   ]
  },
  {
   "cell_type": "code",
   "execution_count": null,
   "metadata": {},
   "outputs": [],
   "source": [
    "#把list轉成dict\n",
    "\n",
    "dict2 = dict([('one', 1), ('two', 2), ('three', [3, 'III', '三'])]) # 以 iterable 物件的內容建立\n",
    "print(dict2)"
   ]
  },
  {
   "cell_type": "markdown",
   "metadata": {},
   "source": [
    "---"
   ]
  },
  {
   "cell_type": "code",
   "execution_count": null,
   "metadata": {},
   "outputs": [],
   "source": [
    "list1 = [1 , 5, 7]\n",
    "list2 = list1\n",
    "print(list2, id(list2))\n",
    "print(list1, id(list1))\n",
    "list1[0] = 9\n",
    "print(list1)\n",
    "print(list2)"
   ]
  },
  {
   "cell_type": "code",
   "execution_count": null,
   "metadata": {},
   "outputs": [],
   "source": [
    "list1 = [1 , 5, 7]\n",
    "list2 = list1.copy()   #copy後 會放在不同記憶體，所以ID就不一樣了\n",
    "print(list2, id(list2))\n",
    "print(list1, id(list1))\n",
    "list1[0] = 9\n",
    "print(list1)\n",
    "print(list2)"
   ]
  },
  {
   "cell_type": "code",
   "execution_count": null,
   "metadata": {},
   "outputs": [],
   "source": [
    "d1 ={'a' : 'apple', 'b' : 'banana'}\n",
    "print('d1 =           ', d1)\n",
    "\n",
    "d2 = d1.copy() # copy has diff memory address\n",
    "print('d2 =           ', d2)\n",
    "print('d1 is d2 :     ', d1 is d2)   #成員運算子\n",
    "print('d1 == d2 :     ', d1 == d2)   #比較運算子 \n",
    "\n",
    "d3 = d1 # point to same address\n",
    "print('d3 :           ', d3)\n",
    "print('d3 is d1 :     ', d3 is d1) # d1 變動 d3 會跟著變動\n",
    "d1['c'] = 'cat'\n",
    "print(d3)"
   ]
  },
  {
   "cell_type": "code",
   "execution_count": null,
   "metadata": {},
   "outputs": [],
   "source": [
    "#dict2 和 dict1 ID 相同，如果用方法修改內部資料，會同步更新\n",
    "\n",
    "dict2 = {'name' : 'Wang','old' : 18}\n",
    "dict1 = dict2\n",
    "print(dict1 is dict2)\n",
    "dict2.clear() # 考慮 dict2.clear() 與 del dict2 的效果\n",
    "print(dict1 is dict2)\n",
    "dict1"
   ]
  },
  {
   "cell_type": "code",
   "execution_count": null,
   "metadata": {},
   "outputs": [],
   "source": [
    "#雖然 dict2 和 dict1 的ID 相同， 但如果把dict2 刪除或變空字串，dict1 還是會存在\n",
    "\n",
    "dict2 = {\"name\":\"Wang\" ,\"age\" :29}\n",
    "dict1 = dict2\n",
    "print(dict1 is dict2)\n",
    "del dict2\n",
    "dict1\n",
    "#del dict2[\"name\"]   #\"age\":29\n",
    "#print(dict2)\n",
    "#print(dict1 is dict2)\n"
   ]
  },
  {
   "cell_type": "code",
   "execution_count": null,
   "metadata": {},
   "outputs": [],
   "source": [
    "dict2 = {'name': 'Wang','old': 18}\n",
    "dict1 = dict2\n",
    "print(dict1 is dict2)\n",
    "dict2 = {} \n",
    "print(dict1 is dict2)\n",
    "dict1"
   ]
  },
  {
   "cell_type": "code",
   "execution_count": null,
   "metadata": {},
   "outputs": [],
   "source": [
    "a= {'num' : 77, 'num1' : 85, 'nums' : [1, 2, 3]} # dict\n",
    "print(a.get('num')) # 取得 “key” 對應的值\n",
    "print(a['num'])"
   ]
  },
  {
   "cell_type": "code",
   "execution_count": null,
   "metadata": {},
   "outputs": [],
   "source": [
    "print(a.get('aaaaaaaaa', 'No item')) # 如果 “key” 不存在則傳回 default 值\n",
    "print(a.get('aaaaaaaaa')) # 如果 “key” 不存在，也沒有設定default 值 => 回傳 None"
   ]
  },
  {
   "cell_type": "code",
   "execution_count": null,
   "metadata": {
    "scrolled": true
   },
   "outputs": [],
   "source": [
    "a = {'num' : 77, 'num1' : 85, 'nums' : [1,2,3]}  \n",
    "\n",
    "print(a.setdefault('num', 12345)) # 如果 “key” 存在則取用該 Key值對應的 Value"
   ]
  },
  {
   "cell_type": "code",
   "execution_count": null,
   "metadata": {},
   "outputs": [],
   "source": [
    "print(a.setdefault('aaaaaa', 12345)) # 如果 “key” 不存在則會產生㇐個新的 dict[key] = default 的項目\n",
    "print(a)"
   ]
  },
  {
   "cell_type": "code",
   "execution_count": null,
   "metadata": {},
   "outputs": [],
   "source": [
    "#.fromkeys(key,value) 返回一個新字典\n",
    "\n",
    "dict1 ={}\n",
    "dict2 = dict1.fromkeys([1,2,3], 'Ya')\n",
    "dict2"
   ]
  },
  {
   "cell_type": "markdown",
   "metadata": {},
   "source": [
    "---"
   ]
  },
  {
   "cell_type": "code",
   "execution_count": null,
   "metadata": {},
   "outputs": [],
   "source": [
    "dict1 = {'star trek' : 'John Doe', 'Starwars' : 'Jedi'}\n",
    "\n",
    "print(dict1.items()) # ㇐個 (key, value) tuple 配對的dict_items\n",
    "print(list(dict1.items()),'\\n') # 將 dict_items 轉成 List\n",
    "\n",
    "print(dict1.keys()) # 得到 dict_keys\n",
    "print(list(dict1.keys()),'\\n') # 將 dict_keys 轉成 List\n",
    "\n",
    "print(dict1.values()) # 得到 dict_values\n",
    "print(list(dict1.values()),'\\n') # 將 dict_values 轉成 List\n",
    "# 這三種型式都可用來迭代"
   ]
  },
  {
   "cell_type": "code",
   "execution_count": null,
   "metadata": {},
   "outputs": [],
   "source": [
    "#item以 tuple返回\n",
    "dict1 ={}\n",
    "dict2 = dict1.fromkeys(range(1,11),'YA')\n",
    "for each in dict2.items(): # dict.keys and dict.values and dict.items 表現在遞迴\n",
    "    print(each)"
   ]
  },
  {
   "cell_type": "code",
   "execution_count": null,
   "metadata": {},
   "outputs": [],
   "source": [
    "dict1 = {'star trek' : 'John Doe', 'Starwars' : 'Jedi'}\n",
    "a = {'age' : [1966, 1977]}\n",
    "\n",
    "dict1.update(a) # 將 other 字典加到 dict 內\n",
    "print('update(a) :  ', dict1)"
   ]
  },
  {
   "cell_type": "markdown",
   "metadata": {},
   "source": [
    "---"
   ]
  },
  {
   "cell_type": "code",
   "execution_count": null,
   "metadata": {},
   "outputs": [],
   "source": [
    "dict1 = {'A' : 1,'B' : 2, 'C' : 3, 'E' : 5} # dictory的 pop 要指定 key\n",
    "\n",
    "print(dict1.pop('B'))\n",
    "print('pop(\"B\") :', dict1)"
   ]
  },
  {
   "cell_type": "code",
   "execution_count": null,
   "metadata": {},
   "outputs": [],
   "source": [
    "dict1['D'] = 4 # dict 無順序\n",
    "print(dict1)\n",
    "print(dict1.popitem())  # 後進先出\n",
    "print('popitem() :  ', dict1)"
   ]
  },
  {
   "cell_type": "code",
   "execution_count": null,
   "metadata": {},
   "outputs": [],
   "source": [
    "# 查看字典的屬性與方法\n",
    "dir(dict)"
   ]
  },
  {
   "cell_type": "markdown",
   "metadata": {},
   "source": [
    "---"
   ]
  },
  {
   "cell_type": "code",
   "execution_count": null,
   "metadata": {},
   "outputs": [],
   "source": [
    "char_counts = {}\n",
    "word = 'this is a letters about Python learning'\n",
    "for char in word:  # word 改成 set(word) 會減少浪費\n",
    "    char_counts[char] = word.count(char)  \n",
    "\n",
    "char_counts"
   ]
  },
  {
   "cell_type": "code",
   "execution_count": null,
   "metadata": {},
   "outputs": [],
   "source": [
    "word = 'htis is a letters about Python learning'\n",
    "char_counts = {char : word.count(char) for char in word}\n",
    "char_counts"
   ]
  },
  {
   "cell_type": "code",
   "execution_count": null,
   "metadata": {},
   "outputs": [],
   "source": [
    "{i:1 for i in 'abc' }\n"
   ]
  },
  {
   "cell_type": "markdown",
   "metadata": {},
   "source": [
    "\n",
    "## 使用dict()，以Mapping 的形式建立 dictionary"
   ]
  },
  {
   "cell_type": "code",
   "execution_count": 1,
   "metadata": {},
   "outputs": [
    {
     "data": {
      "text/plain": [
       "<zip at 0x2992aab6700>"
      ]
     },
     "execution_count": 1,
     "metadata": {},
     "output_type": "execute_result"
    }
   ],
   "source": [
    "# keys : ['one', 'two', 'three']\n",
    "# values : [1, 2, 3]\n",
    "# 想建立字典 : {'one': 1, 'two': 2, 'three': 3}\n",
    "\n",
    "\n",
    "zip(['one', 'two', 'three'], [1, 2, 3])"
   ]
  },
  {
   "cell_type": "code",
   "execution_count": 4,
   "metadata": {},
   "outputs": [
    {
     "data": {
      "text/plain": [
       "[('one', 1), ('two', 2), ('three', 3)]"
      ]
     },
     "execution_count": 4,
     "metadata": {},
     "output_type": "execute_result"
    }
   ],
   "source": [
    "list(zip(['one', 'two', 'three'], [1, 2, 3]))"
   ]
  },
  {
   "cell_type": "code",
   "execution_count": 5,
   "metadata": {},
   "outputs": [
    {
     "data": {
      "text/plain": [
       "{'one': 1, 'two': 2, 'three': 3}"
      ]
     },
     "execution_count": 5,
     "metadata": {},
     "output_type": "execute_result"
    }
   ],
   "source": [
    "dic1 = dict(zip(['one', 'two', 'three'], [1, 2, 3]))\n",
    "dic1"
   ]
  },
  {
   "cell_type": "code",
   "execution_count": 6,
   "metadata": {},
   "outputs": [
    {
     "data": {
      "text/plain": [
       "{'one': 1, 'two': 2, 'three': 3}"
      ]
     },
     "execution_count": 6,
     "metadata": {},
     "output_type": "execute_result"
    }
   ],
   "source": [
    "dict1 = dict(list(zip(['one', 'two', 'three'], [1, 2, 3])))\n",
    "dict1"
   ]
  },
  {
   "cell_type": "markdown",
   "metadata": {},
   "source": [
    "---------------------------------------------------------------------------"
   ]
  },
  {
   "cell_type": "markdown",
   "metadata": {},
   "source": [
    "# 自行補充"
   ]
  },
  {
   "cell_type": "markdown",
   "metadata": {},
   "source": [
    "###  建立字典三方法"
   ]
  },
  {
   "cell_type": "code",
   "execution_count": 7,
   "metadata": {},
   "outputs": [
    {
     "name": "stdout",
     "output_type": "stream",
     "text": [
      "{'香蕉': 20, '蘋果': 50, '橘子': 30}\n",
      "{'香蕉': 20, '蘋果': 50, '橘子': 30}\n",
      "{'香蕉': 20, '蘋果': 50, '橘子': 30}\n"
     ]
    }
   ],
   "source": [
    "#list1 =[20,50,30]  #香蕉、蘋果、橘子 \n",
    "\n",
    "#(法一)\n",
    "dict1={\"香蕉\":20 ,\"蘋果\":50 , \"橘子\":30}\n",
    "print(dict1)\n",
    "\n",
    "#(法二) 使用dict函式[key,value]#函式裡面是逗號特別留意，再將key-value放在[]中\n",
    "dict2=dict([[\"香蕉\",20],[\"蘋果\",50],[\"橘子\",30]])\n",
    "print(dict2)\n",
    "\n",
    "#(法三) 使用dict函式，將key,value用 = 連接起來即可\n",
    "dict3=dict(香蕉=20,蘋果=50,橘子=30)   #前面的key 不需要引號 \" \" ,答案會自動印出，  但value 如果是字串 就要 \" \"\n",
    "print(dict3)\n"
   ]
  },
  {
   "cell_type": "code",
   "execution_count": null,
   "metadata": {},
   "outputs": [],
   "source": [
    "#範例 : 血型個性查詢\n",
    "\n",
    "dict1 ={\"A\":\"內向穩重\" ,\"B\": \"外向樂觀\" , \"O\": \"堅強自信\" , \"AB\": \"聰明自然\"}\n",
    "name=input(\"輸入想查詢的血型\")\n",
    "blood=dict1.get(name)\n",
    "if blood == None:\n",
    "    print(\"沒有\"+name+\"的血型\")\n",
    "else:\n",
    "    print(name+\"血型的個性是:\" + str(dict1[name]))"
   ]
  },
  {
   "cell_type": "code",
   "execution_count": null,
   "metadata": {},
   "outputs": [],
   "source": [
    "#範例 : 查詢學生成績，輸入學生姓名，如果存在就顯示學生成績，如果不存在就輸入成績，並把學生資料加入字典\n",
    "\n",
    "dict1={\"林小明\": 85 ,\"曾大山\": 93 , \"張美麗\": 67}\n",
    "name=input(\"請輸入學生姓名:\")\n",
    "\n",
    "if name in dict1:\n",
    "    print(name+\"的成績是\"+str(dict1[name]))\n",
    "else:\n",
    "    score=input(\"請輸入學生成績\")\n",
    "    dict1[name] = score\n",
    "    print(\"字典內容:\" + str(dict1))"
   ]
  },
  {
   "cell_type": "code",
   "execution_count": null,
   "metadata": {},
   "outputs": [],
   "source": [
    "#範例 : 用keys,values 顯示各種獎牌數\n",
    "\n",
    "dict1 ={\"金牌\":26 , \"銀牌\":34 , \"銅牌\":30}\n",
    "listkey=list(dict1.keys())\n",
    "listvalues=list(dict1.values())\n",
    "\n",
    "for i in range(len(listkey)):\n",
    "    print(\"得到的\"+str(listkey[i])+\"數目為\"+str(listvalues[i]))"
   ]
  },
  {
   "cell_type": "code",
   "execution_count": null,
   "metadata": {},
   "outputs": [],
   "source": [
    "#範例 : 用items 顯示各種獎牌數\n",
    "\n",
    "dict1 ={\"金牌\":26 , \"銀牌\":34 , \"銅牌\":30}\n",
    "item1=list(dict1.items())\n",
    "for name,num in item1:\n",
    "    print(\"得到的\" + str(name) + \"數目為\"+str(num))"
   ]
  },
  {
   "cell_type": "code",
   "execution_count": null,
   "metadata": {},
   "outputs": [],
   "source": [
    "#範例 : 把dict.items 資料型態轉成 List 可以更方便的取元素值\n",
    "\n",
    "dict1={\"name\":\"Crystal\" , \"age\":29 ,\"gender\":\"female\"}\n",
    "person=list(dict1.items())\n",
    "print(person[1])\n",
    "print(person[1][0])\n",
    "print(person[1][1])"
   ]
  },
  {
   "cell_type": "code",
   "execution_count": null,
   "metadata": {},
   "outputs": [],
   "source": [
    "dict1={\"name\":\"Crystal\" , \"age\":29 ,\"gender\":\"female\"}\n",
    "person=dict1.items()\n",
    "for i in person:\n",
    "    print(i[1])"
   ]
  },
  {
   "cell_type": "code",
   "execution_count": null,
   "metadata": {},
   "outputs": [],
   "source": []
  },
  {
   "cell_type": "code",
   "execution_count": null,
   "metadata": {},
   "outputs": [],
   "source": []
  }
 ],
 "metadata": {
  "kernelspec": {
   "display_name": "Python 3",
   "language": "python",
   "name": "python3"
  },
  "language_info": {
   "codemirror_mode": {
    "name": "ipython",
    "version": 3
   },
   "file_extension": ".py",
   "mimetype": "text/x-python",
   "name": "python",
   "nbconvert_exporter": "python",
   "pygments_lexer": "ipython3",
   "version": "3.9.5"
  }
 },
 "nbformat": 4,
 "nbformat_minor": 2
}
