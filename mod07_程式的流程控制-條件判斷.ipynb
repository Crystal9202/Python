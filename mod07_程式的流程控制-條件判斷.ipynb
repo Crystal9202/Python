{
 "cells": [
  {
   "cell_type": "markdown",
   "metadata": {},
   "source": [
    "#  <font color=red> Module_07_程式的流程控制-條件判斷</font>"
   ]
  },
  {
   "cell_type": "code",
   "execution_count": null,
   "metadata": {},
   "outputs": [],
   "source": [
    "x = 3\n",
    "y = 7\n",
    "print('Result:', x)"
   ]
  },
  {
   "cell_type": "code",
   "execution_count": null,
   "metadata": {},
   "outputs": [],
   "source": [
    "x = 3 ; y = 7 ; print('Result:', x) # 可以這樣寫用分號隔開"
   ]
  },
  {
   "cell_type": "code",
   "execution_count": null,
   "metadata": {},
   "outputs": [],
   "source": [
    "# 要知道 pass 的用法\n",
    "pass"
   ]
  },
  {
   "cell_type": "code",
   "execution_count": null,
   "metadata": {},
   "outputs": [],
   "source": [
    "total = 11+ 12+ 13+ 14\\\n",
    "+15 + 16"
   ]
  },
  {
   "cell_type": "code",
   "execution_count": null,
   "metadata": {},
   "outputs": [],
   "source": [
    "total"
   ]
  },
  {
   "cell_type": "code",
   "execution_count": null,
   "metadata": {},
   "outputs": [],
   "source": [
    "total = 11+ 12+ 13+ 14\n",
    "+15 + 16"
   ]
  },
  {
   "cell_type": "code",
   "execution_count": null,
   "metadata": {},
   "outputs": [],
   "source": [
    "total"
   ]
  },
  {
   "cell_type": "markdown",
   "metadata": {},
   "source": [
    "## 慣例上 #後面沒有空白，代表是暫時註解；#後面有空白，代表是正式註解(來自於Linux的慣例)"
   ]
  },
  {
   "cell_type": "code",
   "execution_count": null,
   "metadata": {},
   "outputs": [],
   "source": [
    "# comment\n",
    "#temporary comment"
   ]
  },
  {
   "cell_type": "markdown",
   "metadata": {},
   "source": [
    "## if 單向判斷式的使用"
   ]
  },
  {
   "cell_type": "code",
   "execution_count": null,
   "metadata": {},
   "outputs": [],
   "source": [
    "pw = input(\"請輸入密碼：\")\n",
    "if (pw == \"1234\"):\n",
    "    print(\"歡迎光臨！\")"
   ]
  },
  {
   "cell_type": "code",
   "execution_count": null,
   "metadata": {},
   "outputs": [],
   "source": [
    "s = int(input('Input score: ')) # 要輸入浮點數的話 => eval(input('Input score: '))\n",
    "\n",
    "if s < 60:\n",
    "    print('Put more effort!')\n",
    "\n",
    "print('Exam score is', s) "
   ]
  },
  {
   "cell_type": "markdown",
   "metadata": {},
   "source": [
    "## if-else 雙向判斷式的使用"
   ]
  },
  {
   "cell_type": "code",
   "execution_count": null,
   "metadata": {},
   "outputs": [],
   "source": [
    "pw = input(\"請輸入密碼：\")\n",
    "if(pw == \"1234\"):\n",
    "    print(\"歡迎光臨！\")\n",
    "else:\n",
    "    print(\"密碼錯誤！\")"
   ]
  },
  {
   "cell_type": "code",
   "execution_count": null,
   "metadata": {},
   "outputs": [],
   "source": [
    "s = int(input('Input score: '))\n",
    "\n",
    "if s >= 60:\n",
    "    print(\"Pass!\")\n",
    "else:\n",
    "    print(\"Not pass!\")"
   ]
  },
  {
   "cell_type": "markdown",
   "metadata": {},
   "source": [
    "## if-elif-else 多向判斷式的使用"
   ]
  },
  {
   "cell_type": "code",
   "execution_count": null,
   "metadata": {},
   "outputs": [],
   "source": [
    "x = 5\n",
    "if x < 10: # x = 5符合小於 10 的條件，程式會進入這個 if 結構中，執行敘述: print('x < 10')\n",
    "    print('x < 10')\n",
    "elif x < 20: # 雖然 x=5 符合小於 20 的條件，但是程式在上一個 if 條件中就已經進入結構裡了，所以就不會執行這個 elif 裡的敘述了\n",
    "    print('x < 20')\n",
    "elif x < 50:\n",
    "    print('x < 50')\n",
    "elif x < 100:\n",
    "    print('x < 100')"
   ]
  },
  {
   "cell_type": "code",
   "execution_count": null,
   "metadata": {},
   "outputs": [],
   "source": [
    "score = int(input(\"請輸入成績：\"))\n",
    "\n",
    "if(score) >= 90:\n",
    "    print(\"優等\")\n",
    "elif(score) >= 80:\n",
    "    print(\"甲等\")\n",
    "elif(score) >= 70:\n",
    "    print(\"乙等\")\n",
    "elif(score) >= 60:\n",
    "    print(\"丙等\")\n",
    "else:\n",
    "    print(\"丁等\")"
   ]
  },
  {
   "cell_type": "markdown",
   "metadata": {},
   "source": [
    "## 巢狀判斷式"
   ]
  },
  {
   "cell_type": "code",
   "execution_count": null,
   "metadata": {},
   "outputs": [],
   "source": [
    "money = int(input(\"請輸入購物金額：\"))\n",
    "\n",
    "if (money >= 10000):\n",
    "    if (money >= 100000):\n",
    "        print(f\"{money * 0.8} 元\")  #八折\n",
    "    elif (money >= 50000):\n",
    "        print(f\"{money * 0.85} 元\")  #八五折\n",
    "    elif (money >= 30000):\n",
    "        print(f\"{money * 0.9} 元\")  #九折\n",
    "    else:\n",
    "        print(f\"{money * 0.95} 元\")  #九五折\n",
    "else:\n",
    "    print(f\"{money} 元\")  #未打折"
   ]
  },
  {
   "cell_type": "code",
   "execution_count": null,
   "metadata": {},
   "outputs": [],
   "source": [
    "num = int(input('enter number'))\n",
    "if num%2 == 0:\n",
    "    if num%3 == 0:\n",
    "        print('Divisible by 3 and 2')\n",
    "    else:\n",
    "        print('Divisible by 2, not divisible by 3')\n",
    "else:\n",
    "    if num%3 == 0:\n",
    "        print('Divisible by 3, not divisible by 2')\n",
    "    else:\n",
    "        print('Not Divisible by 2, not divisible by 3')"
   ]
  },
  {
   "cell_type": "markdown",
   "metadata": {},
   "source": [
    "---"
   ]
  },
  {
   "cell_type": "code",
   "execution_count": null,
   "metadata": {},
   "outputs": [],
   "source": [
    "var = 60\n",
    "if var > 50:\n",
    "    print('Value more than 50')"
   ]
  },
  {
   "cell_type": "code",
   "execution_count": null,
   "metadata": {},
   "outputs": [],
   "source": [
    "var = 60\n",
    "# Only one statement\n",
    "if var > 50: print('Value more than 50')"
   ]
  },
  {
   "cell_type": "markdown",
   "metadata": {},
   "source": [
    "## 三元運算子\n",
    "## 先評估C的條件，如果 C 的結果為真則得到 x，否則結果為 y\n",
    ">### `x if C else y`"
   ]
  },
  {
   "cell_type": "code",
   "execution_count": null,
   "metadata": {},
   "outputs": [],
   "source": [
    "x = 10\n",
    "if x == 10:\n",
    "    y =3\n",
    "y"
   ]
  },
  {
   "cell_type": "code",
   "execution_count": null,
   "metadata": {},
   "outputs": [],
   "source": [
    "x = 7\n",
    "if x == 7:\n",
    "    y = 3\n",
    "else:\n",
    "    y = 5\n",
    "y"
   ]
  },
  {
   "cell_type": "code",
   "execution_count": null,
   "metadata": {},
   "outputs": [],
   "source": [
    "# 三元運算子\n",
    "# condition_is_true if condition else condition_is_false\n",
    "\n",
    "x = 9\n",
    "y = 3 if x == 7 else 5 # 後面沒有 y \n",
    "y "
   ]
  },
  {
   "cell_type": "code",
   "execution_count": null,
   "metadata": {},
   "outputs": [],
   "source": [
    "# conditional expression\n",
    "\n",
    "h = int(input('Enter hour(0-23): '))\n",
    "\n",
    "h = h%24 if h >= 24 else h\n",
    "\n",
    "print(f'Current time = {h}')"
   ]
  },
  {
   "cell_type": "code",
   "execution_count": null,
   "metadata": {},
   "outputs": [],
   "source": [
    "x = 6\n",
    "y = 10 if x == 5 else x + 6\n",
    "y"
   ]
  },
  {
   "cell_type": "code",
   "execution_count": null,
   "metadata": {},
   "outputs": [],
   "source": [
    "def max(a, b):\n",
    "    return a if a > b else b\n",
    "\n",
    "print(max(1, 2))\n",
    "print(max(3, 5))"
   ]
  },
  {
   "cell_type": "markdown",
   "metadata": {},
   "source": [
    "## 單一運算比二元運算快"
   ]
  },
  {
   "cell_type": "code",
   "execution_count": null,
   "metadata": {},
   "outputs": [],
   "source": [
    "%%timeit\n",
    "x = 5\n",
    "if x%2 == 0:\n",
    "    y=50\n",
    "else:\n",
    "    y=1"
   ]
  },
  {
   "cell_type": "code",
   "execution_count": null,
   "metadata": {},
   "outputs": [],
   "source": [
    "%%timeit\n",
    "x = 5\n",
    "if x%2: # 少判斷 ==0 的部分\n",
    "    y=50\n",
    "else:\n",
    "    y=1"
   ]
  }
 ],
 "metadata": {
  "kernelspec": {
   "display_name": "Python 3",
   "language": "python",
   "name": "python3"
  },
  "language_info": {
   "codemirror_mode": {
    "name": "ipython",
    "version": 3
   },
   "file_extension": ".py",
   "mimetype": "text/x-python",
   "name": "python",
   "nbconvert_exporter": "python",
   "pygments_lexer": "ipython3",
   "version": "3.9.5"
  }
 },
 "nbformat": 4,
 "nbformat_minor": 2
}
