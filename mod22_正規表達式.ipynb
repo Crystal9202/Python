{
 "cells": [
  {
   "cell_type": "markdown",
   "id": "b43321b6",
   "metadata": {},
   "source": [
    "#  <font color=red> Module_22_正規表達式</font>"
   ]
  },
  {
   "cell_type": "markdown",
   "id": "dad92120",
   "metadata": {},
   "source": [
    "## 傳統方法"
   ]
  },
  {
   "cell_type": "code",
   "execution_count": null,
   "id": "98238dd4",
   "metadata": {},
   "outputs": [],
   "source": [
    "# 行動電話號碼格式檢查\n",
    "\n",
    "def isTaiwanPhone(str):\n",
    "    if len(str) != 11:       # 如果長度不是11\n",
    "        return False         # 傳回非手機號碼格式\n",
    "    #檢查11個字元是否符合手機號碼格式\n",
    "    for i in range(0, 11):    \n",
    "        if i==4:\n",
    "            if str[4] != '-':        # 如果第5個字元不是'-'字元\n",
    "                return False         # 傳回非手機號碼格式\n",
    "        else: # 如果前4個字或最後6個字出現非數字字元\n",
    "            if str[i].isdecimal() == False:\n",
    "                return False     # 傳回非手機號碼格式\n",
    "    return True                  # 傳回是正確手機號碼格式        "
   ]
  },
  {
   "cell_type": "code",
   "execution_count": null,
   "id": "4b9acb53",
   "metadata": {},
   "outputs": [],
   "source": [
    "print(\"0937-123456 是台灣手機號碼：\", isTaiwanPhone('0934-123456'))\n",
    "print(\"02-12345678 是台灣手機號碼：\", isTaiwanPhone('02-12345678'))"
   ]
  },
  {
   "cell_type": "markdown",
   "id": "bf582ddb",
   "metadata": {},
   "source": [
    "## 正規表達式"
   ]
  },
  {
   "cell_type": "code",
   "execution_count": null,
   "id": "eb64610b",
   "metadata": {},
   "outputs": [],
   "source": [
    "# . : 代表一個除了換列字元 \\n 以外的所有字元\n",
    "# ^ : 代表輸入列的開始\n",
    "# $ : 代表輸入列的結束\n",
    "# * : 代表前一個項目可以出面 0 次或是無限多次\n",
    "# + : 代表前一個項目可以出面 1 次或是無限多次\n",
    "# ? : 代表前一個項目可以出面 0 次或是 1 次\n",
    "# [abc] : 代表符合 a 或 b 或 c 的任何字元\n",
    "# [a-z] : 代表符合 a、b、c~z的任何字元\n",
    "# \\ : 代表後面的字元以一般字元處理，也就是所謂的跳脫\n",
    "# {m} : 代表前面一個項目正好出現 m 次\n",
    "# {m, } : 代表前面一個項目至少出現 m 次，最多無限多次\n",
    "# {m, n} : 代表前面一個項目至少出現 m 次，最多出現 n 次\n",
    "# ^ : 反運算，例如 [^a-d]代表除了 a、b、c、d 以外的所有字元\n",
    "# \\d : 數字字元，相當於 [0-9]\n",
    "# \\D : 非數字字元， 相當於 [^0-9]\n",
    "# \\n : 換列字元\n",
    "# \\r : 回列首字元\n",
    "# \\t : tab 定位字元\n",
    "# \\s : 空白、定位、Tab鍵、跳列、換頁字元，相當於 [\\r\\t\\n\\f]\n",
    "# \\S : 非空白、定位、Tab鍵、跳列、換頁字元，相當於 [^\\r\\t\\n\\f]\n",
    "# \\w : 數字、字母或底線字元，相當於 [0-9a-zA-Z_]\n",
    "# \\W : 非數字、字母或底線字元，相當於 [0-9a-zA-Z_]"
   ]
  },
  {
   "cell_type": "code",
   "execution_count": null,
   "id": "f082d8b0",
   "metadata": {},
   "outputs": [],
   "source": [
    "# 範例\n",
    "\n",
    "# 整數 : [0-9]+\n",
    "# 有小數點的小數 : [0-9]+\\.[0-9]+\n",
    "# 英文單字 : [A-Za-z]+\n",
    "# 變數名稱 : [A-Za-z_][A-Za-z0-9_]*\n",
    "# Email : [a-zA-Z0-9_]+@[a-zA-Z0-9\\._]+\n",
    "# Url : http://[a-zA-Z0-9\\./_]+"
   ]
  },
  {
   "cell_type": "code",
   "execution_count": null,
   "id": "79d267b0",
   "metadata": {},
   "outputs": [],
   "source": [
    "# 實用的正規表達式網站 : http://pythex.org/"
   ]
  },
  {
   "cell_type": "markdown",
   "id": "66919baa",
   "metadata": {},
   "source": [
    "## 建立正規表達式的物件\n",
    "## import re \n",
    "##  正規表達式物件 = re.compile(r '正規表達式')\n",
    "###  正規表達式物件得方法   match(string) / search(string) /findall()"
   ]
  },
  {
   "cell_type": "markdown",
   "id": "f3c64e8d",
   "metadata": {},
   "source": [
    "## match 方法"
   ]
  },
  {
   "cell_type": "code",
   "execution_count": null,
   "id": "df827b3d",
   "metadata": {},
   "outputs": [],
   "source": [
    "# match() : 由字串起頭開始傳回指定字串中符合正規表達式的字串，直到不符合字元為止，並把結果存入 MatchObject 物件中，若無符合的字元，則傳回 None\n",
    "\n",
    "import re\n",
    "\n",
    "pattern = re.compile(r'[a-z]+') # 習慣加 r 讓 \\ 可以跳脫\n",
    "m = pattern.match('tem12po')\n",
    "print(m)"
   ]
  },
  {
   "cell_type": "markdown",
   "id": "7556f4ce",
   "metadata": {},
   "source": [
    "### MatchObject物件的方法如下:"
   ]
  },
  {
   "cell_type": "code",
   "execution_count": null,
   "id": "8d18b846",
   "metadata": {},
   "outputs": [],
   "source": [
    "# group() : 傳回符合正規表達式的字串，若無符合字元，則傳回 None\n",
    "# start() : 傳回 match 的開始位置\n",
    "# end() : 傳回 match 的結束位置\n",
    "# span() : 傳回 (開始位置, 結束位置) 的元祖\n",
    "\n",
    "print(m.group())\n",
    "print(m.start())\n",
    "print(m.end())\n",
    "print(m.span())"
   ]
  },
  {
   "cell_type": "markdown",
   "id": "991cefd2",
   "metadata": {},
   "source": [
    "## search 方法"
   ]
  },
  {
   "cell_type": "code",
   "execution_count": 1,
   "id": "d9bf42c2",
   "metadata": {},
   "outputs": [
    {
     "name": "stdout",
     "output_type": "stream",
     "text": [
      "<re.Match object; span=(1, 4), match='tem'>\n"
     ]
    }
   ],
   "source": [
    "# search() : 傳回指定字串中第一組符合正規表達式的字串，並把結果存入 MatchObject 物件中，若無符合字元，傳回 None。\n",
    "\n",
    "import re\n",
    "\n",
    "pattern = re.compile(r'[a-z]+')\n",
    "m = pattern.search('3tem13po')\n",
    "print(m)"
   ]
  },
  {
   "cell_type": "code",
   "execution_count": 2,
   "id": "4c112319",
   "metadata": {},
   "outputs": [
    {
     "name": "stdout",
     "output_type": "stream",
     "text": [
      "tem\n",
      "1\n",
      "4\n",
      "(1, 4)\n"
     ]
    }
   ],
   "source": [
    "if m:\n",
    "    print(m.group())\n",
    "    print(m.start())\n",
    "    print(m.end())\n",
    "    print(m.span())"
   ]
  },
  {
   "cell_type": "markdown",
   "id": "e1373648",
   "metadata": {},
   "source": [
    "## findall 方法"
   ]
  },
  {
   "cell_type": "code",
   "execution_count": 3,
   "id": "4d33180a",
   "metadata": {},
   "outputs": [
    {
     "name": "stdout",
     "output_type": "stream",
     "text": [
      "['tem', 'po']\n"
     ]
    }
   ],
   "source": [
    "# findall() : 傳回指定字串中所有符合正規表達式的字串，並傳回一個列表，若無符合字元，傳回空的列表\n",
    "\n",
    "import re\n",
    "\n",
    "pattern = re.compile(r'[a-z]+')\n",
    "m = pattern.findall('tem12po')\n",
    "print(m)"
   ]
  },
  {
   "cell_type": "markdown",
   "id": "646bb530",
   "metadata": {},
   "source": [
    "## 使用re模組建立隱含正規表達式的物件"
   ]
  },
  {
   "cell_type": "markdown",
   "id": "c7250a79",
   "metadata": {},
   "source": [
    "## 變數=re.方法(正規表達式，搜尋字串 [,flags])\n",
    "\n",
    "### 第三個參數 可有可無，\n",
    "#### re.I /re.IGNORECASE :不分大小寫的方式搜尋\n",
    "#### re.DOTALL :搜尋時忽略換列字元\n",
    "#### re.VERBOSE :在正規表達式加上註解"
   ]
  },
  {
   "cell_type": "code",
   "execution_count": null,
   "id": "d03a0cdd",
   "metadata": {},
   "outputs": [],
   "source": [
    "import re\n",
    "\n",
    "pattern = r'[a-z]+'\n",
    "m = re.match(pattern, 'tem12po')\n",
    "print(m)"
   ]
  },
  {
   "cell_type": "code",
   "execution_count": 5,
   "id": "b7fd1f9b",
   "metadata": {},
   "outputs": [
    {
     "name": "stdout",
     "output_type": "stream",
     "text": [
      "<re.Match object; span=(1, 4), match='tem'>\n"
     ]
    }
   ],
   "source": [
    "import re\n",
    "\n",
    "pattern = r'[a-z]+'\n",
    "m = re.search(pattern, '3tem12po')\n",
    "print(m)"
   ]
  },
  {
   "cell_type": "code",
   "execution_count": 6,
   "id": "2c358a20",
   "metadata": {},
   "outputs": [
    {
     "name": "stdout",
     "output_type": "stream",
     "text": [
      "['tem', 'po']\n"
     ]
    }
   ],
   "source": [
    "import re\n",
    "\n",
    "pattern = r'[a-z]+'\n",
    "m = re.findall(pattern, 'tem12po')\n",
    "print(m)"
   ]
  },
  {
   "cell_type": "markdown",
   "id": "27079fff",
   "metadata": {},
   "source": [
    "## 使用小括號分組"
   ]
  },
  {
   "cell_type": "code",
   "execution_count": 8,
   "id": "e3be9977",
   "metadata": {},
   "outputs": [
    {
     "name": "stdout",
     "output_type": "stream",
     "text": [
      "04-12345678\n",
      "04-12345678\n",
      "04\n",
      "12345678\n"
     ]
    }
   ],
   "source": [
    "# group() 與 group(0) 傳回完整的搜尋字串\n",
    "# group(1) 傳回分組後的第一組\n",
    "# group(2) 傳回分組後的第二組\n",
    "\n",
    "import re\n",
    "\n",
    "numStr = \"tel:04-12345678\"\n",
    "pattern = r'(\\d{2})-(\\d{8})'\n",
    "\n",
    "phone = re.search(pattern, numStr)\n",
    "if not phone == None:\n",
    "    print(phone.group()) \n",
    "    print(phone.group(0))\n",
    "    print(phone.group(1))\n",
    "    print(phone.group(2)) "
   ]
  },
  {
   "cell_type": "code",
   "execution_count": null,
   "id": "7cc102a6",
   "metadata": {},
   "outputs": [],
   "source": [
    "import re\n",
    "\n",
    "numStr = \"tel:(04)12345678\"\n",
    "pattern = r'(\\(\\d{2}\\))(\\d{8})'\n",
    "\n",
    "phone = re.search(pattern, numStr)\n",
    "if not phone == None:\n",
    "    print(phone.group())  \n",
    "    print(phone.group(1))\n",
    "    print(phone.group(2)) "
   ]
  },
  {
   "cell_type": "code",
   "execution_count": 16,
   "id": "23db0b25",
   "metadata": {},
   "outputs": [
    {
     "name": "stdout",
     "output_type": "stream",
     "text": [
      "[('isaac60103@gmail.com', 'isaac60103', 'gmail.com'), ('isaac60103@hotmail.com', 'isaac60103', 'hotmail.com'), ('kevin@yahoo.com', 'kevin', 'yahoo.com')]\n"
     ]
    }
   ],
   "source": [
    "import re\n",
    "\n",
    "pattern = \"(([A-Za-z0-9._]+)@([A-Za-z.]+))\"\n",
    "string = 'isaac60103@gmail.com, isaac60103@hotmail.com, kevin@yahoo.com'\n",
    "match = re.findall(pattern, string)\n",
    "print(match)"
   ]
  },
  {
   "cell_type": "code",
   "execution_count": 17,
   "id": "4cbda969",
   "metadata": {},
   "outputs": [
    {
     "name": "stdout",
     "output_type": "stream",
     "text": [
      "(04)12345678\n",
      "(04)\n",
      "12345678\n",
      "(04)-12345678\n",
      "(04)\n",
      "12345678\n"
     ]
    }
   ],
   "source": [
    "# 利用 ? 字元搜尋\n",
    "# -?  表示 - 可出現0次或1次(可有可無)\n",
    "\n",
    "\n",
    "import re\n",
    "\n",
    "phoneList = [\"(04)12345678\",\"(04)-12345678\"]\n",
    "pat = r'(\\(\\d{2}\\))-?(\\d{8})'\n",
    "\n",
    "for phone in phoneList:\n",
    "    phoneNum = re.search(pat, phone)\n",
    "    if not phoneNum == None:\n",
    "        print(phoneNum.group())\n",
    "        print(phoneNum.group(1))\n",
    "        print(phoneNum.group(2))"
   ]
  },
  {
   "cell_type": "markdown",
   "id": "051c1b2c",
   "metadata": {},
   "source": [
    "## 使用 | 字元搜尋"
   ]
  },
  {
   "cell_type": "code",
   "execution_count": 18,
   "id": "74f4f0e4",
   "metadata": {},
   "outputs": [
    {
     "name": "stdout",
     "output_type": "stream",
     "text": [
      "0412345678\n",
      "(04)12345678\n",
      "(04)-12345678\n",
      "(049)2987654\n",
      "0937-998877\n"
     ]
    }
   ],
   "source": [
    "# | 字元稱為管道(pipe)，表示可以同時搜索跟比對多個正規表達式\n",
    "\n",
    "import re\n",
    "\n",
    "phoneList = [\"0412345678\",\"(04)12345678\",\"(04)-12345678\",\"(049)2987654\",\"0937-998877\"]\n",
    "pattern = r'\\(\\d{2,4}\\)-?\\d{6,8}|\\d{9,10}|\\d{4}-\\d{6,8}'\n",
    "\n",
    "for phone in phoneList:\n",
    "    phoneNum = re.search(pattern, phone)\n",
    "    if not phoneNum == None:\n",
    "        print(phoneNum.group())\n"
   ]
  },
  {
   "cell_type": "markdown",
   "id": "54249526",
   "metadata": {},
   "source": [
    "## 其他常見的符號使用方式"
   ]
  },
  {
   "cell_type": "code",
   "execution_count": 19,
   "id": "a95e2f47",
   "metadata": {},
   "outputs": [
    {
     "name": "stdout",
     "output_type": "stream",
     "text": [
      "['18', '++']\n"
     ]
    }
   ],
   "source": [
    "# 中括號 [] 框住的內容代表合法的字元群\n",
    "\n",
    "import re\n",
    "\n",
    "pattern = r'[0-9+]+'\n",
    "s = \"Amy was 18 year old, she likes Python and C++.\"\n",
    "m = re.findall(pattern, s)\n",
    "print(m) "
   ]
  },
  {
   "cell_type": "code",
   "execution_count": 20,
   "id": "b7bc8ea2",
   "metadata": {},
   "outputs": [
    {
     "name": "stdout",
     "output_type": "stream",
     "text": [
      "['', '', 'o', '', '', 'i', '', '', '', '', '', '', 'e', '', '', '', '', '', 'ie', '', '', '', '']\n"
     ]
    }
   ],
   "source": [
    "# * 符號設定為搜尋字元可以出現 0 次到無限多次\n",
    "#找不到會傳回 空字串\n",
    "\n",
    "import re\n",
    "\n",
    "pattern = re.compile(r'[aeiou]*')\n",
    "s = \"Jhon is my best friend.\"\n",
    "m = re.findall(pattern, s)\n",
    "print(m) "
   ]
  },
  {
   "cell_type": "code",
   "execution_count": 21,
   "id": "55576ace",
   "metadata": {},
   "outputs": [
    {
     "name": "stdout",
     "output_type": "stream",
     "text": [
      "['o', 'i', 'e', 'ie']\n"
     ]
    }
   ],
   "source": [
    "#  + 符號設定為搜尋字元可以出現 1 次到無限多次\n",
    "\n",
    "import re\n",
    "\n",
    "pattern = re.compile(r'[aeiou]+')\n",
    "s = \"John is my best friend.\"\n",
    "m = re.findall(pattern, s)\n",
    "print(m) "
   ]
  },
  {
   "cell_type": "code",
   "execution_count": 22,
   "id": "d8224c4a",
   "metadata": {},
   "outputs": [
    {
     "name": "stdout",
     "output_type": "stream",
     "text": [
      "['Python', 'Android']\n"
     ]
    }
   ],
   "source": [
    "# 忽略大小寫的搜尋\n",
    "# match()、search()、findall() 三方法中若第三個參數加入 re.I or re.IGNORECASE，就會不分大小寫搜尋，但搜尋結果仍會'以原字串的格式'傳回\n",
    "\n",
    "import re\n",
    "\n",
    "pattern = r'PYTHON|ANDROID'\n",
    "s = \"I like Python and Android!\"\n",
    "m = re.findall(pattern, s , re.I)\n",
    "print(m)"
   ]
  },
  {
   "cell_type": "code",
   "execution_count": 23,
   "id": "4354c749",
   "metadata": {},
   "outputs": [
    {
     "name": "stdout",
     "output_type": "stream",
     "text": [
      "['J', '18']\n"
     ]
    }
   ],
   "source": [
    "# 在中括號 [] 字元分類中的第一個字元加上 ^ 字元，表示是 not，也就是表示搜尋不在字元分類中的字元\n",
    "\n",
    "import re\n",
    "\n",
    "pattern = r'[^a-z. ]+'\n",
    "s = \"John was 18 year old.\"\n",
    "m = re.findall(pattern, s)\n",
    "print(m)"
   ]
  },
  {
   "cell_type": "code",
   "execution_count": 1,
   "id": "34114004",
   "metadata": {},
   "outputs": [
    {
     "name": "stdout",
     "output_type": "stream",
     "text": [
      "['2020']\n",
      "['soon']\n"
     ]
    }
   ],
   "source": [
    "# ^ 表示指定的正規表達式必須出現在被搜尋字串的起始位置\n",
    "# $ 表示指定的正規表達式必須出現在被搜尋字串的結尾位置\n",
    "\n",
    "import re\n",
    "\n",
    "pattern = r'^\\d+'\n",
    "s = \"2020 is coming soon\"\n",
    "m = re.findall(pattern, s)\n",
    "print(m) \n",
    "m2 = re.findall(r'\\w+$', s)\n",
    "print(m2) "
   ]
  },
  {
   "cell_type": "code",
   "execution_count": 2,
   "id": "d7aecbaa",
   "metadata": {},
   "outputs": [
    {
     "name": "stdout",
     "output_type": "stream",
     "text": [
      "No match\n"
     ]
    }
   ],
   "source": [
    "#直接把正規表達式寫在re.match()方法裡\n",
    "\n",
    "import re\n",
    "\n",
    "txt = \"ABC123 The rain in Spain\"\n",
    "m = re.match(\"^The.*Spain$\", txt)\n",
    "\n",
    "if (m):\n",
    "    print(\"YES! We have a match!\")\n",
    "else:\n",
    "    print(\"No match\")"
   ]
  },
  {
   "cell_type": "code",
   "execution_count": 3,
   "id": "d5943ca3",
   "metadata": {},
   "outputs": [
    {
     "name": "stdout",
     "output_type": "stream",
     "text": [
      "The first white-space character is located in position: 3\n"
     ]
    }
   ],
   "source": [
    "#這裡詢問的是 x是第幾個index\n",
    "\n",
    "\n",
    "import re\n",
    "\n",
    "txt = \"The rain in Spain\"\n",
    "x = re.search(\"\\s\", txt)\n",
    "print(\"The first white-space character is located in position:\", x.start()) "
   ]
  },
  {
   "cell_type": "code",
   "execution_count": 4,
   "id": "6f7ee09b",
   "metadata": {},
   "outputs": [
    {
     "name": "stdout",
     "output_type": "stream",
     "text": [
      "['aabc', 'ac', 'aabbc']\n"
     ]
    }
   ],
   "source": [
    "#a一次以上 b 0次以上  c\n",
    "\n",
    "\n",
    "import re\n",
    "\n",
    "pattern = \"a+b*c\"\n",
    "string = 'aabc, ac, aabbccc abb, dd'\n",
    "match = re.findall(pattern, string)\n",
    "print(match)"
   ]
  },
  {
   "cell_type": "code",
   "execution_count": 6,
   "id": "357319be",
   "metadata": {},
   "outputs": [
    {
     "name": "stdout",
     "output_type": "stream",
     "text": [
      "['Do', 'yo']\n",
      "['Do yo']\n"
     ]
    }
   ],
   "source": [
    "# 正規表達式中 . 與 .* 的差別\n",
    "#.  表示一個除了\\n以外的字元\n",
    "#.* 表示除了\\n以外的所有字元\n",
    "#.o  表示搜尋2個字元\n",
    "#.*o 表示搜尋2個或2個以上字元\n",
    "\n",
    "import re\n",
    "\n",
    "pattern = r'.o'\n",
    "s = \"Do your best!\"\n",
    "m = re.findall(pattern, s)\n",
    "print(m) \n",
    "m2 = re.findall(r'.*o', s)\n",
    "print(m2) "
   ]
  },
  {
   "cell_type": "code",
   "execution_count": 7,
   "id": "31fc1edf",
   "metadata": {},
   "outputs": [
    {
     "name": "stdout",
     "output_type": "stream",
     "text": [
      "['.ya', '.co', '.tw', '.nt', '.ed', '.tw', '.te', '.go', '.tw']\n"
     ]
    }
   ],
   "source": [
    "#\\. 跳多萬用字元，變成單純的.\n",
    "#.{2} 2個字元\n",
    "\n",
    "import re\n",
    "\n",
    "pattern = \"\\..{2}\"\n",
    "string = 'www.yahoo.com.tw , www.ntu.edu.tw , www.test.gov.tw'\n",
    "match = re.findall(pattern, string)\n",
    "print(match)"
   ]
  },
  {
   "cell_type": "code",
   "execution_count": 8,
   "id": "36f03f31",
   "metadata": {},
   "outputs": [
    {
     "name": "stdout",
     "output_type": "stream",
     "text": [
      "Do your best,\n",
      "Do your best,\n",
      "Go Go Go!\n"
     ]
    }
   ],
   "source": [
    "# re.DOTALL 可以加入 match()、search()、findall()方法的第三個參數中\n",
    "# 加入第三個參數 re.DOTALL 就不會因換列字元停止搜尋\n",
    "\n",
    "import re\n",
    "\n",
    "pattern = r'.*'\n",
    "s = \"Do your best,\\nGo Go Go!\"\n",
    "m = re.search(pattern, s)\n",
    "print(m.group())\n",
    "m2 = re.search(r'.*', s, re.DOTALL)\n",
    "print(m2.group()) "
   ]
  },
  {
   "cell_type": "code",
   "execution_count": 9,
   "id": "2557773a",
   "metadata": {},
   "outputs": [
    {
     "name": "stdout",
     "output_type": "stream",
     "text": [
      "0412345678\n",
      "(04)12345678\n",
      "(04)-12345678\n",
      "(049)2987654\n",
      "0937-998877\n"
     ]
    }
   ],
   "source": [
    "# 以 re.VERBOSE 參數為正規表達式加上註解\n",
    "# 以 | 管道 可同時搜尋比對多個正規表達式\n",
    "\n",
    "\n",
    "import re\n",
    "\n",
    "phoneList = [\"0412345678\",\"(04)12345678\",\"(04)-12345678\",\"(049)2987654\",\"0937-998877\"]\n",
    "pattern = r'''\n",
    "\\(\\d{2,4}\\)-?\\d{6,8}  #(04)12345678、(04)-12345678、(049)2987654 等電話格式\n",
    "|\\d{9,10}             #0412345678 等含 9~10 位數字\n",
    "|\\d{4}-\\d{6,8}        #0937-998877 等手機格式\n",
    "'''\n",
    "\n",
    "for phone in phoneList:\n",
    "    phoneNum = re.search(pattern, phone, re.VERBOSE)\n",
    "    if not phoneNum==None:\n",
    "        print(phoneNum.group())"
   ]
  },
  {
   "cell_type": "code",
   "execution_count": 10,
   "id": "7550692b",
   "metadata": {},
   "outputs": [
    {
     "name": "stdout",
     "output_type": "stream",
     "text": [
      "Password:*,ID:*\n"
     ]
    }
   ],
   "source": [
    "# 使用 re.sub() 取代字串\n",
    "# result = re.sub(pattern, repl, string, count = 0)\n",
    "# pattern 表示正規表達式\n",
    "# repl 表示新的字串，repl 可是字串可是函式\n",
    "# string 表示被搜尋的字串\n",
    "# count 表示取代的次數，預設為 0 表示全部取代\n",
    "\n",
    "#數字都以 * 替代\n",
    "\n",
    "\n",
    "import re\n",
    "\n",
    "pattern = r\"\\d+\"\n",
    "substr = \"*\"\n",
    "s = \"Password:1234,ID:5678\"\n",
    "result = re.sub(pattern, substr, s)\n",
    "print(result)"
   ]
  },
  {
   "cell_type": "code",
   "execution_count": 15,
   "id": "c954851d",
   "metadata": {},
   "outputs": [
    {
     "name": "stdout",
     "output_type": "stream",
     "text": [
      "20 40 60 40 50\n"
     ]
    }
   ],
   "source": [
    "#repl 也可以使用函式\n",
    "#將 字串中前3組數字都以multiply()函式*2\n",
    "\n",
    "\n",
    "import re\n",
    "\n",
    "def multiply(m):\n",
    "    v = int(m.group())\n",
    "    return str(v * 2)\n",
    "\n",
    "result = re.sub(\"\\d+\", multiply, \"10 20 30 40 50\", 3)\n",
    "print(result)"
   ]
  },
  {
   "cell_type": "code",
   "execution_count": 25,
   "id": "fbf492b5",
   "metadata": {},
   "outputs": [
    {
     "name": "stdout",
     "output_type": "stream",
     "text": [
      "mail@test.com.tw\n",
      "mail2@test.com.tw\n"
     ]
    }
   ],
   "source": [
    "# 正規表達式的應用\n",
    "#結合網路爬蟲，在網路上擷取資料，再以正規表達式選出符合需求的資料\n",
    "\n",
    "\n",
    "html = \"\"\"\n",
    "<div class=\"content\">\n",
    "    E-Mail：<a href=\"mailto:mail@test.com.tw\">mail</a><br>\n",
    "    E-Mail2：<a href=\"mailto:mail2@test.com.tw\">mail2</a><br>\n",
    "    <ul class=\"price\">定價：360元 </ul>\n",
    "    <img src=\"http://test.com.tw/p1.jpg\">\n",
    "    <img src=\"http://test.com.tw/p2.jpg\">\n",
    "    <img src=\"http://test.com.tw/p3.png\">\n",
    "    電話：(04)-76543210、0937-123456\n",
    "</div>\n",
    "\"\"\"\n",
    "\n",
    "import re\n",
    "\n",
    "emails = re.findall(r'[a-zA-Z0-9_.+-]+@[a-zA-Z0-9-]+\\.[a-zA-Z0-9-.]+', html)\n",
    "for email in emails: # 顯示 email\n",
    "    print(email)"
   ]
  },
  {
   "cell_type": "code",
   "execution_count": null,
   "id": "4b21e98d",
   "metadata": {},
   "outputs": [],
   "source": [
    "price=re.findall(r'[\\d]+元', html)[0].split('元')[0] # 價格\n",
    "print(price) # 顯示定價金額"
   ]
  },
  {
   "cell_type": "code",
   "execution_count": null,
   "id": "55ef6cbb",
   "metadata": {},
   "outputs": [],
   "source": [
    "imglist = re.findall(r'[http://]+[a-zA-Z0-9-/.]+\\.[jpgpng]+', html)\n",
    "for img in imglist: \n",
    "    print(img) # 顯示圖片網址"
   ]
  },
  {
   "cell_type": "code",
   "execution_count": null,
   "id": "ee21be98",
   "metadata": {},
   "outputs": [],
   "source": [
    "phonelist = re.findall(r'\\(?\\d{2,4}\\)?\\-\\d{6,8}', html)\n",
    "for phone in phonelist:\n",
    "    print(phone) # 顯示電話號碼 "
   ]
  },
  {
   "cell_type": "code",
   "execution_count": 16,
   "id": "d336e2fd",
   "metadata": {},
   "outputs": [
    {
     "name": "stdout",
     "output_type": "stream",
     "text": [
      "[['ya87@yahoo.com.tw'], ['Crystal123@gmail.com']]\n"
     ]
    }
   ],
   "source": [
    "# 正規表達式的應用\n",
    "\n",
    "import re\n",
    "\n",
    "with open('./mod22/book_data.txt', mode = 'r', encoding = 'utf-8') as f:\n",
    "    mailList = []\n",
    "    for line in f: \n",
    "#         print(line, end='')\n",
    "        pattern = r'[A-Za-z0-9_]+@[A-Za-z0-9\\.]+'\n",
    "        m =re.findall(pattern, line)\n",
    "        if m:\n",
    "            mailList.append(m)\n",
    "            \n",
    "print(mailList)"
   ]
  },
  {
   "cell_type": "code",
   "execution_count": null,
   "id": "dabb6a85",
   "metadata": {},
   "outputs": [],
   "source": []
  }
 ],
 "metadata": {
  "kernelspec": {
   "display_name": "Python 3",
   "language": "python",
   "name": "python3"
  },
  "language_info": {
   "codemirror_mode": {
    "name": "ipython",
    "version": 3
   },
   "file_extension": ".py",
   "mimetype": "text/x-python",
   "name": "python",
   "nbconvert_exporter": "python",
   "pygments_lexer": "ipython3",
   "version": "3.9.5"
  }
 },
 "nbformat": 4,
 "nbformat_minor": 5
}
